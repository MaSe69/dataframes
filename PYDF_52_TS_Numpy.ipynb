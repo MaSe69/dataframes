{
 "cells": [
  {
   "cell_type": "markdown",
   "metadata": {},
   "source": [
    "\n",
    "# Timeseries - Foundations on Numpy"
   ]
  },
  {
   "cell_type": "code",
   "execution_count": 1,
   "metadata": {},
   "outputs": [],
   "source": [
    "import numpy as np\n",
    "np.random.seed(12345)\n",
    "import matplotlib.pyplot as plt\n",
    "plt.rc('figure', figsize=(5, 4))\n",
    "np.set_printoptions(precision=2, suppress=True)\n",
    "from datetime import datetime"
   ]
  },
  {
   "cell_type": "markdown",
   "metadata": {},
   "source": [
    "## Numpy\n"
   ]
  },
  {
   "cell_type": "code",
   "execution_count": 2,
   "metadata": {},
   "outputs": [
    {
     "name": "stdout",
     "output_type": "stream",
     "text": [
      "2021-05 2021-06\n"
     ]
    }
   ],
   "source": [
    "### Numpy and datetime\n",
    "firstDate = np.datetime64('2021-05')\n",
    "secondDate = np.datetime64('2021-06')\n",
    "print(firstDate, secondDate)"
   ]
  },
  {
   "cell_type": "code",
   "execution_count": 3,
   "metadata": {},
   "outputs": [
    {
     "name": "stdout",
     "output_type": "stream",
     "text": [
      "1 months\n"
     ]
    }
   ],
   "source": [
    "diff = secondDate - firstDate\n",
    "print(diff)"
   ]
  },
  {
   "cell_type": "code",
   "execution_count": 4,
   "metadata": {},
   "outputs": [
    {
     "name": "stdout",
     "output_type": "stream",
     "text": [
      "2021-07\n"
     ]
    }
   ],
   "source": [
    "thirdDate = firstDate + 2\n",
    "print(thirdDate)"
   ]
  },
  {
   "cell_type": "code",
   "execution_count": 5,
   "metadata": {},
   "outputs": [
    {
     "name": "stdout",
     "output_type": "stream",
     "text": [
      "15 days\n"
     ]
    }
   ],
   "source": [
    "firstDay = np.datetime64('2021-05-01')\n",
    "secondDay = np.datetime64('2021-05-16')\n",
    "diffDays = secondDay - firstDay\n",
    "print(diffDays)"
   ]
  },
  {
   "cell_type": "code",
   "execution_count": 6,
   "metadata": {},
   "outputs": [
    {
     "name": "stdout",
     "output_type": "stream",
     "text": [
      "0 months\n"
     ]
    }
   ],
   "source": [
    "firstDay = np.datetime64('2021-05-01', 'M')\n",
    "secondDay = np.datetime64('2021-05-16', 'M')\n",
    "diffDays = secondDay - firstDay\n",
    "print(diffDays)"
   ]
  },
  {
   "cell_type": "code",
   "execution_count": 7,
   "metadata": {},
   "outputs": [
    {
     "data": {
      "text/plain": [
       "datetime.datetime(2024, 9, 3, 0, 0)"
      ]
     },
     "execution_count": 7,
     "metadata": {},
     "output_type": "execute_result"
    }
   ],
   "source": [
    "birthday = datetime(1969,12,1)\n",
    "now = datetime.now()\n",
    "delta = now - birthday\n",
    "delta.days\n",
    "from datetime import timedelta\n",
    "myDay20K = birthday + timedelta(20000)\n",
    "myDay20K"
   ]
  },
  {
   "cell_type": "markdown",
   "metadata": {},
   "source": [
    "## Numpy DateTime"
   ]
  },
  {
   "cell_type": "code",
   "execution_count": 8,
   "metadata": {},
   "outputs": [
    {
     "name": "stdout",
     "output_type": "stream",
     "text": [
      "2021-03-18 20:24:16.968748\n"
     ]
    }
   ],
   "source": [
    "# import datetime class from datetime module\n",
    "from datetime import datetime\n",
    "now = datetime.now()\n",
    "now = datetime.now()\n",
    "print(now)"
   ]
  },
  {
   "cell_type": "code",
   "execution_count": 9,
   "metadata": {},
   "outputs": [
    {
     "name": "stdout",
     "output_type": "stream",
     "text": [
      "2021-03-18\n"
     ]
    }
   ],
   "source": [
    "myDateformat = datetime.strftime(now, \"%Y-%m-%d\")\n",
    "print(myDateformat)"
   ]
  },
  {
   "cell_type": "code",
   "execution_count": 10,
   "metadata": {},
   "outputs": [
    {
     "name": "stdout",
     "output_type": "stream",
     "text": [
      "2021-05 2021-06\n"
     ]
    }
   ],
   "source": [
    "firstDate = np.datetime64('2021-05')\n",
    "secondDate = np.datetime64('2021-06')\n",
    "print(firstDate, secondDate)"
   ]
  },
  {
   "cell_type": "code",
   "execution_count": 11,
   "metadata": {},
   "outputs": [
    {
     "name": "stdout",
     "output_type": "stream",
     "text": [
      "1 months\n"
     ]
    }
   ],
   "source": [
    "diff = secondDate - firstDate\n",
    "print(diff)"
   ]
  },
  {
   "cell_type": "code",
   "execution_count": 12,
   "metadata": {},
   "outputs": [
    {
     "name": "stdout",
     "output_type": "stream",
     "text": [
      "2021-07\n"
     ]
    }
   ],
   "source": [
    "thirdDate = firstDate + 2\n",
    "print(thirdDate)"
   ]
  },
  {
   "cell_type": "code",
   "execution_count": 13,
   "metadata": {},
   "outputs": [
    {
     "name": "stdout",
     "output_type": "stream",
     "text": [
      "15 days\n"
     ]
    }
   ],
   "source": [
    "firstDay = np.datetime64('2021-05-01')\n",
    "secondDay = np.datetime64('2021-05-16')\n",
    "diffDays = secondDay - firstDay\n",
    "print(diffDays)"
   ]
  },
  {
   "cell_type": "code",
   "execution_count": 14,
   "metadata": {},
   "outputs": [
    {
     "name": "stdout",
     "output_type": "stream",
     "text": [
      "0 months\n"
     ]
    }
   ],
   "source": [
    "firstDay = np.datetime64('2021-05-01', 'M')\n",
    "secondDay = np.datetime64('2021-05-16', 'M')\n",
    "diffDays = secondDay - firstDay\n",
    "print(diffDays)"
   ]
  }
 ],
 "metadata": {
  "kernelspec": {
   "display_name": "Python 3",
   "language": "python",
   "name": "python3"
  },
  "language_info": {
   "codemirror_mode": {
    "name": "ipython",
    "version": 3
   },
   "file_extension": ".py",
   "mimetype": "text/x-python",
   "name": "python",
   "nbconvert_exporter": "python",
   "pygments_lexer": "ipython3",
   "version": "3.8.5"
  }
 },
 "nbformat": 4,
 "nbformat_minor": 4
}
