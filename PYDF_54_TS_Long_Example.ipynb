{
 "cells": [
  {
   "cell_type": "markdown",
   "metadata": {},
   "source": [
    "# Pandas - TS - Long Example"
   ]
  },
  {
   "cell_type": "code",
   "execution_count": 1,
   "metadata": {},
   "outputs": [],
   "source": [
    "import numpy as np\n",
    "import pandas as pd\n",
    "np.random.seed(12345)\n",
    "import matplotlib.pyplot as plt\n",
    "plt.rc('figure', figsize=(5, 4))\n",
    "PREVIOUS_MAX_ROWS = pd.options.display.max_rows\n",
    "pd.options.display.max_rows = 20\n",
    "np.set_printoptions(precision=4, suppress=True)"
   ]
  },
  {
   "cell_type": "markdown",
   "metadata": {},
   "source": [
    "## Longer TimeSeries"
   ]
  },
  {
   "cell_type": "code",
   "execution_count": 7,
   "metadata": {},
   "outputs": [
    {
     "data": {
      "text/plain": [
       "2020-01-31   -0.681932\n",
       "2020-02-29   -0.975061\n",
       "2020-03-31    0.675444\n",
       "2020-04-30   -0.257598\n",
       "2020-05-31   -0.289145\n",
       "                ...   \n",
       "2022-08-31   -0.010823\n",
       "2022-09-30   -0.198999\n",
       "2022-10-31    0.351470\n",
       "2022-11-30    0.473909\n",
       "2022-12-31    0.319496\n",
       "Freq: M, Length: 36, dtype: float64"
      ]
     },
     "execution_count": 7,
     "metadata": {},
     "output_type": "execute_result"
    }
   ],
   "source": [
    "longer_ts = pd.Series(np.random.randn(36),\n",
    "                      index=pd.date_range('1/1/2020', periods=36, freq=\"M\"))\n",
    "longer_ts"
   ]
  },
  {
   "cell_type": "code",
   "execution_count": 8,
   "metadata": {},
   "outputs": [
    {
     "data": {
      "text/plain": [
       "2021-01-02   -1.751188\n",
       "2021-01-05   -0.429598\n",
       "2021-01-07   -0.746389\n",
       "2021-01-08    1.006848\n",
       "2021-01-10   -0.591124\n",
       "2021-01-12   -1.127329\n",
       "dtype: float64"
      ]
     },
     "execution_count": 8,
     "metadata": {},
     "output_type": "execute_result"
    }
   ],
   "source": [
    "ts.truncate(after='1/2022') ### does NOT work as expected"
   ]
  },
  {
   "cell_type": "code",
   "execution_count": 14,
   "metadata": {},
   "outputs": [
    {
     "data": {
      "text/plain": [
       "2022-01-31   -0.189367\n",
       "2022-02-28    0.162988\n",
       "2022-03-31    1.042709\n",
       "2022-04-30   -0.237912\n",
       "2022-05-31    0.545026\n",
       "2022-06-30   -1.040006\n",
       "2022-07-31   -1.277722\n",
       "2022-08-31   -0.010823\n",
       "2022-09-30   -0.198999\n",
       "2022-10-31    0.351470\n",
       "2022-11-30    0.473909\n",
       "2022-12-31    0.319496\n",
       "Freq: M, dtype: float64"
      ]
     },
     "execution_count": 14,
     "metadata": {},
     "output_type": "execute_result"
    }
   ],
   "source": [
    "longer_ts['2022'] ### does work as expected"
   ]
  },
  {
   "cell_type": "code",
   "execution_count": 18,
   "metadata": {},
   "outputs": [
    {
     "data": {
      "text/plain": [
       "2020-03-31    0.675444\n",
       "2020-04-30   -0.257598\n",
       "2020-05-31   -0.289145\n",
       "2020-06-30   -0.345207\n",
       "2020-07-31   -1.685099\n",
       "2020-08-31   -0.719904\n",
       "2020-09-30    0.382939\n",
       "2020-10-31   -0.524336\n",
       "2020-11-30    1.624821\n",
       "2020-12-31    1.425709\n",
       "2021-01-31    1.202189\n",
       "2021-02-28    0.832470\n",
       "Freq: M, dtype: float64"
      ]
     },
     "execution_count": 18,
     "metadata": {},
     "output_type": "execute_result"
    }
   ],
   "source": [
    "longer_ts['2020-03':'2021-02'] ### does work as expected"
   ]
  },
  {
   "cell_type": "code",
   "execution_count": null,
   "metadata": {},
   "outputs": [],
   "source": []
  },
  {
   "cell_type": "code",
   "execution_count": null,
   "metadata": {},
   "outputs": [],
   "source": []
  }
 ],
 "metadata": {
  "kernelspec": {
   "display_name": "Python 3",
   "language": "python",
   "name": "python3"
  },
  "language_info": {
   "codemirror_mode": {
    "name": "ipython",
    "version": 3
   },
   "file_extension": ".py",
   "mimetype": "text/x-python",
   "name": "python",
   "nbconvert_exporter": "python",
   "pygments_lexer": "ipython3",
   "version": "3.8.5"
  }
 },
 "nbformat": 4,
 "nbformat_minor": 4
}
