{
 "cells": [
  {
   "cell_type": "markdown",
   "metadata": {},
   "source": [
    "# Python - For Developers\n",
    "## Text Output and Some Primitives"
   ]
  },
  {
   "cell_type": "code",
   "execution_count": 1,
   "metadata": {},
   "outputs": [
    {
     "name": "stdout",
     "output_type": "stream",
     "text": [
      "Hello, Python\n"
     ]
    }
   ],
   "source": [
    "print(\"Hello, Python\")"
   ]
  },
  {
   "cell_type": "code",
   "execution_count": 2,
   "metadata": {},
   "outputs": [
    {
     "name": "stdout",
     "output_type": "stream",
     "text": [
      "Hello, Python\n"
     ]
    }
   ],
   "source": [
    "language = \"Python\"\n",
    "print(\"Hello,\", language)"
   ]
  },
  {
   "cell_type": "markdown",
   "metadata": {},
   "source": [
    "### Noteworthy"
   ]
  },
  {
   "cell_type": "markdown",
   "metadata": {},
   "source": [
    "Python is \"Null Based\""
   ]
  },
  {
   "cell_type": "code",
   "execution_count": 3,
   "metadata": {},
   "outputs": [
    {
     "name": "stdout",
     "output_type": "stream",
     "text": [
      "P\n"
     ]
    }
   ],
   "source": [
    "print(language[0])"
   ]
  },
  {
   "cell_type": "markdown",
   "metadata": {},
   "source": [
    "Strings are immutable\n",
    "This does not work: language[0] = \"C\""
   ]
  },
  {
   "cell_type": "code",
   "execution_count": 4,
   "metadata": {},
   "outputs": [
    {
     "name": "stdout",
     "output_type": "stream",
     "text": [
      "Cython\n"
     ]
    }
   ],
   "source": [
    "### Common  workaround for immutable Strings: New string composed of parts of old string\n",
    "language2 = \"C\" + language[1:]\n",
    "print(language2)"
   ]
  },
  {
   "cell_type": "code",
   "execution_count": 5,
   "metadata": {},
   "outputs": [
    {
     "name": "stdout",
     "output_type": "stream",
     "text": [
      "<class 'str'> <class 'int'> <class 'float'> <class 'int'>\n",
      "38.5 38\n"
     ]
    }
   ],
   "source": [
    "### Implicite type definition by representative + Type conversion\n",
    "n = 5\n",
    "x = 7.7\n",
    "y = n * x\n",
    "myInt = int(y)\n",
    "print(type(language), type(n), type(y), type(myInt))\n",
    "print(y, myInt) ### round down by default"
   ]
  },
  {
   "cell_type": "markdown",
   "metadata": {},
   "source": [
    "## Arrays"
   ]
  },
  {
   "cell_type": "code",
   "execution_count": 6,
   "metadata": {},
   "outputs": [
    {
     "name": "stdout",
     "output_type": "stream",
     "text": [
      "['Guido van Rossum', 'Wes McKinney', 'Michael Waskom', ['Python', 'Pandas', 'Seaborn']]\n"
     ]
    }
   ],
   "source": [
    "names = [\"Guido van Rossum\", \"Wes McKinney\", \"Michael Waskom\"]\n",
    "achievements = [\"Python\", \"Pandas\", \"Seaborn\"]\n",
    "names.append(achievements)\n",
    "print(names)   ### This is often not what you want"
   ]
  },
  {
   "cell_type": "code",
   "execution_count": 7,
   "metadata": {},
   "outputs": [
    {
     "name": "stdout",
     "output_type": "stream",
     "text": [
      "['Guido van Rossum', 'Wes McKinney', 'Michael Waskom', 'Python', 'Pandas', 'Seaborn'] ['Go for a compiled language!']\n"
     ]
    }
   ],
   "source": [
    "names = [\"Guido van Rossum\", \"Wes McKinney\", \"Michael Waskom\"]\n",
    "achievements = [\"Python\", \"Pandas\", \"Seaborn\"]\n",
    "names.extend(achievements)\n",
    "myArray = names   ### You make a copy here\n",
    "names = [\"Go for a compiled language!\"]\n",
    "print(myArray, names) "
   ]
  },
  {
   "cell_type": "markdown",
   "metadata": {},
   "source": [
    "### Noteworthy on Arrays"
   ]
  },
  {
   "cell_type": "code",
   "execution_count": 8,
   "metadata": {},
   "outputs": [
    {
     "name": "stdout",
     "output_type": "stream",
     "text": [
      "8\n",
      "7\n"
     ]
    }
   ],
   "source": [
    "myArray = [0,1,2,3,4,5,6,7]\n",
    "print(len(myArray)) ### Number of elements in the array\n",
    "print(myArray[-1]) ### Last element in the array"
   ]
  },
  {
   "cell_type": "code",
   "execution_count": 9,
   "metadata": {},
   "outputs": [
    {
     "name": "stdout",
     "output_type": "stream",
     "text": [
      "[0, 2, 4, 6]\n",
      "[4, 2]\n"
     ]
    }
   ],
   "source": [
    "print(myArray[0:8:2])   ### Slicing (The interval is the last of the 3 places: [start:end:interval])\n",
    "print(myArray[4:0:-2])  ### The 'last element is excluded"
   ]
  },
  {
   "cell_type": "markdown",
   "metadata": {},
   "source": [
    "## Conditionals"
   ]
  },
  {
   "cell_type": "code",
   "execution_count": 10,
   "metadata": {},
   "outputs": [
    {
     "name": "stdout",
     "output_type": "stream",
     "text": [
      "Negative\n"
     ]
    }
   ],
   "source": [
    "n = -5\n",
    "if n > 0: ### Mind the colon at the end \n",
    "    print(\"Positive\") ### Mind the indent (e.g. 3 blanks, 1 tab) which replaces brackets or (begin, end) in other languages   \n",
    "elif n < 0:\n",
    "    print(\"Negative\")\n",
    "else:\n",
    "    print(\"Zero\")   \n"
   ]
  },
  {
   "cell_type": "markdown",
   "metadata": {},
   "source": [
    "## Loops\n"
   ]
  },
  {
   "cell_type": "code",
   "execution_count": 11,
   "metadata": {},
   "outputs": [
    {
     "name": "stdout",
     "output_type": "stream",
     "text": [
      "0 0\n",
      "1 1\n",
      "2 2\n",
      "3 3\n"
     ]
    }
   ],
   "source": [
    "for index, name in enumerate(myArray): ### For the index, you need to use 'enumerate'\n",
    "    if index > 3:\n",
    "        break\n",
    "    print(index, name)    "
   ]
  },
  {
   "cell_type": "markdown",
   "metadata": {},
   "source": [
    "## Dictionaries"
   ]
  },
  {
   "cell_type": "code",
   "execution_count": 12,
   "metadata": {},
   "outputs": [
    {
     "name": "stdout",
     "output_type": "stream",
     "text": [
      "DataFirst [1, 2, 3, 4, 5]\n",
      "DataSecond [9, 8, 7, 6, 5]\n"
     ]
    }
   ],
   "source": [
    "myDict = {\"DataFirst\": [1, 2, 3, 4, 5], \"DataSecond\": [9, 8, 7, 6, 5]}\n",
    "for key, value in myDict.items(): ### If you do not need key or value, you can replace it by an underscore \"_\"\n",
    "    print(key, value)   "
   ]
  },
  {
   "cell_type": "markdown",
   "metadata": {},
   "source": [
    "## Exercise\n",
    "Program the \"Buzz-App\" in Python\n",
    "Counting up numbers, if multiple of 3: output \"buzz\", if multiple of 5 output \"whizz\""
   ]
  },
  {
   "cell_type": "code",
   "execution_count": null,
   "metadata": {},
   "outputs": [],
   "source": []
  }
 ],
 "metadata": {
  "kernelspec": {
   "display_name": "Python 3",
   "language": "python",
   "name": "python3"
  },
  "language_info": {
   "codemirror_mode": {
    "name": "ipython",
    "version": 3
   },
   "file_extension": ".py",
   "mimetype": "text/x-python",
   "name": "python",
   "nbconvert_exporter": "python",
   "pygments_lexer": "ipython3",
   "version": "3.8.5"
  }
 },
 "nbformat": 4,
 "nbformat_minor": 4
}
