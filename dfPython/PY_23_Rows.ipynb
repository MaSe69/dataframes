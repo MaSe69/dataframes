{
 "cells": [
  {
   "cell_type": "markdown",
   "metadata": {},
   "source": [
    "# Rows"
   ]
  },
  {
   "cell_type": "markdown",
   "metadata": {},
   "source": [
    "## Get Started (Load a DataFrame)"
   ]
  },
  {
   "cell_type": "code",
   "execution_count": 1,
   "metadata": {},
   "outputs": [],
   "source": [
    "import pandas as pd\n",
    "import numpy as np"
   ]
  },
  {
   "cell_type": "code",
   "execution_count": 2,
   "metadata": {},
   "outputs": [
    {
     "data": {
      "text/html": [
       "<div>\n",
       "<style scoped>\n",
       "    .dataframe tbody tr th:only-of-type {\n",
       "        vertical-align: middle;\n",
       "    }\n",
       "\n",
       "    .dataframe tbody tr th {\n",
       "        vertical-align: top;\n",
       "    }\n",
       "\n",
       "    .dataframe thead th {\n",
       "        text-align: right;\n",
       "    }\n",
       "</style>\n",
       "<table border=\"1\" class=\"dataframe\">\n",
       "  <thead>\n",
       "    <tr style=\"text-align: right;\">\n",
       "      <th></th>\n",
       "      <th>Acceleration</th>\n",
       "      <th>Horsepower</th>\n",
       "      <th>Miles_per_Gallon</th>\n",
       "    </tr>\n",
       "    <tr>\n",
       "      <th>Name</th>\n",
       "      <th></th>\n",
       "      <th></th>\n",
       "      <th></th>\n",
       "    </tr>\n",
       "  </thead>\n",
       "  <tbody>\n",
       "    <tr>\n",
       "      <th>chevrolet chevelle malibu</th>\n",
       "      <td>12.0</td>\n",
       "      <td>130.0</td>\n",
       "      <td>18.0</td>\n",
       "    </tr>\n",
       "    <tr>\n",
       "      <th>buick skylark 320</th>\n",
       "      <td>11.5</td>\n",
       "      <td>165.0</td>\n",
       "      <td>15.0</td>\n",
       "    </tr>\n",
       "    <tr>\n",
       "      <th>plymouth satellite</th>\n",
       "      <td>11.0</td>\n",
       "      <td>150.0</td>\n",
       "      <td>18.0</td>\n",
       "    </tr>\n",
       "  </tbody>\n",
       "</table>\n",
       "</div>"
      ],
      "text/plain": [
       "                           Acceleration  Horsepower  Miles_per_Gallon\n",
       "Name                                                                 \n",
       "chevrolet chevelle malibu          12.0       130.0              18.0\n",
       "buick skylark 320                  11.5       165.0              15.0\n",
       "plymouth satellite                 11.0       150.0              18.0"
      ]
     },
     "execution_count": 2,
     "metadata": {},
     "output_type": "execute_result"
    }
   ],
   "source": [
    "filename = \"../ZZ_Data/cars.csv\"\n",
    "colsIwannaUse = [\"Name\", \"Miles_per_Gallon\", \"Acceleration\", \"Horsepower\"]\n",
    "dfOrg = pd.read_csv(filename, usecols=colsIwannaUse)\n",
    "df = dfOrg.copy()\n",
    "df = df.set_index(\"Name\")\n",
    "reorderCols = [\"Acceleration\", \"Horsepower\", \"Miles_per_Gallon\"]\n",
    "df = df[reorderCols]\n",
    "df.head(3)"
   ]
  },
  {
   "cell_type": "markdown",
   "metadata": {},
   "source": [
    "## Sort"
   ]
  },
  {
   "cell_type": "code",
   "execution_count": 3,
   "metadata": {},
   "outputs": [],
   "source": [
    "### Sort by a single column\n",
    "df = df.sort_values(by=\"Acceleration\", ascending=True)"
   ]
  },
  {
   "cell_type": "code",
   "execution_count": 4,
   "metadata": {},
   "outputs": [
    {
     "data": {
      "text/html": [
       "<div>\n",
       "<style scoped>\n",
       "    .dataframe tbody tr th:only-of-type {\n",
       "        vertical-align: middle;\n",
       "    }\n",
       "\n",
       "    .dataframe tbody tr th {\n",
       "        vertical-align: top;\n",
       "    }\n",
       "\n",
       "    .dataframe thead th {\n",
       "        text-align: right;\n",
       "    }\n",
       "</style>\n",
       "<table border=\"1\" class=\"dataframe\">\n",
       "  <thead>\n",
       "    <tr style=\"text-align: right;\">\n",
       "      <th></th>\n",
       "      <th>Acceleration</th>\n",
       "      <th>Horsepower</th>\n",
       "      <th>Miles_per_Gallon</th>\n",
       "    </tr>\n",
       "    <tr>\n",
       "      <th>Name</th>\n",
       "      <th></th>\n",
       "      <th></th>\n",
       "      <th></th>\n",
       "    </tr>\n",
       "  </thead>\n",
       "  <tbody>\n",
       "    <tr>\n",
       "      <th>buick electra 225 custom</th>\n",
       "      <td>11.0</td>\n",
       "      <td>225.0</td>\n",
       "      <td>12.0</td>\n",
       "    </tr>\n",
       "    <tr>\n",
       "      <th>chrysler new yorker brougham</th>\n",
       "      <td>11.0</td>\n",
       "      <td>215.0</td>\n",
       "      <td>13.0</td>\n",
       "    </tr>\n",
       "  </tbody>\n",
       "</table>\n",
       "</div>"
      ],
      "text/plain": [
       "                              Acceleration  Horsepower  Miles_per_Gallon\n",
       "Name                                                                    \n",
       "buick electra 225 custom              11.0       225.0              12.0\n",
       "chrysler new yorker brougham          11.0       215.0              13.0"
      ]
     },
     "execution_count": 4,
     "metadata": {},
     "output_type": "execute_result"
    }
   ],
   "source": [
    "### Sort by multiple columns in various directions\n",
    "sortCols = [\"Acceleration\", \"Horsepower\"]\n",
    "direction =[True, False]\n",
    "df = df.sort_values(by=sortCols, ascending=direction)\n",
    "df[13:15]"
   ]
  },
  {
   "cell_type": "markdown",
   "metadata": {},
   "source": [
    "## Get row"
   ]
  },
  {
   "cell_type": "markdown",
   "metadata": {},
   "source": [
    "### Get row by number (iloc)"
   ]
  },
  {
   "cell_type": "code",
   "execution_count": 5,
   "metadata": {},
   "outputs": [
    {
     "data": {
      "text/html": [
       "<div>\n",
       "<style scoped>\n",
       "    .dataframe tbody tr th:only-of-type {\n",
       "        vertical-align: middle;\n",
       "    }\n",
       "\n",
       "    .dataframe tbody tr th {\n",
       "        vertical-align: top;\n",
       "    }\n",
       "\n",
       "    .dataframe thead th {\n",
       "        text-align: right;\n",
       "    }\n",
       "</style>\n",
       "<table border=\"1\" class=\"dataframe\">\n",
       "  <thead>\n",
       "    <tr style=\"text-align: right;\">\n",
       "      <th></th>\n",
       "      <th>Acceleration</th>\n",
       "      <th>Horsepower</th>\n",
       "      <th>Miles_per_Gallon</th>\n",
       "    </tr>\n",
       "    <tr>\n",
       "      <th>Name</th>\n",
       "      <th></th>\n",
       "      <th></th>\n",
       "      <th></th>\n",
       "    </tr>\n",
       "  </thead>\n",
       "  <tbody>\n",
       "    <tr>\n",
       "      <th>pontiac grand prix</th>\n",
       "      <td>9.5</td>\n",
       "      <td>230.0</td>\n",
       "      <td>16.0</td>\n",
       "    </tr>\n",
       "  </tbody>\n",
       "</table>\n",
       "</div>"
      ],
      "text/plain": [
       "                    Acceleration  Horsepower  Miles_per_Gallon\n",
       "Name                                                          \n",
       "pontiac grand prix           9.5       230.0              16.0"
      ]
     },
     "execution_count": 5,
     "metadata": {},
     "output_type": "execute_result"
    }
   ],
   "source": [
    "### Get nth row\n",
    "n = 5\n",
    "row = df.iloc[[n]]\n",
    "row"
   ]
  },
  {
   "cell_type": "code",
   "execution_count": 6,
   "metadata": {
    "tags": []
   },
   "outputs": [
    {
     "name": "stdout",
     "output_type": "stream",
     "text": [
      "                     Acceleration  Horsepower  Miles_per_Gallon\n",
      "Name                                                           \n",
      "dodge challenger se          10.0       170.0              15.0\n",
      "chrysler cordoba             12.2       190.0              15.5\n"
     ]
    }
   ],
   "source": [
    "### Get every kth row, all columns\n",
    "start = 10\n",
    "end = 80\n",
    "k = 37\n",
    "rows = df.iloc[start:end:k,:]\n",
    "print(rows)"
   ]
  },
  {
   "cell_type": "code",
   "execution_count": 7,
   "metadata": {},
   "outputs": [
    {
     "data": {
      "text/html": [
       "<div>\n",
       "<style scoped>\n",
       "    .dataframe tbody tr th:only-of-type {\n",
       "        vertical-align: middle;\n",
       "    }\n",
       "\n",
       "    .dataframe tbody tr th {\n",
       "        vertical-align: top;\n",
       "    }\n",
       "\n",
       "    .dataframe thead th {\n",
       "        text-align: right;\n",
       "    }\n",
       "</style>\n",
       "<table border=\"1\" class=\"dataframe\">\n",
       "  <thead>\n",
       "    <tr style=\"text-align: right;\">\n",
       "      <th></th>\n",
       "      <th>Acceleration</th>\n",
       "      <th>Horsepower</th>\n",
       "      <th>Miles_per_Gallon</th>\n",
       "    </tr>\n",
       "    <tr>\n",
       "      <th>Name</th>\n",
       "      <th></th>\n",
       "      <th></th>\n",
       "      <th></th>\n",
       "    </tr>\n",
       "  </thead>\n",
       "  <tbody>\n",
       "    <tr>\n",
       "      <th>dodge challenger se</th>\n",
       "      <td>10.0</td>\n",
       "      <td>170.0</td>\n",
       "      <td>15.0</td>\n",
       "    </tr>\n",
       "    <tr>\n",
       "      <th>chrysler cordoba</th>\n",
       "      <td>12.2</td>\n",
       "      <td>190.0</td>\n",
       "      <td>15.5</td>\n",
       "    </tr>\n",
       "  </tbody>\n",
       "</table>\n",
       "</div>"
      ],
      "text/plain": [
       "                     Acceleration  Horsepower  Miles_per_Gallon\n",
       "Name                                                           \n",
       "dodge challenger se          10.0       170.0              15.0\n",
       "chrysler cordoba             12.2       190.0              15.5"
      ]
     },
     "execution_count": 7,
     "metadata": {},
     "output_type": "execute_result"
    }
   ],
   "source": [
    "### Get every kth row between a start and an end row, all columns\n",
    "start = 10\n",
    "end = 80\n",
    "k = 37\n",
    "rows = df.iloc[start:end:k,:]\n",
    "rows"
   ]
  },
  {
   "cell_type": "markdown",
   "metadata": {},
   "source": [
    "### Get row by value (loc)"
   ]
  },
  {
   "cell_type": "code",
   "execution_count": 8,
   "metadata": {},
   "outputs": [
    {
     "data": {
      "text/html": [
       "<div>\n",
       "<style scoped>\n",
       "    .dataframe tbody tr th:only-of-type {\n",
       "        vertical-align: middle;\n",
       "    }\n",
       "\n",
       "    .dataframe tbody tr th {\n",
       "        vertical-align: top;\n",
       "    }\n",
       "\n",
       "    .dataframe thead th {\n",
       "        text-align: right;\n",
       "    }\n",
       "</style>\n",
       "<table border=\"1\" class=\"dataframe\">\n",
       "  <thead>\n",
       "    <tr style=\"text-align: right;\">\n",
       "      <th></th>\n",
       "      <th>Name</th>\n",
       "      <th>Acceleration</th>\n",
       "      <th>Horsepower</th>\n",
       "      <th>Miles_per_Gallon</th>\n",
       "    </tr>\n",
       "  </thead>\n",
       "  <tbody>\n",
       "    <tr>\n",
       "      <th>51</th>\n",
       "      <td>ford country</td>\n",
       "      <td>12.5</td>\n",
       "      <td>167.0</td>\n",
       "      <td>12.0</td>\n",
       "    </tr>\n",
       "  </tbody>\n",
       "</table>\n",
       "</div>"
      ],
      "text/plain": [
       "            Name  Acceleration  Horsepower  Miles_per_Gallon\n",
       "51  ford country          12.5       167.0              12.0"
      ]
     },
     "execution_count": 8,
     "metadata": {},
     "output_type": "execute_result"
    }
   ],
   "source": [
    "df = df.reset_index()\n",
    "dfFordCountry = df.loc[df[\"Name\"] == \"ford country\"]\n",
    "dfFordCountry"
   ]
  },
  {
   "cell_type": "code",
   "execution_count": 9,
   "metadata": {},
   "outputs": [
    {
     "data": {
      "text/html": [
       "<div>\n",
       "<style scoped>\n",
       "    .dataframe tbody tr th:only-of-type {\n",
       "        vertical-align: middle;\n",
       "    }\n",
       "\n",
       "    .dataframe tbody tr th {\n",
       "        vertical-align: top;\n",
       "    }\n",
       "\n",
       "    .dataframe thead th {\n",
       "        text-align: right;\n",
       "    }\n",
       "</style>\n",
       "<table border=\"1\" class=\"dataframe\">\n",
       "  <thead>\n",
       "    <tr style=\"text-align: right;\">\n",
       "      <th></th>\n",
       "      <th>Name</th>\n",
       "      <th>Acceleration</th>\n",
       "      <th>Horsepower</th>\n",
       "      <th>Miles_per_Gallon</th>\n",
       "    </tr>\n",
       "  </thead>\n",
       "  <tbody>\n",
       "    <tr>\n",
       "      <th>9</th>\n",
       "      <td>ford galaxie 500</td>\n",
       "      <td>10.0</td>\n",
       "      <td>198.0</td>\n",
       "      <td>15.0</td>\n",
       "    </tr>\n",
       "    <tr>\n",
       "      <th>51</th>\n",
       "      <td>ford country</td>\n",
       "      <td>12.5</td>\n",
       "      <td>167.0</td>\n",
       "      <td>12.0</td>\n",
       "    </tr>\n",
       "    <tr>\n",
       "      <th>67</th>\n",
       "      <td>ford galaxie 500</td>\n",
       "      <td>13.0</td>\n",
       "      <td>153.0</td>\n",
       "      <td>14.0</td>\n",
       "    </tr>\n",
       "    <tr>\n",
       "      <th>87</th>\n",
       "      <td>ford galaxie 500</td>\n",
       "      <td>13.5</td>\n",
       "      <td>153.0</td>\n",
       "      <td>14.0</td>\n",
       "    </tr>\n",
       "  </tbody>\n",
       "</table>\n",
       "</div>"
      ],
      "text/plain": [
       "                Name  Acceleration  Horsepower  Miles_per_Gallon\n",
       "9   ford galaxie 500          10.0       198.0              15.0\n",
       "51      ford country          12.5       167.0              12.0\n",
       "67  ford galaxie 500          13.0       153.0              14.0\n",
       "87  ford galaxie 500          13.5       153.0              14.0"
      ]
     },
     "execution_count": 9,
     "metadata": {},
     "output_type": "execute_result"
    }
   ],
   "source": [
    "### Get using a list of items\n",
    "items = [\"ford country\", \"ford galaxie 500\"]\n",
    "dfSomeFords = df.loc[df[\"Name\"].isin(items)]\n",
    "dfSomeFords"
   ]
  },
  {
   "cell_type": "code",
   "execution_count": 10,
   "metadata": {},
   "outputs": [
    {
     "data": {
      "text/html": [
       "<div>\n",
       "<style scoped>\n",
       "    .dataframe tbody tr th:only-of-type {\n",
       "        vertical-align: middle;\n",
       "    }\n",
       "\n",
       "    .dataframe tbody tr th {\n",
       "        vertical-align: top;\n",
       "    }\n",
       "\n",
       "    .dataframe thead th {\n",
       "        text-align: right;\n",
       "    }\n",
       "</style>\n",
       "<table border=\"1\" class=\"dataframe\">\n",
       "  <thead>\n",
       "    <tr style=\"text-align: right;\">\n",
       "      <th></th>\n",
       "      <th>Name</th>\n",
       "      <th>Acceleration</th>\n",
       "      <th>Horsepower</th>\n",
       "      <th>Miles_per_Gallon</th>\n",
       "    </tr>\n",
       "  </thead>\n",
       "  <tbody>\n",
       "    <tr>\n",
       "      <th>1</th>\n",
       "      <td>ford mustang boss 302</td>\n",
       "      <td>8.0</td>\n",
       "      <td>140.0</td>\n",
       "      <td>NaN</td>\n",
       "    </tr>\n",
       "    <tr>\n",
       "      <th>9</th>\n",
       "      <td>ford galaxie 500</td>\n",
       "      <td>10.0</td>\n",
       "      <td>198.0</td>\n",
       "      <td>15.0</td>\n",
       "    </tr>\n",
       "    <tr>\n",
       "      <th>12</th>\n",
       "      <td>ford torino</td>\n",
       "      <td>10.5</td>\n",
       "      <td>140.0</td>\n",
       "      <td>17.0</td>\n",
       "    </tr>\n",
       "    <tr>\n",
       "      <th>19</th>\n",
       "      <td>ford torino (sw)</td>\n",
       "      <td>11.0</td>\n",
       "      <td>153.0</td>\n",
       "      <td>NaN</td>\n",
       "    </tr>\n",
       "    <tr>\n",
       "      <th>23</th>\n",
       "      <td>ford futura</td>\n",
       "      <td>11.2</td>\n",
       "      <td>139.0</td>\n",
       "      <td>18.1</td>\n",
       "    </tr>\n",
       "  </tbody>\n",
       "</table>\n",
       "</div>"
      ],
      "text/plain": [
       "                     Name  Acceleration  Horsepower  Miles_per_Gallon\n",
       "1   ford mustang boss 302           8.0       140.0               NaN\n",
       "9        ford galaxie 500          10.0       198.0              15.0\n",
       "12            ford torino          10.5       140.0              17.0\n",
       "19       ford torino (sw)          11.0       153.0               NaN\n",
       "23            ford futura          11.2       139.0              18.1"
      ]
     },
     "execution_count": 10,
     "metadata": {},
     "output_type": "execute_result"
    }
   ],
   "source": [
    "### Get using substring in index\n",
    "dfAllFords = df.loc[df[\"Name\"].str.contains(\"ford\")]\n",
    "dfAllFords.head()"
   ]
  },
  {
   "cell_type": "code",
   "execution_count": 11,
   "metadata": {},
   "outputs": [
    {
     "data": {
      "text/html": [
       "<div>\n",
       "<style scoped>\n",
       "    .dataframe tbody tr th:only-of-type {\n",
       "        vertical-align: middle;\n",
       "    }\n",
       "\n",
       "    .dataframe tbody tr th {\n",
       "        vertical-align: top;\n",
       "    }\n",
       "\n",
       "    .dataframe thead th {\n",
       "        text-align: right;\n",
       "    }\n",
       "</style>\n",
       "<table border=\"1\" class=\"dataframe\">\n",
       "  <thead>\n",
       "    <tr style=\"text-align: right;\">\n",
       "      <th></th>\n",
       "      <th>Name</th>\n",
       "      <th>Acceleration</th>\n",
       "      <th>Horsepower</th>\n",
       "      <th>Miles_per_Gallon</th>\n",
       "    </tr>\n",
       "  </thead>\n",
       "  <tbody>\n",
       "    <tr>\n",
       "      <th>107</th>\n",
       "      <td>ford f250</td>\n",
       "      <td>14.0</td>\n",
       "      <td>215.0</td>\n",
       "      <td>10.0</td>\n",
       "    </tr>\n",
       "    <tr>\n",
       "      <th>172</th>\n",
       "      <td>chevy c20</td>\n",
       "      <td>15.0</td>\n",
       "      <td>200.0</td>\n",
       "      <td>10.0</td>\n",
       "    </tr>\n",
       "  </tbody>\n",
       "</table>\n",
       "</div>"
      ],
      "text/plain": [
       "          Name  Acceleration  Horsepower  Miles_per_Gallon\n",
       "107  ford f250          14.0       215.0              10.0\n",
       "172  chevy c20          15.0       200.0              10.0"
      ]
     },
     "execution_count": 11,
     "metadata": {},
     "output_type": "execute_result"
    }
   ],
   "source": [
    "### Get rows on a condition on values\n",
    "dfSelected = df.loc[(df[\"Miles_per_Gallon\"] < 11.0) & ((df[\"Acceleration\"] < 18.0))]\n",
    "dfSelected"
   ]
  },
  {
   "cell_type": "markdown",
   "metadata": {},
   "source": [
    "## Adding rows"
   ]
  },
  {
   "cell_type": "code",
   "execution_count": 12,
   "metadata": {
    "tags": []
   },
   "outputs": [
    {
     "data": {
      "text/html": [
       "<div>\n",
       "<style scoped>\n",
       "    .dataframe tbody tr th:only-of-type {\n",
       "        vertical-align: middle;\n",
       "    }\n",
       "\n",
       "    .dataframe tbody tr th {\n",
       "        vertical-align: top;\n",
       "    }\n",
       "\n",
       "    .dataframe thead th {\n",
       "        text-align: right;\n",
       "    }\n",
       "</style>\n",
       "<table border=\"1\" class=\"dataframe\">\n",
       "  <thead>\n",
       "    <tr style=\"text-align: right;\">\n",
       "      <th></th>\n",
       "      <th>Name</th>\n",
       "      <th>Acceleration</th>\n",
       "      <th>Horsepower</th>\n",
       "      <th>Miles_per_Gallon</th>\n",
       "    </tr>\n",
       "  </thead>\n",
       "  <tbody>\n",
       "    <tr>\n",
       "      <th>0</th>\n",
       "      <td>myNewCar</td>\n",
       "      <td>59.7</td>\n",
       "      <td>44.0</td>\n",
       "      <td>59.9</td>\n",
       "    </tr>\n",
       "  </tbody>\n",
       "</table>\n",
       "</div>"
      ],
      "text/plain": [
       "       Name  Acceleration  Horsepower  Miles_per_Gallon\n",
       "0  myNewCar          59.7        44.0              59.9"
      ]
     },
     "execution_count": 12,
     "metadata": {},
     "output_type": "execute_result"
    }
   ],
   "source": [
    "### Step 1: Create a row in the structure of a dataframe based on the existing column names\n",
    "columnNames = list(df.columns.values)\n",
    "dfNewRows = pd.DataFrame(columns=columnNames)\n",
    "dfNewRows.loc[0] = [\"myNewCar\"] + list((np.random.uniform(20, 80, 3)).round(1))\n",
    "dfNewRows"
   ]
  },
  {
   "cell_type": "code",
   "execution_count": 13,
   "metadata": {},
   "outputs": [
    {
     "data": {
      "text/html": [
       "<div>\n",
       "<style scoped>\n",
       "    .dataframe tbody tr th:only-of-type {\n",
       "        vertical-align: middle;\n",
       "    }\n",
       "\n",
       "    .dataframe tbody tr th {\n",
       "        vertical-align: top;\n",
       "    }\n",
       "\n",
       "    .dataframe thead th {\n",
       "        text-align: right;\n",
       "    }\n",
       "</style>\n",
       "<table border=\"1\" class=\"dataframe\">\n",
       "  <thead>\n",
       "    <tr style=\"text-align: right;\">\n",
       "      <th></th>\n",
       "      <th>Name</th>\n",
       "      <th>Acceleration</th>\n",
       "      <th>Horsepower</th>\n",
       "      <th>Miles_per_Gallon</th>\n",
       "    </tr>\n",
       "  </thead>\n",
       "  <tbody>\n",
       "    <tr>\n",
       "      <th>402</th>\n",
       "      <td>volkswagen type 3</td>\n",
       "      <td>23.5</td>\n",
       "      <td>54.0</td>\n",
       "      <td>23.0</td>\n",
       "    </tr>\n",
       "    <tr>\n",
       "      <th>403</th>\n",
       "      <td>vw dasher (diesel)</td>\n",
       "      <td>23.7</td>\n",
       "      <td>48.0</td>\n",
       "      <td>43.4</td>\n",
       "    </tr>\n",
       "    <tr>\n",
       "      <th>404</th>\n",
       "      <td>vw pickup</td>\n",
       "      <td>24.6</td>\n",
       "      <td>52.0</td>\n",
       "      <td>44.0</td>\n",
       "    </tr>\n",
       "    <tr>\n",
       "      <th>405</th>\n",
       "      <td>peugeot 504</td>\n",
       "      <td>24.8</td>\n",
       "      <td>71.0</td>\n",
       "      <td>27.2</td>\n",
       "    </tr>\n",
       "    <tr>\n",
       "      <th>406</th>\n",
       "      <td>myNewCar</td>\n",
       "      <td>59.7</td>\n",
       "      <td>44.0</td>\n",
       "      <td>59.9</td>\n",
       "    </tr>\n",
       "  </tbody>\n",
       "</table>\n",
       "</div>"
      ],
      "text/plain": [
       "                   Name  Acceleration  Horsepower  Miles_per_Gallon\n",
       "402   volkswagen type 3          23.5        54.0              23.0\n",
       "403  vw dasher (diesel)          23.7        48.0              43.4\n",
       "404           vw pickup          24.6        52.0              44.0\n",
       "405         peugeot 504          24.8        71.0              27.2\n",
       "406            myNewCar          59.7        44.0              59.9"
      ]
     },
     "execution_count": 13,
     "metadata": {},
     "output_type": "execute_result"
    }
   ],
   "source": [
    "### Step 2: Append the new row to the existing df\n",
    "df = df.append(dfNewRows, ignore_index=True)\n",
    "df.tail()"
   ]
  },
  {
   "cell_type": "code",
   "execution_count": 14,
   "metadata": {
    "tags": []
   },
   "outputs": [
    {
     "data": {
      "text/html": [
       "<div>\n",
       "<style scoped>\n",
       "    .dataframe tbody tr th:only-of-type {\n",
       "        vertical-align: middle;\n",
       "    }\n",
       "\n",
       "    .dataframe tbody tr th {\n",
       "        vertical-align: top;\n",
       "    }\n",
       "\n",
       "    .dataframe thead th {\n",
       "        text-align: right;\n",
       "    }\n",
       "</style>\n",
       "<table border=\"1\" class=\"dataframe\">\n",
       "  <thead>\n",
       "    <tr style=\"text-align: right;\">\n",
       "      <th></th>\n",
       "      <th>Name</th>\n",
       "      <th>Acceleration</th>\n",
       "      <th>Horsepower</th>\n",
       "      <th>Miles_per_Gallon</th>\n",
       "    </tr>\n",
       "  </thead>\n",
       "  <tbody>\n",
       "    <tr>\n",
       "      <th>405</th>\n",
       "      <td>peugeot 504</td>\n",
       "      <td>24.8</td>\n",
       "      <td>71.0</td>\n",
       "      <td>27.2</td>\n",
       "    </tr>\n",
       "    <tr>\n",
       "      <th>406</th>\n",
       "      <td>myNewCar</td>\n",
       "      <td>59.7</td>\n",
       "      <td>44.0</td>\n",
       "      <td>59.9</td>\n",
       "    </tr>\n",
       "    <tr>\n",
       "      <th>0</th>\n",
       "      <td>myNewCar0</td>\n",
       "      <td>36.2</td>\n",
       "      <td>45.4</td>\n",
       "      <td>29.2</td>\n",
       "    </tr>\n",
       "    <tr>\n",
       "      <th>1</th>\n",
       "      <td>myNewCar1</td>\n",
       "      <td>76.5</td>\n",
       "      <td>37.6</td>\n",
       "      <td>53.2</td>\n",
       "    </tr>\n",
       "    <tr>\n",
       "      <th>2</th>\n",
       "      <td>myNewCar2</td>\n",
       "      <td>41.5</td>\n",
       "      <td>54.1</td>\n",
       "      <td>62.4</td>\n",
       "    </tr>\n",
       "  </tbody>\n",
       "</table>\n",
       "</div>"
      ],
      "text/plain": [
       "            Name  Acceleration  Horsepower  Miles_per_Gallon\n",
       "405  peugeot 504          24.8        71.0              27.2\n",
       "406     myNewCar          59.7        44.0              59.9\n",
       "0      myNewCar0          36.2        45.4              29.2\n",
       "1      myNewCar1          76.5        37.6              53.2\n",
       "2      myNewCar2          41.5        54.1              62.4"
      ]
     },
     "execution_count": 14,
     "metadata": {},
     "output_type": "execute_result"
    }
   ],
   "source": [
    "### For adding many rows, it is more efficient to concatenate the new dataframe\n",
    "dfMultiRows = pd.DataFrame(columns=columnNames)\n",
    "for i in range(3):\n",
    "    dfMultiRows.loc[i] = ['myNewCar' + str(i)] + list((np.random.uniform(20, 80, 3)).round(1))\n",
    "\n",
    "df = pd.concat([df, dfMultiRows], axis=0)\n",
    "df.tail()"
   ]
  },
  {
   "cell_type": "markdown",
   "metadata": {},
   "source": [
    "## Deleting rows"
   ]
  },
  {
   "cell_type": "code",
   "execution_count": 15,
   "metadata": {},
   "outputs": [
    {
     "name": "stdout",
     "output_type": "stream",
     "text": [
      "                    Acceleration  Horsepower  Miles_per_Gallon\n",
      "Name                                                          \n",
      "vw dasher (diesel)          23.7        48.0              43.4\n",
      "vw pickup                   24.6        52.0              44.0\n",
      "peugeot 504                 24.8        71.0              27.2\n",
      "myNewCar                    59.7        44.0              59.9\n",
      "myNewCar0                   36.2        45.4              29.2\n"
     ]
    }
   ],
   "source": [
    "### Instead of dropping rows, you would typically slice the existing dataframe and continue working with the remaining df\n",
    "### However, you can also drop specific rows, e.g. using the index\n",
    "df = df.drop(df[df.Name == \"myNewCar2\"].index)\n",
    "\n",
    "df = df.set_index(\"Name\")\n",
    "df = df.drop(index = 'myNewCar1')\n",
    "print(df.tail())"
   ]
  },
  {
   "cell_type": "markdown",
   "metadata": {},
   "source": [
    "## Modifing by rows"
   ]
  },
  {
   "cell_type": "code",
   "execution_count": 16,
   "metadata": {},
   "outputs": [
    {
     "data": {
      "text/html": [
       "<div>\n",
       "<style scoped>\n",
       "    .dataframe tbody tr th:only-of-type {\n",
       "        vertical-align: middle;\n",
       "    }\n",
       "\n",
       "    .dataframe tbody tr th {\n",
       "        vertical-align: top;\n",
       "    }\n",
       "\n",
       "    .dataframe thead th {\n",
       "        text-align: right;\n",
       "    }\n",
       "</style>\n",
       "<table border=\"1\" class=\"dataframe\">\n",
       "  <thead>\n",
       "    <tr style=\"text-align: right;\">\n",
       "      <th></th>\n",
       "      <th>Name</th>\n",
       "      <th>Acceleration</th>\n",
       "      <th>Horsepower</th>\n",
       "      <th>Miles_per_Gallon</th>\n",
       "    </tr>\n",
       "  </thead>\n",
       "  <tbody>\n",
       "    <tr>\n",
       "      <th>402</th>\n",
       "      <td>vw dasher (diesel)</td>\n",
       "      <td>23.7</td>\n",
       "      <td>48.0</td>\n",
       "      <td>43.4</td>\n",
       "    </tr>\n",
       "    <tr>\n",
       "      <th>403</th>\n",
       "      <td>vw pickup</td>\n",
       "      <td>24.6</td>\n",
       "      <td>52.0</td>\n",
       "      <td>44.0</td>\n",
       "    </tr>\n",
       "    <tr>\n",
       "      <th>404</th>\n",
       "      <td>peugeot 504</td>\n",
       "      <td>24.8</td>\n",
       "      <td>71.0</td>\n",
       "      <td>27.2</td>\n",
       "    </tr>\n",
       "    <tr>\n",
       "      <th>405</th>\n",
       "      <td>SportsCar</td>\n",
       "      <td>59.7</td>\n",
       "      <td>44.0</td>\n",
       "      <td>59.9</td>\n",
       "    </tr>\n",
       "    <tr>\n",
       "      <th>406</th>\n",
       "      <td>SportsCar0</td>\n",
       "      <td>36.2</td>\n",
       "      <td>45.4</td>\n",
       "      <td>29.2</td>\n",
       "    </tr>\n",
       "  </tbody>\n",
       "</table>\n",
       "</div>"
      ],
      "text/plain": [
       "                   Name  Acceleration  Horsepower  Miles_per_Gallon\n",
       "402  vw dasher (diesel)          23.7        48.0              43.4\n",
       "403           vw pickup          24.6        52.0              44.0\n",
       "404         peugeot 504          24.8        71.0              27.2\n",
       "405           SportsCar          59.7        44.0              59.9\n",
       "406          SportsCar0          36.2        45.4              29.2"
      ]
     },
     "execution_count": 16,
     "metadata": {},
     "output_type": "execute_result"
    }
   ],
   "source": [
    "### Replace an existing value in a specific column\n",
    "df = df.reset_index()\n",
    "df[\"Name\"] = df[\"Name\"].str.replace(\"myNewCar\", \"SportsCar\")\n",
    "df.tail()"
   ]
  },
  {
   "cell_type": "code",
   "execution_count": 17,
   "metadata": {},
   "outputs": [
    {
     "data": {
      "text/html": [
       "<div>\n",
       "<style scoped>\n",
       "    .dataframe tbody tr th:only-of-type {\n",
       "        vertical-align: middle;\n",
       "    }\n",
       "\n",
       "    .dataframe tbody tr th {\n",
       "        vertical-align: top;\n",
       "    }\n",
       "\n",
       "    .dataframe thead th {\n",
       "        text-align: right;\n",
       "    }\n",
       "</style>\n",
       "<table border=\"1\" class=\"dataframe\">\n",
       "  <thead>\n",
       "    <tr style=\"text-align: right;\">\n",
       "      <th></th>\n",
       "      <th>Name</th>\n",
       "      <th>Acceleration</th>\n",
       "      <th>Horsepower</th>\n",
       "      <th>Miles_per_Gallon</th>\n",
       "      <th>Environment</th>\n",
       "    </tr>\n",
       "  </thead>\n",
       "  <tbody>\n",
       "    <tr>\n",
       "      <th>394</th>\n",
       "      <td>volkswagen rabbit custom diesel</td>\n",
       "      <td>21.5</td>\n",
       "      <td>48.0</td>\n",
       "      <td>43.1</td>\n",
       "      <td>Ok</td>\n",
       "    </tr>\n",
       "    <tr>\n",
       "      <th>402</th>\n",
       "      <td>vw dasher (diesel)</td>\n",
       "      <td>23.7</td>\n",
       "      <td>48.0</td>\n",
       "      <td>43.4</td>\n",
       "      <td>Ok</td>\n",
       "    </tr>\n",
       "    <tr>\n",
       "      <th>403</th>\n",
       "      <td>vw pickup</td>\n",
       "      <td>24.6</td>\n",
       "      <td>52.0</td>\n",
       "      <td>44.0</td>\n",
       "      <td>Ok</td>\n",
       "    </tr>\n",
       "    <tr>\n",
       "      <th>395</th>\n",
       "      <td>vw rabbit c (diesel)</td>\n",
       "      <td>21.7</td>\n",
       "      <td>48.0</td>\n",
       "      <td>44.3</td>\n",
       "      <td>Ok</td>\n",
       "    </tr>\n",
       "    <tr>\n",
       "      <th>103</th>\n",
       "      <td>honda civic 1500 gl</td>\n",
       "      <td>13.8</td>\n",
       "      <td>67.0</td>\n",
       "      <td>44.6</td>\n",
       "      <td>Ok</td>\n",
       "    </tr>\n",
       "    <tr>\n",
       "      <th>326</th>\n",
       "      <td>mazda glc</td>\n",
       "      <td>17.9</td>\n",
       "      <td>65.0</td>\n",
       "      <td>46.6</td>\n",
       "      <td>Ok</td>\n",
       "    </tr>\n",
       "    <tr>\n",
       "      <th>405</th>\n",
       "      <td>SportsCar</td>\n",
       "      <td>59.7</td>\n",
       "      <td>44.0</td>\n",
       "      <td>59.9</td>\n",
       "      <td>Ok</td>\n",
       "    </tr>\n",
       "    <tr>\n",
       "      <th>1</th>\n",
       "      <td>ford mustang boss 302</td>\n",
       "      <td>8.0</td>\n",
       "      <td>140.0</td>\n",
       "      <td>NaN</td>\n",
       "      <td>NaN</td>\n",
       "    </tr>\n",
       "    <tr>\n",
       "      <th>10</th>\n",
       "      <td>plymouth satellite (sw)</td>\n",
       "      <td>10.5</td>\n",
       "      <td>175.0</td>\n",
       "      <td>NaN</td>\n",
       "      <td>NaN</td>\n",
       "    </tr>\n",
       "    <tr>\n",
       "      <th>17</th>\n",
       "      <td>amc rebel sst (sw)</td>\n",
       "      <td>11.0</td>\n",
       "      <td>175.0</td>\n",
       "      <td>NaN</td>\n",
       "      <td>NaN</td>\n",
       "    </tr>\n",
       "    <tr>\n",
       "      <th>18</th>\n",
       "      <td>ford torino (sw)</td>\n",
       "      <td>11.0</td>\n",
       "      <td>153.0</td>\n",
       "      <td>NaN</td>\n",
       "      <td>NaN</td>\n",
       "    </tr>\n",
       "    <tr>\n",
       "      <th>30</th>\n",
       "      <td>chevrolet chevelle concours (sw)</td>\n",
       "      <td>11.5</td>\n",
       "      <td>165.0</td>\n",
       "      <td>NaN</td>\n",
       "      <td>NaN</td>\n",
       "    </tr>\n",
       "    <tr>\n",
       "      <th>195</th>\n",
       "      <td>saab 900s</td>\n",
       "      <td>15.4</td>\n",
       "      <td>110.0</td>\n",
       "      <td>NaN</td>\n",
       "      <td>NaN</td>\n",
       "    </tr>\n",
       "    <tr>\n",
       "      <th>312</th>\n",
       "      <td>citroen ds-21 pallas</td>\n",
       "      <td>17.5</td>\n",
       "      <td>115.0</td>\n",
       "      <td>NaN</td>\n",
       "      <td>NaN</td>\n",
       "    </tr>\n",
       "    <tr>\n",
       "      <th>381</th>\n",
       "      <td>volkswagen super beetle 117</td>\n",
       "      <td>20.0</td>\n",
       "      <td>48.0</td>\n",
       "      <td>NaN</td>\n",
       "      <td>NaN</td>\n",
       "    </tr>\n",
       "  </tbody>\n",
       "</table>\n",
       "</div>"
      ],
      "text/plain": [
       "                                 Name  Acceleration  Horsepower  \\\n",
       "394   volkswagen rabbit custom diesel          21.5        48.0   \n",
       "402                vw dasher (diesel)          23.7        48.0   \n",
       "403                         vw pickup          24.6        52.0   \n",
       "395              vw rabbit c (diesel)          21.7        48.0   \n",
       "103               honda civic 1500 gl          13.8        67.0   \n",
       "326                         mazda glc          17.9        65.0   \n",
       "405                         SportsCar          59.7        44.0   \n",
       "1               ford mustang boss 302           8.0       140.0   \n",
       "10            plymouth satellite (sw)          10.5       175.0   \n",
       "17                 amc rebel sst (sw)          11.0       175.0   \n",
       "18                   ford torino (sw)          11.0       153.0   \n",
       "30   chevrolet chevelle concours (sw)          11.5       165.0   \n",
       "195                         saab 900s          15.4       110.0   \n",
       "312              citroen ds-21 pallas          17.5       115.0   \n",
       "381       volkswagen super beetle 117          20.0        48.0   \n",
       "\n",
       "     Miles_per_Gallon Environment  \n",
       "394              43.1          Ok  \n",
       "402              43.4          Ok  \n",
       "403              44.0          Ok  \n",
       "395              44.3          Ok  \n",
       "103              44.6          Ok  \n",
       "326              46.6          Ok  \n",
       "405              59.9          Ok  \n",
       "1                 NaN         NaN  \n",
       "10                NaN         NaN  \n",
       "17                NaN         NaN  \n",
       "18                NaN         NaN  \n",
       "30                NaN         NaN  \n",
       "195               NaN         NaN  \n",
       "312               NaN         NaN  \n",
       "381               NaN         NaN  "
      ]
     },
     "execution_count": 17,
     "metadata": {},
     "output_type": "execute_result"
    }
   ],
   "source": [
    "### Modify column Z based on values in column A\n",
    "df[\"Environment\"] = \"NaN\"\n",
    "df.loc[df['Miles_per_Gallon'] > 20, ['Environment']] = 'Ok'\n",
    "df = df.sort_values(by=\"Miles_per_Gallon\", ascending=True)\n",
    "df.tail(15)"
   ]
  },
  {
   "cell_type": "code",
   "execution_count": null,
   "metadata": {},
   "outputs": [],
   "source": []
  }
 ],
 "metadata": {
  "kernelspec": {
   "display_name": "Python 3",
   "language": "python",
   "name": "python3"
  },
  "language_info": {
   "codemirror_mode": {
    "name": "ipython",
    "version": 3
   },
   "file_extension": ".py",
   "mimetype": "text/x-python",
   "name": "python",
   "nbconvert_exporter": "python",
   "pygments_lexer": "ipython3",
   "version": "3.8.5"
  }
 },
 "nbformat": 4,
 "nbformat_minor": 4
}
