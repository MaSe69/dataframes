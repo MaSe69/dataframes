{
 "cells": [
  {
   "cell_type": "markdown",
   "metadata": {},
   "source": [
    "# Python - Refresher\n",
    "## Text Output and Some Primitives"
   ]
  },
  {
   "cell_type": "code",
   "execution_count": 9,
   "metadata": {},
   "outputs": [
    {
     "name": "stdout",
     "output_type": "stream",
     "text": [
      "Hello, Dataframes in Python\n"
     ]
    }
   ],
   "source": [
    "print(\"Hello, Dataframes in Python\")"
   ]
  },
  {
   "cell_type": "code",
   "execution_count": 11,
   "metadata": {},
   "outputs": [
    {
     "name": "stdout",
     "output_type": "stream",
     "text": [
      "Hello  Python\n"
     ]
    }
   ],
   "source": [
    "language = \"Python\"\n",
    "print(\"Hello, \", language)"
   ]
  },
  {
   "cell_type": "code",
   "execution_count": 13,
   "metadata": {},
   "outputs": [
    {
     "name": "stdout",
     "output_type": "stream",
     "text": [
      "P\n"
     ]
    }
   ],
   "source": [
    "## Noteworthy\n",
    "# Python is \"Zero Based\"\n",
    "print(language[0])"
   ]
  },
  {
   "cell_type": "code",
   "execution_count": 17,
   "metadata": {},
   "outputs": [
    {
     "name": "stdout",
     "output_type": "stream",
     "text": [
      "Cython\n"
     ]
    }
   ],
   "source": [
    "### Strings are immutable This does not work: language[1] = \"C\"\n",
    "### Common  workaround for immutable Strings: New string composed of parts of old string\n",
    "language2 = \"C\" + language[1:]\n",
    "print(language2)"
   ]
  },
  {
   "cell_type": "code",
   "execution_count": 22,
   "metadata": {},
   "outputs": [
    {
     "name": "stdout",
     "output_type": "stream",
     "text": [
      "<class 'str'> <class 'int'> <class 'float'> <class 'int'>\n",
      "38.5   38\n"
     ]
    }
   ],
   "source": [
    "### Implicite type definition by representative + Type conversion\n",
    "n = 5\n",
    "x = 7.7\n",
    "y = n * x\n",
    "myInt = int(y)    ### Conversion is a bit straightforward\n",
    "print(type(language), type(n), type(y), type(myInt))\n",
    "print(y, \" \" , myInt) ### round down by default"
   ]
  },
  {
   "cell_type": "code",
   "execution_count": null,
   "metadata": {},
   "outputs": [],
   "source": []
  }
 ],
 "metadata": {
  "kernelspec": {
   "display_name": "Python 3",
   "language": "python",
   "name": "python3"
  },
  "language_info": {
   "codemirror_mode": {
    "name": "ipython",
    "version": 3
   },
   "file_extension": ".py",
   "mimetype": "text/x-python",
   "name": "python",
   "nbconvert_exporter": "python",
   "pygments_lexer": "ipython3",
   "version": "3.8.5"
  }
 },
 "nbformat": 4,
 "nbformat_minor": 5
}
