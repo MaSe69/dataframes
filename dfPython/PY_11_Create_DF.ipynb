{
 "cells": [
  {
   "cell_type": "code",
   "execution_count": 1,
   "metadata": {},
   "outputs": [
    {
     "name": "stdout",
     "output_type": "stream",
     "text": [
      "Create DataFrames within the program\n"
     ]
    }
   ],
   "source": [
    "print(\"Create DataFrames within the program\")"
   ]
  },
  {
   "cell_type": "code",
   "execution_count": 2,
   "metadata": {},
   "outputs": [],
   "source": [
    "import pandas as pd\n",
    "import numpy as np"
   ]
  },
  {
   "cell_type": "markdown",
   "metadata": {},
   "source": [
    "## 1 - Quick DF Generations"
   ]
  },
  {
   "cell_type": "code",
   "execution_count": 3,
   "metadata": {},
   "outputs": [
    {
     "data": {
      "text/html": [
       "<div>\n",
       "<style scoped>\n",
       "    .dataframe tbody tr th:only-of-type {\n",
       "        vertical-align: middle;\n",
       "    }\n",
       "\n",
       "    .dataframe tbody tr th {\n",
       "        vertical-align: top;\n",
       "    }\n",
       "\n",
       "    .dataframe thead th {\n",
       "        text-align: right;\n",
       "    }\n",
       "</style>\n",
       "<table border=\"1\" class=\"dataframe\">\n",
       "  <thead>\n",
       "    <tr style=\"text-align: right;\">\n",
       "      <th></th>\n",
       "    </tr>\n",
       "  </thead>\n",
       "  <tbody>\n",
       "  </tbody>\n",
       "</table>\n",
       "</div>"
      ],
      "text/plain": [
       "Empty DataFrame\n",
       "Columns: []\n",
       "Index: []"
      ]
     },
     "execution_count": 3,
     "metadata": {},
     "output_type": "execute_result"
    }
   ],
   "source": [
    "### Empty Dataframe\n",
    "df0 = pd.DataFrame()\n",
    "df0"
   ]
  },
  {
   "cell_type": "code",
   "execution_count": 4,
   "metadata": {},
   "outputs": [
    {
     "data": {
      "text/html": [
       "<div>\n",
       "<style scoped>\n",
       "    .dataframe tbody tr th:only-of-type {\n",
       "        vertical-align: middle;\n",
       "    }\n",
       "\n",
       "    .dataframe tbody tr th {\n",
       "        vertical-align: top;\n",
       "    }\n",
       "\n",
       "    .dataframe thead th {\n",
       "        text-align: right;\n",
       "    }\n",
       "</style>\n",
       "<table border=\"1\" class=\"dataframe\">\n",
       "  <thead>\n",
       "    <tr style=\"text-align: right;\">\n",
       "      <th></th>\n",
       "      <th>January</th>\n",
       "      <th>February</th>\n",
       "      <th>March</th>\n",
       "    </tr>\n",
       "  </thead>\n",
       "  <tbody>\n",
       "    <tr>\n",
       "      <th>Account_A</th>\n",
       "      <td>0</td>\n",
       "      <td>0</td>\n",
       "      <td>0</td>\n",
       "    </tr>\n",
       "    <tr>\n",
       "      <th>Account_B</th>\n",
       "      <td>0</td>\n",
       "      <td>0</td>\n",
       "      <td>0</td>\n",
       "    </tr>\n",
       "    <tr>\n",
       "      <th>Account_D</th>\n",
       "      <td>0</td>\n",
       "      <td>0</td>\n",
       "      <td>0</td>\n",
       "    </tr>\n",
       "    <tr>\n",
       "      <th>Account_X</th>\n",
       "      <td>0</td>\n",
       "      <td>0</td>\n",
       "      <td>0</td>\n",
       "    </tr>\n",
       "  </tbody>\n",
       "</table>\n",
       "</div>"
      ],
      "text/plain": [
       "           January  February  March\n",
       "Account_A        0         0      0\n",
       "Account_B        0         0      0\n",
       "Account_D        0         0      0\n",
       "Account_X        0         0      0"
      ]
     },
     "execution_count": 4,
     "metadata": {},
     "output_type": "execute_result"
    }
   ],
   "source": [
    "### In PANDAS YOU FIRST NEED TO CREATE THE CELLS, THEN YOU CAN CHANGE THEM\n",
    "accounts = [\"Account_A\", \"Account_B\", \"Account_D\", \"Account_X\"]\n",
    "months = [\"January\", \"February\", \"March\"]\n",
    "df = pd.DataFrame(index=accounts, columns=months)\n",
    "df = df.fillna(0)\n",
    "df"
   ]
  },
  {
   "cell_type": "code",
   "execution_count": 5,
   "metadata": {},
   "outputs": [
    {
     "data": {
      "text/html": [
       "<div>\n",
       "<style scoped>\n",
       "    .dataframe tbody tr th:only-of-type {\n",
       "        vertical-align: middle;\n",
       "    }\n",
       "\n",
       "    .dataframe tbody tr th {\n",
       "        vertical-align: top;\n",
       "    }\n",
       "\n",
       "    .dataframe thead th {\n",
       "        text-align: right;\n",
       "    }\n",
       "</style>\n",
       "<table border=\"1\" class=\"dataframe\">\n",
       "  <thead>\n",
       "    <tr style=\"text-align: right;\">\n",
       "      <th></th>\n",
       "      <th>a</th>\n",
       "    </tr>\n",
       "  </thead>\n",
       "  <tbody>\n",
       "    <tr>\n",
       "      <th>0</th>\n",
       "      <td>1.0</td>\n",
       "    </tr>\n",
       "    <tr>\n",
       "      <th>1</th>\n",
       "      <td>1.0</td>\n",
       "    </tr>\n",
       "  </tbody>\n",
       "</table>\n",
       "</div>"
      ],
      "text/plain": [
       "     a\n",
       "0  1.0\n",
       "1  1.0"
      ]
     },
     "execution_count": 5,
     "metadata": {},
     "output_type": "execute_result"
    }
   ],
   "source": [
    "pd.DataFrame([1,1.0], columns=[\"a\"])"
   ]
  },
  {
   "cell_type": "code",
   "execution_count": 6,
   "metadata": {},
   "outputs": [
    {
     "data": {
      "text/html": [
       "<div>\n",
       "<style scoped>\n",
       "    .dataframe tbody tr th:only-of-type {\n",
       "        vertical-align: middle;\n",
       "    }\n",
       "\n",
       "    .dataframe tbody tr th {\n",
       "        vertical-align: top;\n",
       "    }\n",
       "\n",
       "    .dataframe thead th {\n",
       "        text-align: right;\n",
       "    }\n",
       "</style>\n",
       "<table border=\"1\" class=\"dataframe\">\n",
       "  <thead>\n",
       "    <tr style=\"text-align: right;\">\n",
       "      <th></th>\n",
       "      <th>a</th>\n",
       "      <th>b</th>\n",
       "    </tr>\n",
       "  </thead>\n",
       "  <tbody>\n",
       "    <tr>\n",
       "      <th>0</th>\n",
       "      <td>0.0</td>\n",
       "      <td>0.1</td>\n",
       "    </tr>\n",
       "    <tr>\n",
       "      <th>1</th>\n",
       "      <td>1.0</td>\n",
       "      <td>1.0</td>\n",
       "    </tr>\n",
       "  </tbody>\n",
       "</table>\n",
       "</div>"
      ],
      "text/plain": [
       "     a    b\n",
       "0  0.0  0.1\n",
       "1  1.0  1.0"
      ]
     },
     "execution_count": 6,
     "metadata": {},
     "output_type": "execute_result"
    }
   ],
   "source": [
    "pd.DataFrame([[0,0.1],[1.0,1]], columns=[\"a\",\"b\"])"
   ]
  },
  {
   "cell_type": "markdown",
   "metadata": {},
   "source": [
    "## 2 - My Website Examples\n"
   ]
  },
  {
   "cell_type": "code",
<<<<<<< HEAD:dfPython/PYDF_11_Create_DF.ipynb
   "execution_count": 14,
=======
   "execution_count": 7,
>>>>>>> e2823d3392c42959e9d05ec71809526f9cd506a7:dfPython/PY_11_Create_DF.ipynb
   "metadata": {},
   "outputs": [],
   "source": [
    "months = [\"2021-01\", \"2021-02\", \"2021-03\", \"2021-04\"]"
   ]
  },
  {
   "cell_type": "code",
<<<<<<< HEAD:dfPython/PYDF_11_Create_DF.ipynb
   "execution_count": 15,
=======
   "execution_count": 8,
>>>>>>> e2823d3392c42959e9d05ec71809526f9cd506a7:dfPython/PY_11_Create_DF.ipynb
   "metadata": {},
   "outputs": [],
   "source": [
    "cellValues = np.random.rand(4, 4) * 1000"
   ]
  },
  {
   "cell_type": "code",
<<<<<<< HEAD:dfPython/PYDF_11_Create_DF.ipynb
   "execution_count": 16,
=======
   "execution_count": 9,
>>>>>>> e2823d3392c42959e9d05ec71809526f9cd506a7:dfPython/PY_11_Create_DF.ipynb
   "metadata": {},
   "outputs": [],
   "source": [
    "cellValues = cellValues.astype(float).round(2)"
   ]
  },
  {
   "cell_type": "code",
<<<<<<< HEAD:dfPython/PYDF_11_Create_DF.ipynb
   "execution_count": 17,
=======
   "execution_count": 10,
>>>>>>> e2823d3392c42959e9d05ec71809526f9cd506a7:dfPython/PY_11_Create_DF.ipynb
   "metadata": {},
   "outputs": [
    {
     "data": {
      "text/html": [
       "<div>\n",
       "<style scoped>\n",
       "    .dataframe tbody tr th:only-of-type {\n",
       "        vertical-align: middle;\n",
       "    }\n",
       "\n",
       "    .dataframe tbody tr th {\n",
       "        vertical-align: top;\n",
       "    }\n",
       "\n",
       "    .dataframe thead th {\n",
       "        text-align: right;\n",
       "    }\n",
       "</style>\n",
       "<table border=\"1\" class=\"dataframe\">\n",
       "  <thead>\n",
       "    <tr style=\"text-align: right;\">\n",
       "      <th></th>\n",
       "      <th>2021-01</th>\n",
       "      <th>2021-02</th>\n",
       "      <th>2021-03</th>\n",
       "      <th>2021-04</th>\n",
       "    </tr>\n",
       "  </thead>\n",
       "  <tbody>\n",
       "    <tr>\n",
       "      <th>Account_A</th>\n",
<<<<<<< HEAD:dfPython/PYDF_11_Create_DF.ipynb
       "      <td>753.25</td>\n",
       "      <td>121.03</td>\n",
       "      <td>841.88</td>\n",
       "      <td>395.51</td>\n",
       "    </tr>\n",
       "    <tr>\n",
       "      <th>Account_B</th>\n",
       "      <td>266.74</td>\n",
       "      <td>463.70</td>\n",
       "      <td>398.30</td>\n",
       "      <td>438.95</td>\n",
       "    </tr>\n",
       "    <tr>\n",
       "      <th>Account_D</th>\n",
       "      <td>96.74</td>\n",
       "      <td>534.92</td>\n",
       "      <td>111.50</td>\n",
       "      <td>957.82</td>\n",
       "    </tr>\n",
       "    <tr>\n",
       "      <th>Account_X</th>\n",
       "      <td>270.03</td>\n",
       "      <td>234.77</td>\n",
       "      <td>362.80</td>\n",
       "      <td>984.52</td>\n",
=======
       "      <td>436.34</td>\n",
       "      <td>797.20</td>\n",
       "      <td>408.93</td>\n",
       "      <td>620.67</td>\n",
       "    </tr>\n",
       "    <tr>\n",
       "      <th>Account_B</th>\n",
       "      <td>51.98</td>\n",
       "      <td>946.92</td>\n",
       "      <td>548.66</td>\n",
       "      <td>618.38</td>\n",
       "    </tr>\n",
       "    <tr>\n",
       "      <th>Account_D</th>\n",
       "      <td>118.35</td>\n",
       "      <td>415.79</td>\n",
       "      <td>867.77</td>\n",
       "      <td>837.79</td>\n",
       "    </tr>\n",
       "    <tr>\n",
       "      <th>Account_X</th>\n",
       "      <td>75.03</td>\n",
       "      <td>405.08</td>\n",
       "      <td>715.62</td>\n",
       "      <td>852.10</td>\n",
>>>>>>> e2823d3392c42959e9d05ec71809526f9cd506a7:dfPython/PY_11_Create_DF.ipynb
       "    </tr>\n",
       "  </tbody>\n",
       "</table>\n",
       "</div>"
      ],
      "text/plain": [
       "           2021-01  2021-02  2021-03  2021-04\n",
<<<<<<< HEAD:dfPython/PYDF_11_Create_DF.ipynb
       "Account_A   753.25   121.03   841.88   395.51\n",
       "Account_B   266.74   463.70   398.30   438.95\n",
       "Account_D    96.74   534.92   111.50   957.82\n",
       "Account_X   270.03   234.77   362.80   984.52"
      ]
     },
     "execution_count": 17,
=======
       "Account_A   436.34   797.20   408.93   620.67\n",
       "Account_B    51.98   946.92   548.66   618.38\n",
       "Account_D   118.35   415.79   867.77   837.79\n",
       "Account_X    75.03   405.08   715.62   852.10"
      ]
     },
     "execution_count": 10,
>>>>>>> e2823d3392c42959e9d05ec71809526f9cd506a7:dfPython/PY_11_Create_DF.ipynb
     "metadata": {},
     "output_type": "execute_result"
    }
   ],
   "source": [
    "df = pd.DataFrame(cellValues, index=accounts, columns=months)\n",
    "df"
   ]
  },
  {
   "cell_type": "markdown",
   "metadata": {},
   "source": [
    "## 3 DF for same example as with Julia"
   ]
  },
  {
   "cell_type": "code",
   "execution_count": 11,
   "metadata": {},
   "outputs": [],
   "source": [
    "service = [\"Consulting\", \"Installation\", \"Operation\"]\n",
    "account = [\"0815\", \"1234\", \"9876\"]\n",
    "quantity = [10, 100, 50]\n",
    "price = [100, 10, 50]\n",
    "cost = [30, 7, 25]"
   ]
  },
  {
   "cell_type": "code",
   "execution_count": 12,
   "metadata": {},
   "outputs": [],
   "source": [
    "myList = [service, account, quantity, price, cost]"
   ]
  },
  {
   "cell_type": "code",
   "execution_count": 13,
   "metadata": {},
   "outputs": [],
   "source": [
    "#colNames = [\"Service\", \"Account\", \"Quantiy\", \"Price\", \"Cost\"]\n",
    "colNames = [0, 1, 2]"
   ]
  },
  {
   "cell_type": "code",
<<<<<<< HEAD:dfPython/PYDF_11_Create_DF.ipynb
   "execution_count": 18,
=======
   "execution_count": 14,
>>>>>>> e2823d3392c42959e9d05ec71809526f9cd506a7:dfPython/PY_11_Create_DF.ipynb
   "metadata": {},
   "outputs": [
    {
     "data": {
      "text/html": [
       "<div>\n",
       "<style scoped>\n",
       "    .dataframe tbody tr th:only-of-type {\n",
       "        vertical-align: middle;\n",
       "    }\n",
       "\n",
       "    .dataframe tbody tr th {\n",
       "        vertical-align: top;\n",
       "    }\n",
       "\n",
       "    .dataframe thead th {\n",
       "        text-align: right;\n",
       "    }\n",
       "</style>\n",
       "<table border=\"1\" class=\"dataframe\">\n",
       "  <thead>\n",
       "    <tr style=\"text-align: right;\">\n",
       "      <th></th>\n",
       "      <th>0</th>\n",
       "      <th>1</th>\n",
       "      <th>2</th>\n",
       "    </tr>\n",
       "  </thead>\n",
       "  <tbody>\n",
       "    <tr>\n",
       "      <th>0</th>\n",
<<<<<<< HEAD:dfPython/PYDF_11_Create_DF.ipynb
       "      <td>Account_A</td>\n",
       "      <td>753.25</td>\n",
       "      <td>121.03</td>\n",
       "      <td>841.88</td>\n",
       "      <td>395.51</td>\n",
       "    </tr>\n",
       "    <tr>\n",
       "      <th>1</th>\n",
       "      <td>Account_B</td>\n",
       "      <td>266.74</td>\n",
       "      <td>463.70</td>\n",
       "      <td>398.30</td>\n",
       "      <td>438.95</td>\n",
       "    </tr>\n",
       "    <tr>\n",
       "      <th>2</th>\n",
       "      <td>Account_D</td>\n",
       "      <td>96.74</td>\n",
       "      <td>534.92</td>\n",
       "      <td>111.50</td>\n",
       "      <td>957.82</td>\n",
       "    </tr>\n",
       "    <tr>\n",
       "      <th>3</th>\n",
       "      <td>Account_X</td>\n",
       "      <td>270.03</td>\n",
       "      <td>234.77</td>\n",
       "      <td>362.80</td>\n",
       "      <td>984.52</td>\n",
=======
       "      <td>Consulting</td>\n",
       "      <td>Installation</td>\n",
       "      <td>Operation</td>\n",
       "    </tr>\n",
       "    <tr>\n",
       "      <th>1</th>\n",
       "      <td>0815</td>\n",
       "      <td>1234</td>\n",
       "      <td>9876</td>\n",
       "    </tr>\n",
       "    <tr>\n",
       "      <th>2</th>\n",
       "      <td>10</td>\n",
       "      <td>100</td>\n",
       "      <td>50</td>\n",
       "    </tr>\n",
       "    <tr>\n",
       "      <th>3</th>\n",
       "      <td>100</td>\n",
       "      <td>10</td>\n",
       "      <td>50</td>\n",
       "    </tr>\n",
       "    <tr>\n",
       "      <th>4</th>\n",
       "      <td>30</td>\n",
       "      <td>7</td>\n",
       "      <td>25</td>\n",
>>>>>>> e2823d3392c42959e9d05ec71809526f9cd506a7:dfPython/PY_11_Create_DF.ipynb
       "    </tr>\n",
       "  </tbody>\n",
       "</table>\n",
       "</div>"
      ],
      "text/plain": [
<<<<<<< HEAD:dfPython/PYDF_11_Create_DF.ipynb
       "       index  2021-01  2021-02  2021-03  2021-04\n",
       "0  Account_A   753.25   121.03   841.88   395.51\n",
       "1  Account_B   266.74   463.70   398.30   438.95\n",
       "2  Account_D    96.74   534.92   111.50   957.82\n",
       "3  Account_X   270.03   234.77   362.80   984.52"
      ]
     },
     "execution_count": 18,
=======
       "            0             1          2\n",
       "0  Consulting  Installation  Operation\n",
       "1        0815          1234       9876\n",
       "2          10           100         50\n",
       "3         100            10         50\n",
       "4          30             7         25"
      ]
     },
     "execution_count": 14,
>>>>>>> e2823d3392c42959e9d05ec71809526f9cd506a7:dfPython/PY_11_Create_DF.ipynb
     "metadata": {},
     "output_type": "execute_result"
    }
   ],
   "source": [
    "df = pd.DataFrame(myList, columns = colNames)\n",
    "df"
   ]
  },
  {
   "cell_type": "markdown",
   "metadata": {},
   "source": [
    "## Transpose a dataframe\n"
   ]
  },
  {
   "cell_type": "code",
   "execution_count": 15,
   "metadata": {},
   "outputs": [
    {
     "data": {
      "text/html": [
       "<div>\n",
       "<style scoped>\n",
       "    .dataframe tbody tr th:only-of-type {\n",
       "        vertical-align: middle;\n",
       "    }\n",
       "\n",
       "    .dataframe tbody tr th {\n",
       "        vertical-align: top;\n",
       "    }\n",
       "\n",
       "    .dataframe thead th {\n",
       "        text-align: right;\n",
       "    }\n",
       "</style>\n",
       "<table border=\"1\" class=\"dataframe\">\n",
       "  <thead>\n",
       "    <tr style=\"text-align: right;\">\n",
       "      <th></th>\n",
       "      <th>0</th>\n",
       "      <th>1</th>\n",
       "      <th>2</th>\n",
       "      <th>3</th>\n",
       "      <th>4</th>\n",
       "    </tr>\n",
       "  </thead>\n",
       "  <tbody>\n",
       "    <tr>\n",
       "      <th>0</th>\n",
       "      <td>Consulting</td>\n",
       "      <td>0815</td>\n",
       "      <td>10</td>\n",
       "      <td>100</td>\n",
       "      <td>30</td>\n",
       "    </tr>\n",
       "    <tr>\n",
       "      <th>1</th>\n",
       "      <td>Installation</td>\n",
       "      <td>1234</td>\n",
       "      <td>100</td>\n",
       "      <td>10</td>\n",
       "      <td>7</td>\n",
       "    </tr>\n",
       "    <tr>\n",
       "      <th>2</th>\n",
       "      <td>Operation</td>\n",
       "      <td>9876</td>\n",
       "      <td>50</td>\n",
       "      <td>50</td>\n",
       "      <td>25</td>\n",
       "    </tr>\n",
       "  </tbody>\n",
       "</table>\n",
       "</div>"
      ],
      "text/plain": [
       "              0     1    2    3   4\n",
       "0    Consulting  0815   10  100  30\n",
       "1  Installation  1234  100   10   7\n",
       "2     Operation  9876   50   50  25"
      ]
     },
     "execution_count": 15,
     "metadata": {},
     "output_type": "execute_result"
    }
   ],
   "source": [
    "df = df.T\n",
    "df"
   ]
  },
  {
   "cell_type": "code",
   "execution_count": 16,
   "metadata": {},
   "outputs": [
    {
     "data": {
      "text/html": [
       "<div>\n",
       "<style scoped>\n",
       "    .dataframe tbody tr th:only-of-type {\n",
       "        vertical-align: middle;\n",
       "    }\n",
       "\n",
       "    .dataframe tbody tr th {\n",
       "        vertical-align: top;\n",
       "    }\n",
       "\n",
       "    .dataframe thead th {\n",
       "        text-align: right;\n",
       "    }\n",
       "</style>\n",
       "<table border=\"1\" class=\"dataframe\">\n",
       "  <thead>\n",
       "    <tr style=\"text-align: right;\">\n",
       "      <th></th>\n",
       "      <th>Service</th>\n",
       "      <th>Account</th>\n",
       "      <th>Quantity</th>\n",
       "      <th>Price</th>\n",
       "      <th>Cost</th>\n",
       "    </tr>\n",
       "  </thead>\n",
       "  <tbody>\n",
       "    <tr>\n",
       "      <th>0</th>\n",
       "      <td>Consulting</td>\n",
       "      <td>0815</td>\n",
       "      <td>10</td>\n",
       "      <td>100</td>\n",
       "      <td>30</td>\n",
       "    </tr>\n",
       "    <tr>\n",
       "      <th>1</th>\n",
       "      <td>Installation</td>\n",
       "      <td>1234</td>\n",
       "      <td>100</td>\n",
       "      <td>10</td>\n",
       "      <td>7</td>\n",
       "    </tr>\n",
       "    <tr>\n",
       "      <th>2</th>\n",
       "      <td>Operation</td>\n",
       "      <td>9876</td>\n",
       "      <td>50</td>\n",
       "      <td>50</td>\n",
       "      <td>25</td>\n",
       "    </tr>\n",
       "  </tbody>\n",
       "</table>\n",
       "</div>"
      ],
      "text/plain": [
       "        Service Account Quantity Price Cost\n",
       "0    Consulting    0815       10   100   30\n",
       "1  Installation    1234      100    10    7\n",
       "2     Operation    9876       50    50   25"
      ]
     },
     "execution_count": 16,
     "metadata": {},
     "output_type": "execute_result"
    }
   ],
   "source": [
    "df = df.rename(columns={0:'Service', 1:'Account',2:'Quantity', 3:'Price', 4:'Cost'})\n",
    "df"
   ]
  },
  {
   "cell_type": "code",
   "execution_count": 17,
   "metadata": {},
   "outputs": [
    {
     "data": {
      "text/plain": [
       "array(['Service', 'Account', 'Quantity', 'Price', 'Cost'], dtype=object)"
      ]
     },
     "execution_count": 17,
     "metadata": {},
     "output_type": "execute_result"
    }
   ],
   "source": [
    "colNames = df.columns.values\n",
    "colNames"
   ]
  }
 ],
 "metadata": {
  "kernelspec": {
   "display_name": "Python 3",
   "language": "python",
   "name": "python3"
  },
  "language_info": {
   "codemirror_mode": {
    "name": "ipython",
    "version": 3
   },
   "file_extension": ".py",
   "mimetype": "text/x-python",
   "name": "python",
   "nbconvert_exporter": "python",
   "pygments_lexer": "ipython3",
   "version": "3.8.5"
  }
 },
 "nbformat": 4,
 "nbformat_minor": 4
}
