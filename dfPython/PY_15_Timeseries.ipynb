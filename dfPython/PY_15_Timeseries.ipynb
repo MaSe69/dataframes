{
 "cells": [
  {
   "cell_type": "markdown",
   "metadata": {},
   "source": [
    "# Time Series"
   ]
  },
  {
   "cell_type": "code",
   "execution_count": 1,
   "metadata": {},
   "outputs": [],
   "source": [
    "import pandas as pd\n",
    "import matplotlib.pyplot as plt\n",
    "plt.rc('figure', figsize=(9, 6))"
   ]
  },
  {
   "cell_type": "markdown",
   "metadata": {},
   "source": [
    "## References\n",
    "Official Pandas documentation on time series: https://pandas.pydata.org/pandas-docs/stable/user_guide/timeseries.html <br>\n",
    "Chapter on time series in Wes McKinneys book: https://github.com/wesm/pydata-book/blob/2nd-edition/ch11.ipynb\n",
    "    "
   ]
  },
  {
   "cell_type": "markdown",
   "metadata": {},
   "source": [
    "## Get data as time series\n",
    "You can specify the columns that contains the date or time and set it as index."
   ]
  },
  {
   "cell_type": "code",
   "execution_count": 2,
   "metadata": {},
   "outputs": [],
   "source": [
    "fileStore = \"../ZZ_Data/Kaggle_Rossmann/store.csv\"\n",
    "fileTrain = \"../ZZ_Data/Kaggle_Rossmann/train.csv\"\n",
    "fileTest = \"../ZZ_Data/Kaggle_Rossmann/test.csv\""
   ]
  },
  {
   "cell_type": "code",
   "execution_count": 3,
   "metadata": {},
   "outputs": [],
   "source": [
    "### Read specified columns and a specified number of rows, and set the date column as index of the time series\n",
    "colsIwannaUse = [\"Store\", \"Date\", \"Customers\", \"Sales\"]\n",
    "df = pd.read_csv(fileTrain, parse_dates=[\"Date\"], usecols = colsIwannaUse, nrows=10000000,  index_col='Date') \n",
    "#df[10:10000:1000]"
   ]
  },
  {
   "cell_type": "code",
   "execution_count": 4,
   "metadata": {},
   "outputs": [
    {
     "data": {
      "text/html": [
       "<div>\n",
       "<style scoped>\n",
       "    .dataframe tbody tr th:only-of-type {\n",
       "        vertical-align: middle;\n",
       "    }\n",
       "\n",
       "    .dataframe tbody tr th {\n",
       "        vertical-align: top;\n",
       "    }\n",
       "\n",
       "    .dataframe thead th {\n",
       "        text-align: right;\n",
       "    }\n",
       "</style>\n",
       "<table border=\"1\" class=\"dataframe\">\n",
       "  <thead>\n",
       "    <tr style=\"text-align: right;\">\n",
       "      <th></th>\n",
       "      <th>Store</th>\n",
       "      <th>Sales</th>\n",
       "      <th>Customers</th>\n",
       "    </tr>\n",
       "    <tr>\n",
       "      <th>Date</th>\n",
       "      <th></th>\n",
       "      <th></th>\n",
       "      <th></th>\n",
       "    </tr>\n",
       "  </thead>\n",
       "  <tbody>\n",
       "    <tr>\n",
       "      <th>2015-07-31</th>\n",
       "      <td>746</td>\n",
       "      <td>9082</td>\n",
       "      <td>638</td>\n",
       "    </tr>\n",
       "    <tr>\n",
       "      <th>2015-07-31</th>\n",
       "      <td>747</td>\n",
       "      <td>10708</td>\n",
       "      <td>826</td>\n",
       "    </tr>\n",
       "    <tr>\n",
       "      <th>2015-07-31</th>\n",
       "      <td>748</td>\n",
       "      <td>7481</td>\n",
       "      <td>578</td>\n",
       "    </tr>\n",
       "    <tr>\n",
       "      <th>2015-07-31</th>\n",
       "      <td>742</td>\n",
       "      <td>10460</td>\n",
       "      <td>1016</td>\n",
       "    </tr>\n",
       "    <tr>\n",
       "      <th>2015-07-31</th>\n",
       "      <td>1</td>\n",
       "      <td>5263</td>\n",
       "      <td>555</td>\n",
       "    </tr>\n",
       "  </tbody>\n",
       "</table>\n",
       "</div>"
      ],
      "text/plain": [
       "            Store  Sales  Customers\n",
       "Date                               \n",
       "2015-07-31    746   9082        638\n",
       "2015-07-31    747  10708        826\n",
       "2015-07-31    748   7481        578\n",
       "2015-07-31    742  10460       1016\n",
       "2015-07-31      1   5263        555"
      ]
     },
     "execution_count": 4,
     "metadata": {},
     "output_type": "execute_result"
    }
   ],
   "source": [
    "### Sort the timeseries from oldest to newest data\n",
    "df = df.sort_values(by='Date', ascending=True)\n",
    "df.tail()"
   ]
  },
  {
   "cell_type": "code",
   "execution_count": 5,
   "metadata": {},
   "outputs": [],
   "source": [
    "#df.plot(logy=True)"
   ]
  },
  {
   "cell_type": "markdown",
   "metadata": {},
   "source": [
    "## Investigating parts of the data"
   ]
  },
  {
   "cell_type": "code",
   "execution_count": 6,
   "metadata": {},
   "outputs": [
    {
     "data": {
      "text/html": [
       "<div>\n",
       "<style scoped>\n",
       "    .dataframe tbody tr th:only-of-type {\n",
       "        vertical-align: middle;\n",
       "    }\n",
       "\n",
       "    .dataframe tbody tr th {\n",
       "        vertical-align: top;\n",
       "    }\n",
       "\n",
       "    .dataframe thead th {\n",
       "        text-align: right;\n",
       "    }\n",
       "</style>\n",
       "<table border=\"1\" class=\"dataframe\">\n",
       "  <thead>\n",
       "    <tr style=\"text-align: right;\">\n",
       "      <th></th>\n",
       "      <th>Store</th>\n",
       "      <th>Sales</th>\n",
       "      <th>Customers</th>\n",
       "    </tr>\n",
       "    <tr>\n",
       "      <th>Date</th>\n",
       "      <th></th>\n",
       "      <th></th>\n",
       "      <th></th>\n",
       "    </tr>\n",
       "  </thead>\n",
       "  <tbody>\n",
       "    <tr>\n",
       "      <th>2014-12-01</th>\n",
       "      <td>371</td>\n",
       "      <td>11572</td>\n",
       "      <td>815</td>\n",
       "    </tr>\n",
       "    <tr>\n",
       "      <th>2014-12-01</th>\n",
       "      <td>372</td>\n",
       "      <td>14140</td>\n",
       "      <td>995</td>\n",
       "    </tr>\n",
       "    <tr>\n",
       "      <th>2014-12-01</th>\n",
       "      <td>373</td>\n",
       "      <td>5712</td>\n",
       "      <td>358</td>\n",
       "    </tr>\n",
       "    <tr>\n",
       "      <th>2014-12-01</th>\n",
       "      <td>374</td>\n",
       "      <td>11092</td>\n",
       "      <td>1127</td>\n",
       "    </tr>\n",
       "    <tr>\n",
       "      <th>2014-12-01</th>\n",
       "      <td>376</td>\n",
       "      <td>12472</td>\n",
       "      <td>1273</td>\n",
       "    </tr>\n",
       "  </tbody>\n",
       "</table>\n",
       "</div>"
      ],
      "text/plain": [
       "            Store  Sales  Customers\n",
       "Date                               \n",
       "2014-12-01    371  11572        815\n",
       "2014-12-01    372  14140        995\n",
       "2014-12-01    373   5712        358\n",
       "2014-12-01    374  11092       1127\n",
       "2014-12-01    376  12472       1273"
      ]
     },
     "execution_count": 6,
     "metadata": {},
     "output_type": "execute_result"
    }
   ],
   "source": [
    "### The first rows of a specified date\n",
    "df.loc[\"2014-12-01\"].head()"
   ]
  },
  {
   "cell_type": "code",
   "execution_count": 7,
   "metadata": {
    "tags": []
   },
   "outputs": [],
   "source": [
    "### Get the data of each year only\n",
    "df2014 = df.truncate(before='2014-01-1', after='2014-12-31', copy=True)\n",
    "#df2014"
   ]
  },
  {
   "cell_type": "markdown",
   "metadata": {},
   "source": [
    "## Resample"
   ]
  },
  {
   "cell_type": "code",
   "execution_count": 8,
   "metadata": {},
   "outputs": [
    {
     "data": {
      "text/html": [
       "<div>\n",
       "<style scoped>\n",
       "    .dataframe tbody tr th:only-of-type {\n",
       "        vertical-align: middle;\n",
       "    }\n",
       "\n",
       "    .dataframe tbody tr th {\n",
       "        vertical-align: top;\n",
       "    }\n",
       "\n",
       "    .dataframe thead th {\n",
       "        text-align: right;\n",
       "    }\n",
       "</style>\n",
       "<table border=\"1\" class=\"dataframe\">\n",
       "  <thead>\n",
       "    <tr style=\"text-align: right;\">\n",
       "      <th></th>\n",
       "      <th>Store</th>\n",
       "      <th>Sales</th>\n",
       "      <th>Customers</th>\n",
       "    </tr>\n",
       "    <tr>\n",
       "      <th>Date</th>\n",
       "      <th></th>\n",
       "      <th></th>\n",
       "      <th></th>\n",
       "    </tr>\n",
       "  </thead>\n",
       "  <tbody>\n",
       "    <tr>\n",
       "      <th>2013-12-31</th>\n",
       "      <td>557.998943</td>\n",
       "      <td>5658.533675</td>\n",
       "      <td>629.043686</td>\n",
       "    </tr>\n",
       "    <tr>\n",
       "      <th>2014-12-31</th>\n",
       "      <td>559.170379</td>\n",
       "      <td>5833.290704</td>\n",
       "      <td>643.268034</td>\n",
       "    </tr>\n",
       "    <tr>\n",
       "      <th>2015-12-31</th>\n",
       "      <td>558.000000</td>\n",
       "      <td>5878.245380</td>\n",
       "      <td>624.199843</td>\n",
       "    </tr>\n",
       "  </tbody>\n",
       "</table>\n",
       "</div>"
      ],
      "text/plain": [
       "                 Store        Sales   Customers\n",
       "Date                                           \n",
       "2013-12-31  557.998943  5658.533675  629.043686\n",
       "2014-12-31  559.170379  5833.290704  643.268034\n",
       "2015-12-31  558.000000  5878.245380  624.199843"
      ]
     },
     "execution_count": 8,
     "metadata": {},
     "output_type": "execute_result"
    }
   ],
   "source": [
    "dfY = df.resample('Y').mean()\n",
    "dfY"
   ]
  },
  {
   "cell_type": "code",
   "execution_count": 9,
   "metadata": {},
   "outputs": [],
   "source": [
    "dfD = df.resample('D').mean()\n",
    "#dfD.head()"
   ]
  },
  {
   "cell_type": "code",
   "execution_count": 10,
   "metadata": {},
   "outputs": [],
   "source": [
    "dfW = df.resample('W').mean()\n",
    "#dfW.head()"
   ]
  },
  {
   "cell_type": "code",
   "execution_count": 11,
   "metadata": {},
   "outputs": [
    {
     "name": "stdout",
     "output_type": "stream",
     "text": [
      "Minimum:\n",
      " Store         558.000000\n",
      "Sales        5431.875799\n",
      "Customers     604.460784\n",
      "dtype: float64\n",
      "Average:\n",
      " Store         559.271658\n",
      "Sales        5850.786695\n",
      "Customers     645.145753\n",
      "dtype: float64\n",
      "Maximum:\n",
      " Store         560.543316\n",
      "Sales        6973.282456\n",
      "Customers     717.634087\n",
      "dtype: float64\n"
     ]
    }
   ],
   "source": [
    "df2014 = df2014.resample('M').mean()\n",
    "print(\"Minimum:\\n\", df2014.min())\n",
    "print(\"Average:\\n\", df2014.mean())\n",
    "print(\"Maximum:\\n\", df2014.max())      "
   ]
  },
  {
   "cell_type": "code",
   "execution_count": 12,
   "metadata": {},
   "outputs": [
    {
     "name": "stdout",
     "output_type": "stream",
     "text": [
      "5431.875799218863 5850.786694744208 6973.2824564429875\n"
     ]
    }
   ],
   "source": [
    "dfM2014Sales = df2014[\"Sales\"].resample('M').sum()\n",
    "print(dfM2014Sales.min(),dfM2014Sales.mean(),dfM2014Sales.max())"
   ]
  },
  {
   "cell_type": "markdown",
   "metadata": {},
   "source": [
    "# Some Plots"
   ]
  },
  {
   "cell_type": "code",
   "execution_count": 13,
   "metadata": {},
   "outputs": [],
   "source": [
    "#dfM2014Sales.plot()"
   ]
  },
  {
   "cell_type": "code",
   "execution_count": 18,
   "metadata": {},
   "outputs": [],
   "source": [
    "### Daily Customers (do not significantly change in number over this time )\n",
    "#dfD.Customers.plot()\n",
    "#dfD.Customers.rolling(90).mean().plot()"
   ]
  },
  {
   "cell_type": "code",
   "execution_count": 15,
   "metadata": {},
   "outputs": [
    {
     "data": {
      "text/plain": [
       "<AxesSubplot:xlabel='Date'>"
      ]
     },
     "execution_count": 15,
     "metadata": {},
     "output_type": "execute_result"
    },
    {
     "data": {
      "image/png": "[encoded data removed]",
      "text/plain": [
       "<Figure size 648x432 with 1 Axes>"
      ]
     },
     "metadata": {
      "needs_background": "light"
     },
     "output_type": "display_data"
    }
   ],
   "source": [
    "# Sales has an increasing trend over this time with peaks in each December\n",
    "#dfW.Sales.rolling(2).max().plot()\n",
    "dfW.Sales.rolling(8).mean().plot()\n",
    "#dfW.Sales.rolling(2).min().plot()"
   ]
  },
  {
   "cell_type": "code",
   "execution_count": 19,
   "metadata": {},
   "outputs": [],
   "source": [
    "### Example for a bar chart\n",
    "dfM = df.resample('M').mean()\n",
    "dfM['Month'] = dfM.index.strftime(\"%B\")\n",
    "dfM = dfM.set_index(\"Month\")\n",
    "#dfM.Sales.plot.bar()"
   ]
  },
  {
   "cell_type": "code",
   "execution_count": null,
   "metadata": {},
   "outputs": [],
   "source": []
  }
 ],
 "metadata": {
  "kernelspec": {
   "display_name": "Python 3",
   "language": "python",
   "name": "python3"
  },
  "language_info": {
   "codemirror_mode": {
    "name": "ipython",
    "version": 3
   },
   "file_extension": ".py",
   "mimetype": "text/x-python",
   "name": "python",
   "nbconvert_exporter": "python",
   "pygments_lexer": "ipython3",
   "version": "3.8.5"
  }
 },
 "nbformat": 4,
 "nbformat_minor": 4
}
