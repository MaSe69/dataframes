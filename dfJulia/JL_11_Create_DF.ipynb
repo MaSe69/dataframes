{
 "cells": [
  {
   "cell_type": "code",
   "execution_count": 1,
   "metadata": {},
   "outputs": [
    {
     "name": "stdout",
     "output_type": "stream",
     "text": [
      "Create DataFrames within the program\n"
     ]
    }
   ],
   "source": [
    "println(\"Create DataFrames within the program\")"
   ]
  },
  {
   "cell_type": "code",
   "execution_count": 2,
   "metadata": {},
   "outputs": [],
   "source": [
    "using DataFrames\n",
    "using LinearAlgebra"
   ]
  },
  {
   "cell_type": "markdown",
   "metadata": {},
   "source": [
    "## Create the same dataframe in Python and Julia"
   ]
  },
  {
   "cell_type": "code",
   "execution_count": 20,
   "metadata": {},
   "outputs": [],
   "source": [
    "service = [\"Consulting\", \"Installation\", \"Operation\"]\n",
    "account = [\"0815\", \"1234\", \"9876\"]\n",
    "quantity = [10, 100, 50]\n",
    "price = [100, 10, 50]\n",
    "cost = [30, 7, 25];"
   ]
  },
  {
   "cell_type": "code",
   "execution_count": 19,
   "metadata": {},
   "outputs": [
    {
     "data": {
      "text/html": [
       "<table class=\"data-frame\"><thead><tr><th></th><th>Service</th><th>Account</th><th>Quantity</th><th>Price</th><th>Cost</th></tr><tr><th></th><th>String</th><th>String</th><th>Int64</th><th>Int64</th><th>Int64</th></tr></thead><tbody><p>3 rows × 5 columns</p><tr><th>1</th><td>Consulting</td><td>0815</td><td>10</td><td>100</td><td>30</td></tr><tr><th>2</th><td>Installation</td><td>1234</td><td>100</td><td>10</td><td>7</td></tr><tr><th>3</th><td>Operation</td><td>9876</td><td>50</td><td>50</td><td>25</td></tr></tbody></table>"
      ],
      "text/latex": [
       "\\begin{tabular}{r|ccccc}\n",
       "\t& Service & Account & Quantity & Price & Cost\\\\\n",
       "\t\\hline\n",
       "\t& String & String & Int64 & Int64 & Int64\\\\\n",
       "\t\\hline\n",
       "\t1 & Consulting & 0815 & 10 & 100 & 30 \\\\\n",
       "\t2 & Installation & 1234 & 100 & 10 & 7 \\\\\n",
       "\t3 & Operation & 9876 & 50 & 50 & 25 \\\\\n",
       "\\end{tabular}\n"
      ],
      "text/plain": [
       "3×5 DataFrame\n",
       "│ Row │ Service      │ Account │ Quantity │ Price │ Cost  │\n",
       "│     │ \u001b[90mString\u001b[39m       │ \u001b[90mString\u001b[39m  │ \u001b[90mInt64\u001b[39m    │ \u001b[90mInt64\u001b[39m │ \u001b[90mInt64\u001b[39m │\n",
       "├─────┼──────────────┼─────────┼──────────┼───────┼───────┤\n",
       "│ 1   │ Consulting   │ 0815    │ 10       │ 100   │ 30    │\n",
       "│ 2   │ Installation │ 1234    │ 100      │ 10    │ 7     │\n",
       "│ 3   │ Operation    │ 9876    │ 50       │ 50    │ 25    │"
      ]
     },
     "execution_count": 19,
     "metadata": {},
     "output_type": "execute_result"
    }
   ],
   "source": [
    "df = DataFrame(\n",
    "    Service = service,\n",
    "    Account = account,\n",
    "    Quantity = quantity,\n",
    "    Price = price,\n",
    "    Cost = cost\n",
    ")"
   ]
  },
  {
   "cell_type": "markdown",
   "metadata": {},
   "source": [
    "Done (Similar result as with Python)"
   ]
  },
  {
   "cell_type": "code",
   "execution_count": 5,
   "metadata": {},
   "outputs": [
    {
     "data": {
      "text/plain": [
       "DataFrame"
      ]
     },
     "execution_count": 5,
     "metadata": {},
     "output_type": "execute_result"
    }
   ],
   "source": [
    "typeof(df)"
   ]
  },
  {
   "cell_type": "code",
   "execution_count": 6,
   "metadata": {},
   "outputs": [
    {
     "data": {
      "text/plain": [
       "5-element Array{String,1}:\n",
       " \"Service\"\n",
       " \"Account\"\n",
       " \"Quantity\"\n",
       " \"Price\"\n",
       " \"Cost\""
      ]
     },
     "execution_count": 6,
     "metadata": {},
     "output_type": "execute_result"
    }
   ],
   "source": [
    "colNames = names(df)"
   ]
  },
  {
   "cell_type": "markdown",
   "metadata": {},
   "source": [
    "Transposing is really supported for Julia Dataframes.  Also Python has some issues."
   ]
  },
  {
   "cell_type": "markdown",
   "metadata": {},
   "source": [
    "## 2 - Quick DF Generations"
   ]
  },
  {
   "cell_type": "code",
   "execution_count": 7,
   "metadata": {},
   "outputs": [
    {
     "data": {
      "text/html": [
       "<table class=\"data-frame\"><thead><tr><th></th></tr><tr><th></th></tr></thead><tbody><p>0 rows × 0 columns</p></tbody></table>"
      ],
      "text/latex": [
       "\\begin{tabular}{r|}\n",
       "\t& \\\\\n",
       "\t\\hline\n",
       "\t& \\\\\n",
       "\t\\hline\n",
       "\\end{tabular}\n"
      ],
      "text/plain": [
       "0×0 DataFrame\n"
      ]
     },
     "execution_count": 7,
     "metadata": {},
     "output_type": "execute_result"
    }
   ],
   "source": [
    "df = DataFrame()"
   ]
  },
  {
   "cell_type": "code",
   "execution_count": 8,
   "metadata": {},
   "outputs": [
    {
     "data": {
      "text/html": [
       "<table class=\"data-frame\"><thead><tr><th></th><th>a</th><th>b</th></tr><tr><th></th><th>Int64</th><th>Float64</th></tr></thead><tbody><p>1 rows × 2 columns</p><tr><th>1</th><td>1</td><td>1.0</td></tr></tbody></table>"
      ],
      "text/latex": [
       "\\begin{tabular}{r|cc}\n",
       "\t& a & b\\\\\n",
       "\t\\hline\n",
       "\t& Int64 & Float64\\\\\n",
       "\t\\hline\n",
       "\t1 & 1 & 1.0 \\\\\n",
       "\\end{tabular}\n"
      ],
      "text/plain": [
       "1×2 DataFrame\n",
       "│ Row │ a     │ b       │\n",
       "│     │ \u001b[90mInt64\u001b[39m │ \u001b[90mFloat64\u001b[39m │\n",
       "├─────┼───────┼─────────┤\n",
       "│ 1   │ 1     │ 1.0     │"
      ]
     },
     "execution_count": 8,
     "metadata": {},
     "output_type": "execute_result"
    }
   ],
   "source": [
    "df = DataFrame(a=1, b=1.0)"
   ]
  },
  {
   "cell_type": "code",
   "execution_count": 10,
   "metadata": {},
   "outputs": [
    {
     "data": {
      "text/html": [
       "<table class=\"data-frame\"><thead><tr><th></th><th>a</th><th>b</th><th>c</th><th>Pasword</th><th>fixed</th></tr><tr><th></th><th>Int64</th><th>Float64</th><th>Float64</th><th>String</th><th>String</th></tr></thead><tbody><p>3 rows × 5 columns</p><tr><th>1</th><td>1</td><td>0.872464</td><td>-0.0821864</td><td>AAA</td><td>good</td></tr><tr><th>2</th><td>2</td><td>0.161365</td><td>0.343406</td><td>AAA</td><td>good</td></tr><tr><th>3</th><td>3</td><td>0.166446</td><td>-0.0633337</td><td>AAA</td><td>good</td></tr></tbody></table>"
      ],
      "text/latex": [
       "\\begin{tabular}{r|ccccc}\n",
       "\t& a & b & c & Pasword & fixed\\\\\n",
       "\t\\hline\n",
       "\t& Int64 & Float64 & Float64 & String & String\\\\\n",
       "\t\\hline\n",
       "\t1 & 1 & 0.872464 & -0.0821864 & AAA & good \\\\\n",
       "\t2 & 2 & 0.161365 & 0.343406 & AAA & good \\\\\n",
       "\t3 & 3 & 0.166446 & -0.0633337 & AAA & good \\\\\n",
       "\\end{tabular}\n"
      ],
      "text/plain": [
       "3×5 DataFrame\n",
       "│ Row │ a     │ b        │ c          │ Pasword │ fixed  │\n",
       "│     │ \u001b[90mInt64\u001b[39m │ \u001b[90mFloat64\u001b[39m  │ \u001b[90mFloat64\u001b[39m    │ \u001b[90mString\u001b[39m  │ \u001b[90mString\u001b[39m │\n",
       "├─────┼───────┼──────────┼────────────┼─────────┼────────┤\n",
       "│ 1   │ 1     │ 0.872464 │ -0.0821864 │ AAA     │ good   │\n",
       "│ 2   │ 2     │ 0.161365 │ 0.343406   │ AAA     │ good   │\n",
       "│ 3   │ 3     │ 0.166446 │ -0.0633337 │ AAA     │ good   │"
      ]
     },
     "execution_count": 10,
     "metadata": {},
     "output_type": "execute_result"
    }
   ],
   "source": [
    "using Random\n",
    "df = DataFrame(a = 1:3, b = rand(3), c = randn(3), Pasword=randstring.(\"ABC\", 3), fixed = \"good\")\n"
   ]
  }
 ],
 "metadata": {
  "kernelspec": {
   "display_name": "Julia 1.4.1",
   "language": "julia",
   "name": "julia-1.4"
  },
  "language_info": {
   "file_extension": ".jl",
   "mimetype": "application/julia",
   "name": "julia",
   "version": "1.4.1"
  }
 },
 "nbformat": 4,
 "nbformat_minor": 4
}
