{
 "cells": [
  {
   "cell_type": "code",
   "execution_count": 1,
   "metadata": {},
   "outputs": [
    {
     "name": "stdout",
     "output_type": "stream",
     "text": [
      "Create DataFrames within the program\n"
     ]
    }
   ],
   "source": [
    "println(\"Create DataFrames within the program\")"
   ]
  },
  {
   "cell_type": "code",
   "execution_count": 2,
   "metadata": {},
   "outputs": [],
   "source": [
    "using DataFrames\n",
    "using LinearAlgebra"
   ]
  },
  {
   "cell_type": "markdown",
   "metadata": {},
   "source": [
    "## 1: DF from rows, Column Names"
   ]
  },
  {
   "cell_type": "code",
   "execution_count": 3,
   "metadata": {},
   "outputs": [
    {
     "data": {
      "text/plain": [
       "3-element Array{Int64,1}:\n",
       " 30\n",
       "  7\n",
       " 25"
      ]
     },
     "execution_count": 3,
     "metadata": {},
     "output_type": "execute_result"
    }
   ],
   "source": [
    "service = [\"Consulting\", \"Installation\", \"Operation\"]\n",
    "account = [\"0815\", \"1234\", \"9876\"]\n",
    "quantity = [10, 100, 50]\n",
    "price = [100, 10, 50]\n",
    "cost = [30, 7, 25]"
   ]
  },
  {
   "cell_type": "code",
   "execution_count": 4,
   "metadata": {},
   "outputs": [
    {
     "data": {
      "text/html": [
       "<table class=\"data-frame\"><thead><tr><th></th><th>Service</th><th>Account</th><th>Quantity</th><th>Price</th><th>Cost</th></tr><tr><th></th><th>String</th><th>String</th><th>Int64</th><th>Int64</th><th>Int64</th></tr></thead><tbody><p>3 rows × 5 columns</p><tr><th>1</th><td>Consulting</td><td>0815</td><td>10</td><td>100</td><td>30</td></tr><tr><th>2</th><td>Installation</td><td>1234</td><td>100</td><td>10</td><td>7</td></tr><tr><th>3</th><td>Operation</td><td>9876</td><td>50</td><td>50</td><td>25</td></tr></tbody></table>"
      ],
      "text/latex": [
       "\\begin{tabular}{r|ccccc}\n",
       "\t& Service & Account & Quantity & Price & Cost\\\\\n",
       "\t\\hline\n",
       "\t& String & String & Int64 & Int64 & Int64\\\\\n",
       "\t\\hline\n",
       "\t1 & Consulting & 0815 & 10 & 100 & 30 \\\\\n",
       "\t2 & Installation & 1234 & 100 & 10 & 7 \\\\\n",
       "\t3 & Operation & 9876 & 50 & 50 & 25 \\\\\n",
       "\\end{tabular}\n"
      ],
      "text/plain": [
       "3×5 DataFrame\n",
       "│ Row │ Service      │ Account │ Quantity │ Price │ Cost  │\n",
       "│     │ \u001b[90mString\u001b[39m       │ \u001b[90mString\u001b[39m  │ \u001b[90mInt64\u001b[39m    │ \u001b[90mInt64\u001b[39m │ \u001b[90mInt64\u001b[39m │\n",
       "├─────┼──────────────┼─────────┼──────────┼───────┼───────┤\n",
       "│ 1   │ Consulting   │ 0815    │ 10       │ 100   │ 30    │\n",
       "│ 2   │ Installation │ 1234    │ 100      │ 10    │ 7     │\n",
       "│ 3   │ Operation    │ 9876    │ 50       │ 50    │ 25    │"
      ]
     },
     "execution_count": 4,
     "metadata": {},
     "output_type": "execute_result"
    }
   ],
   "source": [
    "df = DataFrame(\n",
    "    Service = service,\n",
    "    Account = account,\n",
    "    Quantity = quantity,\n",
    "    Price = price,\n",
    "    Cost = cost\n",
    ")"
   ]
  },
  {
   "cell_type": "code",
   "execution_count": 5,
   "metadata": {},
   "outputs": [
    {
     "data": {
      "text/plain": [
       "DataFrame"
      ]
     },
     "execution_count": 5,
     "metadata": {},
     "output_type": "execute_result"
    }
   ],
   "source": [
    "typeof(df)"
   ]
  },
  {
   "cell_type": "code",
   "execution_count": 6,
   "metadata": {},
   "outputs": [
    {
     "data": {
      "text/plain": [
       "5-element Array{String,1}:\n",
       " \"Service\"\n",
       " \"Account\"\n",
       " \"Quantity\"\n",
       " \"Price\"\n",
       " \"Cost\""
      ]
     },
     "execution_count": 6,
     "metadata": {},
     "output_type": "execute_result"
    }
   ],
   "source": [
    "colNames = names(df)"
   ]
  },
  {
   "cell_type": "markdown",
   "metadata": {},
   "source": [
    "Transposing is really supported for Julia Dataframes.  Also Python has some issues."
   ]
  },
  {
   "cell_type": "markdown",
   "metadata": {},
   "source": [
    "## 2 - Quick DF Generations"
   ]
  },
  {
   "cell_type": "code",
   "execution_count": 7,
   "metadata": {},
   "outputs": [
    {
     "data": {
      "text/html": [
       "<table class=\"data-frame\"><thead><tr><th></th></tr><tr><th></th></tr></thead><tbody><p>0 rows × 0 columns</p></tbody></table>"
      ],
      "text/latex": [
       "\\begin{tabular}{r|}\n",
       "\t& \\\\\n",
       "\t\\hline\n",
       "\t& \\\\\n",
       "\t\\hline\n",
       "\\end{tabular}\n"
      ],
      "text/plain": [
       "0×0 DataFrame\n"
      ]
     },
     "execution_count": 7,
     "metadata": {},
     "output_type": "execute_result"
    }
   ],
   "source": [
    "df = DataFrame()"
   ]
  },
  {
   "cell_type": "code",
   "execution_count": 8,
   "metadata": {},
   "outputs": [
    {
     "data": {
      "text/html": [
       "<table class=\"data-frame\"><thead><tr><th></th><th>a</th><th>b</th></tr><tr><th></th><th>Int64</th><th>Float64</th></tr></thead><tbody><p>1 rows × 2 columns</p><tr><th>1</th><td>1</td><td>1.0</td></tr></tbody></table>"
      ],
      "text/latex": [
       "\\begin{tabular}{r|cc}\n",
       "\t& a & b\\\\\n",
       "\t\\hline\n",
       "\t& Int64 & Float64\\\\\n",
       "\t\\hline\n",
       "\t1 & 1 & 1.0 \\\\\n",
       "\\end{tabular}\n"
      ],
      "text/plain": [
       "1×2 DataFrame\n",
       "│ Row │ a     │ b       │\n",
       "│     │ \u001b[90mInt64\u001b[39m │ \u001b[90mFloat64\u001b[39m │\n",
       "├─────┼───────┼─────────┤\n",
       "│ 1   │ 1     │ 1.0     │"
      ]
     },
     "execution_count": 8,
     "metadata": {},
     "output_type": "execute_result"
    }
   ],
   "source": [
    "df = DataFrame(a=1, b=1.0)"
   ]
  },
  {
   "cell_type": "code",
   "execution_count": 9,
   "metadata": {},
   "outputs": [
    {
     "ename": "MethodError",
     "evalue": "MethodError: no method matching DataFrame(::Array{Array{Float64,1},1}, ::Symbol)\nClosest candidates are:\n  DataFrame(::AbstractArray{#s34,1} where #s34<:(AbstractArray{T,1} where T)) at /home/julia/.julia/packages/DataFrames/GtZ1l/src/dataframe/dataframe.jl:242\n  DataFrame(::AbstractArray{#s33,1} where #s33<:(AbstractArray{T,1} where T), !Matched::AbstractArray{Symbol,1}; makeunique, copycols) at /home/julia/.julia/packages/DataFrames/GtZ1l/src/dataframe/dataframe.jl:242\n  DataFrame(::AbstractArray{T,1} where T, !Matched::AbstractArray{Symbol,1}; makeunique, copycols) at /home/julia/.julia/packages/DataFrames/GtZ1l/src/dataframe/dataframe.jl:228\n  ...",
     "output_type": "error",
     "traceback": [
      "MethodError: no method matching DataFrame(::Array{Array{Float64,1},1}, ::Symbol)\nClosest candidates are:\n  DataFrame(::AbstractArray{#s34,1} where #s34<:(AbstractArray{T,1} where T)) at /home/julia/.julia/packages/DataFrames/GtZ1l/src/dataframe/dataframe.jl:242\n  DataFrame(::AbstractArray{#s33,1} where #s33<:(AbstractArray{T,1} where T), !Matched::AbstractArray{Symbol,1}; makeunique, copycols) at /home/julia/.julia/packages/DataFrames/GtZ1l/src/dataframe/dataframe.jl:242\n  DataFrame(::AbstractArray{T,1} where T, !Matched::AbstractArray{Symbol,1}; makeunique, copycols) at /home/julia/.julia/packages/DataFrames/GtZ1l/src/dataframe/dataframe.jl:228\n  ...",
      "",
      "Stacktrace:",
      " [1] top-level scope at In[9]:1"
     ]
    }
   ],
   "source": [
    "DataFrame([rand(3) for i in 1:3], :auto)"
   ]
  },
  {
   "cell_type": "code",
   "execution_count": 10,
   "metadata": {},
   "outputs": [
    {
     "data": {
      "text/html": [
       "<table class=\"data-frame\"><thead><tr><th></th><th>a</th><th>b</th><th>c</th><th>Pasword</th><th>fixed</th></tr><tr><th></th><th>Int64</th><th>Float64</th><th>Float64</th><th>String</th><th>String</th></tr></thead><tbody><p>3 rows × 5 columns</p><tr><th>1</th><td>1</td><td>0.106553</td><td>-0.0787684</td><td>AAB</td><td>good</td></tr><tr><th>2</th><td>2</td><td>0.0168964</td><td>1.09424</td><td>AAB</td><td>good</td></tr><tr><th>3</th><td>3</td><td>0.163512</td><td>0.911876</td><td>AAB</td><td>good</td></tr></tbody></table>"
      ],
      "text/latex": [
       "\\begin{tabular}{r|ccccc}\n",
       "\t& a & b & c & Pasword & fixed\\\\\n",
       "\t\\hline\n",
       "\t& Int64 & Float64 & Float64 & String & String\\\\\n",
       "\t\\hline\n",
       "\t1 & 1 & 0.106553 & -0.0787684 & AAB & good \\\\\n",
       "\t2 & 2 & 0.0168964 & 1.09424 & AAB & good \\\\\n",
       "\t3 & 3 & 0.163512 & 0.911876 & AAB & good \\\\\n",
       "\\end{tabular}\n"
      ],
      "text/plain": [
       "3×5 DataFrame\n",
       "│ Row │ a     │ b         │ c          │ Pasword │ fixed  │\n",
       "│     │ \u001b[90mInt64\u001b[39m │ \u001b[90mFloat64\u001b[39m   │ \u001b[90mFloat64\u001b[39m    │ \u001b[90mString\u001b[39m  │ \u001b[90mString\u001b[39m │\n",
       "├─────┼───────┼───────────┼────────────┼─────────┼────────┤\n",
       "│ 1   │ 1     │ 0.106553  │ -0.0787684 │ AAB     │ good   │\n",
       "│ 2   │ 2     │ 0.0168964 │ 1.09424    │ AAB     │ good   │\n",
       "│ 3   │ 3     │ 0.163512  │ 0.911876   │ AAB     │ good   │"
      ]
     },
     "execution_count": 10,
     "metadata": {},
     "output_type": "execute_result"
    }
   ],
   "source": [
    "using Random\n",
    "df = DataFrame(a = 1:3, b = rand(3), c = randn(3), Pasword=randstring.(\"ABC\", 3), fixed = \"good\")\n"
   ]
  },
  {
   "cell_type": "code",
   "execution_count": 11,
   "metadata": {},
   "outputs": [
    {
     "name": "stderr",
     "output_type": "stream",
     "text": [
      "┌ Warning: `empty!(df::DataFrame)` is deprecated, use `select!(df, Int[])` instead.\n",
      "│   caller = top-level scope at In[11]:1\n",
      "└ @ Core In[11]:1\n"
     ]
    },
    {
     "data": {
      "text/html": [
       "<table class=\"data-frame\"><thead><tr><th></th></tr><tr><th></th></tr></thead><tbody><p>0 rows × 0 columns</p></tbody></table>"
      ],
      "text/latex": [
       "\\begin{tabular}{r|}\n",
       "\t& \\\\\n",
       "\t\\hline\n",
       "\t& \\\\\n",
       "\t\\hline\n",
       "\\end{tabular}\n"
      ],
      "text/plain": [
       "0×0 DataFrame\n"
      ]
     },
     "execution_count": 11,
     "metadata": {},
     "output_type": "execute_result"
    }
   ],
   "source": [
    "empty!(df)"
   ]
  },
  {
   "cell_type": "markdown",
   "metadata": {},
   "source": [
    "## Transpose Dataframe"
   ]
  },
  {
   "cell_type": "code",
   "execution_count": 12,
   "metadata": {},
   "outputs": [
    {
     "ename": "ArgumentError",
     "evalue": "ArgumentError: reducing over an empty collection is not allowed",
     "output_type": "error",
     "traceback": [
      "ArgumentError: reducing over an empty collection is not allowed",
      "",
      "Stacktrace:",
      " [1] _empty_reduce_error() at ./reduce.jl:295",
      " [2] mapreduce_empty(::Function, ::Base.BottomRF{typeof(promote_type)}, ::Type{T} where T) at ./reduce.jl:334",
      " [3] reduce_empty(::Base.MappingRF{typeof(eltype),Base.BottomRF{typeof(promote_type)}}, ::Type{T} where T) at ./reduce.jl:321",
      " [4] reduce_empty_iter at ./reduce.jl:347 [inlined]",
      " [5] reduce_empty_iter at ./reduce.jl:346 [inlined]",
      " [6] foldl_impl at ./reduce.jl:46 [inlined]",
      " [7] mapfoldl_impl at ./reduce.jl:41 [inlined]",
      " [8] #mapfoldl#189 at ./reduce.jl:157 [inlined]",
      " [9] mapfoldl at ./reduce.jl:157 [inlined]",
      " [10] #mapreduce#193 at ./reduce.jl:283 [inlined]",
      " [11] mapreduce at ./reduce.jl:283 [inlined]",
      " [12] #reduce#195 at ./reduce.jl:448 [inlined]",
      " [13] reduce at ./reduce.jl:448 [inlined]",
      " [14] convert(::Type{Array{T,2} where T}, ::DataFrame) at /home/julia/.julia/packages/DataFrames/GtZ1l/src/abstractdataframe/abstractdataframe.jl:1090",
      " [15] Array{T,2} where T(::DataFrame) at /home/julia/.julia/packages/DataFrames/GtZ1l/src/abstractdataframe/abstractdataframe.jl:1115",
      " [16] top-level scope at In[12]:1"
     ]
    }
   ],
   "source": [
    "m = Matrix(df)"
   ]
  },
  {
   "cell_type": "code",
   "execution_count": 13,
   "metadata": {},
   "outputs": [
    {
     "ename": "UndefVarError",
     "evalue": "UndefVarError: m not defined",
     "output_type": "error",
     "traceback": [
      "UndefVarError: m not defined",
      "",
      "Stacktrace:",
      " [1] top-level scope at In[13]:1"
     ]
    }
   ],
   "source": [
    "### Transpose matrix does not work here - despite all LinearAlgebra package inclusion\n",
    "mT = transpose(m);\n",
    "mt = m';"
   ]
  },
  {
   "cell_type": "code",
   "execution_count": 14,
   "metadata": {},
   "outputs": [
    {
     "data": {
      "text/plain": [
       "2×2 Array{Complex{Int64},2}:\n",
       " 3+2im  9+2im\n",
       " 8+7im  4+6im"
      ]
     },
     "execution_count": 14,
     "metadata": {},
     "output_type": "execute_result"
    }
   ],
   "source": [
    "A = [3+2im 9+2im; 8+7im  4+6im]"
   ]
  },
  {
   "cell_type": "code",
   "execution_count": 15,
   "metadata": {},
   "outputs": [
    {
     "data": {
      "text/plain": [
       "2×2 Transpose{Complex{Int64},Array{Complex{Int64},2}}:\n",
       " 3+2im  8+7im\n",
       " 9+2im  4+6im"
      ]
     },
     "execution_count": 15,
     "metadata": {},
     "output_type": "execute_result"
    }
   ],
   "source": [
    "transpose(A)"
   ]
  },
  {
   "cell_type": "code",
   "execution_count": 16,
   "metadata": {},
   "outputs": [
    {
     "ename": "ArgumentError",
     "evalue": "ArgumentError: reducing over an empty collection is not allowed",
     "output_type": "error",
     "traceback": [
      "ArgumentError: reducing over an empty collection is not allowed",
      "",
      "Stacktrace:",
      " [1] _empty_reduce_error() at ./reduce.jl:295",
      " [2] mapreduce_empty(::Function, ::Base.BottomRF{typeof(promote_type)}, ::Type{T} where T) at ./reduce.jl:334",
      " [3] reduce_empty(::Base.MappingRF{typeof(eltype),Base.BottomRF{typeof(promote_type)}}, ::Type{T} where T) at ./reduce.jl:321",
      " [4] reduce_empty_iter at ./reduce.jl:347 [inlined]",
      " [5] reduce_empty_iter at ./reduce.jl:346 [inlined]",
      " [6] foldl_impl at ./reduce.jl:46 [inlined]",
      " [7] mapfoldl_impl at ./reduce.jl:41 [inlined]",
      " [8] #mapfoldl#189 at ./reduce.jl:157 [inlined]",
      " [9] mapfoldl at ./reduce.jl:157 [inlined]",
      " [10] #mapreduce#193 at ./reduce.jl:283 [inlined]",
      " [11] mapreduce at ./reduce.jl:283 [inlined]",
      " [12] #reduce#195 at ./reduce.jl:448 [inlined]",
      " [13] reduce at ./reduce.jl:448 [inlined]",
      " [14] convert(::Type{Array{T,2} where T}, ::DataFrame) at /home/julia/.julia/packages/DataFrames/GtZ1l/src/abstractdataframe/abstractdataframe.jl:1090",
      " [15] Array{T,2} where T(::DataFrame) at /home/julia/.julia/packages/DataFrames/GtZ1l/src/abstractdataframe/abstractdataframe.jl:1115",
      " [16] top-level scope at In[16]:1"
     ]
    }
   ],
   "source": [
    "m = Matrix(df[:, 3:end])"
   ]
  },
  {
   "cell_type": "code",
   "execution_count": 17,
   "metadata": {},
   "outputs": [
    {
     "ename": "UndefVarError",
     "evalue": "UndefVarError: m not defined",
     "output_type": "error",
     "traceback": [
      "UndefVarError: m not defined",
      "",
      "Stacktrace:",
      " [1] top-level scope at In[17]:1"
     ]
    }
   ],
   "source": [
    "transpose(m)"
   ]
  }
 ],
 "metadata": {
  "kernelspec": {
   "display_name": "Julia 1.4.1",
   "language": "julia",
   "name": "julia-1.4"
  },
  "language_info": {
   "file_extension": ".jl",
   "mimetype": "application/julia",
   "name": "julia",
   "version": "1.4.1"
  }
 },
 "nbformat": 4,
 "nbformat_minor": 4
}
