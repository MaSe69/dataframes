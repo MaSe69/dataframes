{
 "cells": [
  {
   "cell_type": "markdown",
   "metadata": {},
   "source": [
    "# Load DataFrames"
   ]
  },
  {
   "cell_type": "code",
   "execution_count": 1,
   "metadata": {},
   "outputs": [],
   "source": [
    "using CSV\n",
    "using DataFrames\n"
   ]
  },
  {
   "cell_type": "code",
   "execution_count": 2,
   "metadata": {},
   "outputs": [
    {
     "data": {
      "text/html": [
       "<table class=\"data-frame\"><thead><tr><th></th><th>Name</th><th>Miles_per_Gallon</th><th>Cylinders</th><th>Displacement</th><th>Horsepower</th><th>Weight_in_lbs</th></tr><tr><th></th><th>String</th><th>String</th><th>Int64</th><th>Float64</th><th>String</th><th>Int64</th></tr></thead><tbody><p>3 rows × 9 columns (omitted printing of 3 columns)</p><tr><th>1</th><td>dodge rampage</td><td>32.0</td><td>4</td><td>135.0</td><td>84</td><td>2295</td></tr><tr><th>2</th><td>ford ranger</td><td>28.0</td><td>4</td><td>120.0</td><td>79</td><td>2625</td></tr><tr><th>3</th><td>chevy s-10</td><td>31.0</td><td>4</td><td>119.0</td><td>82</td><td>2720</td></tr></tbody></table>"
      ],
      "text/latex": [
       "\\begin{tabular}{r|ccccccc}\n",
       "\t& Name & Miles\\_per\\_Gallon & Cylinders & Displacement & Horsepower & Weight\\_in\\_lbs & \\\\\n",
       "\t\\hline\n",
       "\t& String & String & Int64 & Float64 & String & Int64 & \\\\\n",
       "\t\\hline\n",
       "\t1 & dodge rampage & 32.0 & 4 & 135.0 & 84 & 2295 & $\\dots$ \\\\\n",
       "\t2 & ford ranger & 28.0 & 4 & 120.0 & 79 & 2625 & $\\dots$ \\\\\n",
       "\t3 & chevy s-10 & 31.0 & 4 & 119.0 & 82 & 2720 & $\\dots$ \\\\\n",
       "\\end{tabular}\n"
      ],
      "text/plain": [
       "\u001b[1m3×9 DataFrame\u001b[0m\n",
       "\u001b[1m Row \u001b[0m│\u001b[1m Name          \u001b[0m\u001b[1m Miles_per_Gallon \u001b[0m\u001b[1m Cylinders \u001b[0m\u001b[1m Displacement \u001b[0m\u001b[1m Horsepower \u001b[0m\u001b[1m W\u001b[0m ⋯\n",
       "\u001b[1m     \u001b[0m│\u001b[90m String        \u001b[0m\u001b[90m String           \u001b[0m\u001b[90m Int64     \u001b[0m\u001b[90m Float64      \u001b[0m\u001b[90m String     \u001b[0m\u001b[90m I\u001b[0m ⋯\n",
       "─────┼──────────────────────────────────────────────────────────────────────────\n",
       "   1 │ dodge rampage  32.0                      4         135.0  84            ⋯\n",
       "   2 │ ford ranger    28.0                      4         120.0  79\n",
       "   3 │ chevy s-10     31.0                      4         119.0  82\n",
       "\u001b[36m                                                               4 columns omitted\u001b[0m"
      ]
     },
     "execution_count": 2,
     "metadata": {},
     "output_type": "execute_result"
    }
   ],
   "source": [
    "filename = \"NeutralData/cars.csv\"\n",
    "df = CSV.read(filename, DataFrame)\n",
    "first(df,3)\n",
    "last(df,3)"
   ]
  },
  {
   "cell_type": "code",
   "execution_count": 3,
   "metadata": {},
   "outputs": [
    {
     "data": {
      "text/plain": [
       "DataFrame"
      ]
     },
     "execution_count": 3,
     "metadata": {},
     "output_type": "execute_result"
    }
   ],
   "source": [
    "typeof(df)"
   ]
  },
  {
   "cell_type": "markdown",
   "metadata": {},
   "source": [
    "## Limit number of data read from file"
   ]
  },
  {
   "cell_type": "code",
   "execution_count": 4,
   "metadata": {},
   "outputs": [
    {
     "data": {
      "text/html": [
       "<table class=\"data-frame\"><thead><tr><th></th><th>Name</th><th>Cylinders</th></tr><tr><th></th><th>String</th><th>Int64</th></tr></thead><tbody><p>3 rows × 2 columns</p><tr><th>1</th><td>chevrolet chevelle malibu</td><td>8</td></tr><tr><th>2</th><td>buick skylark 320</td><td>8</td></tr><tr><th>3</th><td>plymouth satellite</td><td>8</td></tr></tbody></table>"
      ],
      "text/latex": [
       "\\begin{tabular}{r|cc}\n",
       "\t& Name & Cylinders\\\\\n",
       "\t\\hline\n",
       "\t& String & Int64\\\\\n",
       "\t\\hline\n",
       "\t1 & chevrolet chevelle malibu & 8 \\\\\n",
       "\t2 & buick skylark 320 & 8 \\\\\n",
       "\t3 & plymouth satellite & 8 \\\\\n",
       "\\end{tabular}\n"
      ],
      "text/plain": [
       "\u001b[1m3×2 DataFrame\u001b[0m\n",
       "\u001b[1m Row \u001b[0m│\u001b[1m Name                      \u001b[0m\u001b[1m Cylinders \u001b[0m\n",
       "\u001b[1m     \u001b[0m│\u001b[90m String                    \u001b[0m\u001b[90m Int64     \u001b[0m\n",
       "─────┼──────────────────────────────────────\n",
       "   1 │ chevrolet chevelle malibu          8\n",
       "   2 │ buick skylark 320                  8\n",
       "   3 │ plymouth satellite                 8"
      ]
     },
     "execution_count": 4,
     "metadata": {},
     "output_type": "execute_result"
    }
   ],
   "source": [
    "filename = \"NeutralData/cars.csv\"\n",
    "colsIwannaUse = [:Name, :Cylinders]\n",
    "df = CSV.read(filename, DataFrame; select=colsIwannaUse, limit=3)"
   ]
  },
  {
   "cell_type": "markdown",
   "metadata": {},
   "source": [
    "## Delimiter comma and header in top row can, but need not be specified\n"
   ]
  },
  {
   "cell_type": "code",
   "execution_count": 5,
   "metadata": {},
   "outputs": [
    {
     "data": {
      "text/html": [
       "<table class=\"data-frame\"><thead><tr><th></th><th>Name</th><th>Miles_per_Gallon</th><th>Cylinders</th><th>Displacement</th><th>Horsepower</th></tr><tr><th></th><th>String</th><th>String</th><th>Int64</th><th>Float64</th><th>String</th></tr></thead><tbody><p>3 rows × 9 columns (omitted printing of 4 columns)</p><tr><th>1</th><td>chevrolet chevelle malibu</td><td>18.0</td><td>8</td><td>307.0</td><td>130</td></tr><tr><th>2</th><td>buick skylark 320</td><td>15.0</td><td>8</td><td>350.0</td><td>165</td></tr><tr><th>3</th><td>plymouth satellite</td><td>18.0</td><td>8</td><td>318.0</td><td>150</td></tr></tbody></table>"
      ],
      "text/latex": [
       "\\begin{tabular}{r|cccccc}\n",
       "\t& Name & Miles\\_per\\_Gallon & Cylinders & Displacement & Horsepower & \\\\\n",
       "\t\\hline\n",
       "\t& String & String & Int64 & Float64 & String & \\\\\n",
       "\t\\hline\n",
       "\t1 & chevrolet chevelle malibu & 18.0 & 8 & 307.0 & 130 & $\\dots$ \\\\\n",
       "\t2 & buick skylark 320 & 15.0 & 8 & 350.0 & 165 & $\\dots$ \\\\\n",
       "\t3 & plymouth satellite & 18.0 & 8 & 318.0 & 150 & $\\dots$ \\\\\n",
       "\\end{tabular}\n"
      ],
      "text/plain": [
       "\u001b[1m3×9 DataFrame\u001b[0m\n",
       "\u001b[1m Row \u001b[0m│\u001b[1m Name                      \u001b[0m\u001b[1m Miles_per_Gallon \u001b[0m\u001b[1m Cylinders \u001b[0m\u001b[1m Displacement \u001b[0m\u001b[1m H\u001b[0m ⋯\n",
       "\u001b[1m     \u001b[0m│\u001b[90m String                    \u001b[0m\u001b[90m String           \u001b[0m\u001b[90m Int64     \u001b[0m\u001b[90m Float64      \u001b[0m\u001b[90m S\u001b[0m ⋯\n",
       "─────┼──────────────────────────────────────────────────────────────────────────\n",
       "   1 │ chevrolet chevelle malibu  18.0                      8         307.0  1 ⋯\n",
       "   2 │ buick skylark 320          15.0                      8         350.0  1\n",
       "   3 │ plymouth satellite         18.0                      8         318.0  1\n",
       "\u001b[36m                                                               5 columns omitted\u001b[0m"
      ]
     },
     "execution_count": 5,
     "metadata": {},
     "output_type": "execute_result"
    }
   ],
   "source": [
    "df = CSV.read(filename, DataFrame; delim = \",\", header=1)\n",
    "first(df,3)"
   ]
  },
  {
   "cell_type": "markdown",
   "metadata": {},
   "source": [
    "## Converter - Does not (yet) exist in Julia"
   ]
  },
  {
   "cell_type": "markdown",
   "metadata": {},
   "source": [
    "## Missing Values"
   ]
  },
  {
   "cell_type": "code",
   "execution_count": 15,
   "metadata": {},
   "outputs": [],
   "source": [
    "df = CSV.read(filename, DataFrame; missingstrings=[\"NA\"])\n",
    "#first(df,na_filter=true);"
   ]
  },
  {
   "cell_type": "markdown",
   "metadata": {},
   "source": [
    "## Dates"
   ]
  },
  {
   "cell_type": "code",
   "execution_count": 7,
   "metadata": {},
   "outputs": [
    {
     "data": {
      "text/html": [
       "<table class=\"data-frame\"><thead><tr><th></th><th>Date</th><th>CO2</th><th>adjusted CO2</th><th>DatePlus</th></tr><tr><th></th><th>Date</th><th>Float64</th><th>Float64</th><th>Date</th></tr></thead><tbody><p>5 rows × 4 columns</p><tr><th>1</th><td>1958-03-01</td><td>315.7</td><td>314.44</td><td>1958-08-28</td></tr><tr><th>2</th><td>1958-04-01</td><td>317.46</td><td>315.16</td><td>1958-09-28</td></tr><tr><th>3</th><td>1958-05-01</td><td>317.51</td><td>314.71</td><td>1958-10-28</td></tr><tr><th>4</th><td>1958-07-01</td><td>315.86</td><td>315.19</td><td>1958-12-28</td></tr><tr><th>5</th><td>1958-08-01</td><td>314.93</td><td>316.19</td><td>1959-01-28</td></tr></tbody></table>"
      ],
      "text/latex": [
       "\\begin{tabular}{r|cccc}\n",
       "\t& Date & CO2 & adjusted CO2 & DatePlus\\\\\n",
       "\t\\hline\n",
       "\t& Date & Float64 & Float64 & Date\\\\\n",
       "\t\\hline\n",
       "\t1 & 1958-03-01 & 315.7 & 314.44 & 1958-08-28 \\\\\n",
       "\t2 & 1958-04-01 & 317.46 & 315.16 & 1958-09-28 \\\\\n",
       "\t3 & 1958-05-01 & 317.51 & 314.71 & 1958-10-28 \\\\\n",
       "\t4 & 1958-07-01 & 315.86 & 315.19 & 1958-12-28 \\\\\n",
       "\t5 & 1958-08-01 & 314.93 & 316.19 & 1959-01-28 \\\\\n",
       "\\end{tabular}\n"
      ],
      "text/plain": [
       "\u001b[1m5×4 DataFrame\u001b[0m\n",
       "\u001b[1m Row \u001b[0m│\u001b[1m Date       \u001b[0m\u001b[1m CO2     \u001b[0m\u001b[1m adjusted CO2 \u001b[0m\u001b[1m DatePlus   \u001b[0m\n",
       "\u001b[1m     \u001b[0m│\u001b[90m Date       \u001b[0m\u001b[90m Float64 \u001b[0m\u001b[90m Float64      \u001b[0m\u001b[90m Date       \u001b[0m\n",
       "─────┼───────────────────────────────────────────────\n",
       "   1 │ 1958-03-01   315.7         314.44  1958-08-28\n",
       "   2 │ 1958-04-01   317.46        315.16  1958-09-28\n",
       "   3 │ 1958-05-01   317.51        314.71  1958-10-28\n",
       "   4 │ 1958-07-01   315.86        315.19  1958-12-28\n",
       "   5 │ 1958-08-01   314.93        316.19  1959-01-28"
      ]
     },
     "execution_count": 7,
     "metadata": {},
     "output_type": "execute_result"
    }
   ],
   "source": [
    "using Dates\n",
    "filename = \"NeutralData/co2.csv\"\n",
    "df = CSV.read(filename, DataFrame; dateformat=\"yyyy-mm-dd\")\n",
    "\n",
    "df[!, \"DatePlus\"]= df.Date + Dates.Day(180)\n",
    "first(df,5)"
   ]
  },
  {
   "cell_type": "markdown",
   "metadata": {},
   "source": [
    "## Transposed Data"
   ]
  },
  {
   "cell_type": "code",
   "execution_count": 8,
   "metadata": {},
   "outputs": [
    {
     "data": {
      "text/html": [
       "<table class=\"data-frame\"><thead><tr><th></th><th>Province/State</th><th>Column2</th><th>Column3</th><th>Column4</th><th>Column5</th><th>Column6</th><th>Column7</th></tr><tr><th></th><th>String</th><th>String</th><th>String</th><th>String</th><th>String</th><th>String</th><th>String</th></tr></thead><tbody><p>13 rows × 274 columns (omitted printing of 267 columns)</p><tr><th>1</th><td>Country/Region</td><td>Afghanistan</td><td>Albania</td><td>Algeria</td><td>Andorra</td><td>Angola</td><td>Antigua and Barbuda</td></tr><tr><th>2</th><td>Lat</td><td>33.93911</td><td>41.1533</td><td>28.0339</td><td>42.5063</td><td>-11.2027</td><td>17.0608</td></tr><tr><th>3</th><td>Long</td><td>67.709953</td><td>20.1683</td><td>1.6596</td><td>1.5218</td><td>17.8739</td><td>-61.7964</td></tr><tr><th>4</th><td>1/22/20</td><td>0</td><td>0</td><td>0</td><td>0</td><td>0</td><td>0</td></tr><tr><th>5</th><td>1/23/20</td><td>0</td><td>0</td><td>0</td><td>0</td><td>0</td><td>0</td></tr><tr><th>6</th><td>1/24/20</td><td>0</td><td>0</td><td>0</td><td>0</td><td>0</td><td>0</td></tr><tr><th>7</th><td>1/25/20</td><td>0</td><td>0</td><td>0</td><td>0</td><td>0</td><td>0</td></tr><tr><th>8</th><td>1/26/20</td><td>0</td><td>0</td><td>0</td><td>0</td><td>0</td><td>0</td></tr><tr><th>9</th><td>1/27/20</td><td>0</td><td>0</td><td>0</td><td>0</td><td>0</td><td>0</td></tr><tr><th>10</th><td>1/28/20</td><td>0</td><td>0</td><td>0</td><td>0</td><td>0</td><td>0</td></tr><tr><th>11</th><td>1/29/20</td><td>0</td><td>0</td><td>0</td><td>0</td><td>0</td><td>0</td></tr><tr><th>12</th><td>1/30/20</td><td>0</td><td>0</td><td>0</td><td>0</td><td>0</td><td>0</td></tr><tr><th>13</th><td>1/31/20</td><td>0</td><td>0</td><td>0</td><td>0</td><td>0</td><td>0</td></tr></tbody></table>"
      ],
      "text/latex": [
       "\\begin{tabular}{r|cccccccc}\n",
       "\t& Province/State & Column2 & Column3 & Column4 & Column5 & Column6 & Column7 & \\\\\n",
       "\t\\hline\n",
       "\t& String & String & String & String & String & String & String & \\\\\n",
       "\t\\hline\n",
       "\t1 & Country/Region & Afghanistan & Albania & Algeria & Andorra & Angola & Antigua and Barbuda & $\\dots$ \\\\\n",
       "\t2 & Lat & 33.93911 & 41.1533 & 28.0339 & 42.5063 & -11.2027 & 17.0608 & $\\dots$ \\\\\n",
       "\t3 & Long & 67.709953 & 20.1683 & 1.6596 & 1.5218 & 17.8739 & -61.7964 & $\\dots$ \\\\\n",
       "\t4 & 1/22/20 & 0 & 0 & 0 & 0 & 0 & 0 & $\\dots$ \\\\\n",
       "\t5 & 1/23/20 & 0 & 0 & 0 & 0 & 0 & 0 & $\\dots$ \\\\\n",
       "\t6 & 1/24/20 & 0 & 0 & 0 & 0 & 0 & 0 & $\\dots$ \\\\\n",
       "\t7 & 1/25/20 & 0 & 0 & 0 & 0 & 0 & 0 & $\\dots$ \\\\\n",
       "\t8 & 1/26/20 & 0 & 0 & 0 & 0 & 0 & 0 & $\\dots$ \\\\\n",
       "\t9 & 1/27/20 & 0 & 0 & 0 & 0 & 0 & 0 & $\\dots$ \\\\\n",
       "\t10 & 1/28/20 & 0 & 0 & 0 & 0 & 0 & 0 & $\\dots$ \\\\\n",
       "\t11 & 1/29/20 & 0 & 0 & 0 & 0 & 0 & 0 & $\\dots$ \\\\\n",
       "\t12 & 1/30/20 & 0 & 0 & 0 & 0 & 0 & 0 & $\\dots$ \\\\\n",
       "\t13 & 1/31/20 & 0 & 0 & 0 & 0 & 0 & 0 & $\\dots$ \\\\\n",
       "\\end{tabular}\n"
      ],
      "text/plain": [
       "\u001b[1m13×274 DataFrame\u001b[0m\n",
       "\u001b[1m Row \u001b[0m│\u001b[1m Province/State \u001b[0m\u001b[1m Column2     \u001b[0m\u001b[1m Column3 \u001b[0m\u001b[1m Column4 \u001b[0m\u001b[1m Column5 \u001b[0m\u001b[1m Column6  \u001b[0m\u001b[1m Colum\u001b[0m ⋯\n",
       "\u001b[1m     \u001b[0m│\u001b[90m String         \u001b[0m\u001b[90m String      \u001b[0m\u001b[90m String  \u001b[0m\u001b[90m String  \u001b[0m\u001b[90m String  \u001b[0m\u001b[90m String   \u001b[0m\u001b[90m Strin\u001b[0m ⋯\n",
       "─────┼──────────────────────────────────────────────────────────────────────────\n",
       "   1 │ Country/Region  Afghanistan  Albania  Algeria  Andorra  Angola    Antig ⋯\n",
       "   2 │ Lat             33.93911     41.1533  28.0339  42.5063  -11.2027  17.06\n",
       "   3 │ Long            67.709953    20.1683  1.6596   1.5218   17.8739   -61.7\n",
       "   4 │ 1/22/20         0            0        0        0        0         0\n",
       "   5 │ 1/23/20         0            0        0        0        0         0     ⋯\n",
       "   6 │ 1/24/20         0            0        0        0        0         0\n",
       "   7 │ 1/25/20         0            0        0        0        0         0\n",
       "   8 │ 1/26/20         0            0        0        0        0         0\n",
       "   9 │ 1/27/20         0            0        0        0        0         0     ⋯\n",
       "  10 │ 1/28/20         0            0        0        0        0         0\n",
       "  11 │ 1/29/20         0            0        0        0        0         0\n",
       "  12 │ 1/30/20         0            0        0        0        0         0\n",
       "  13 │ 1/31/20         0            0        0        0        0         0     ⋯\n",
       "\u001b[36m                                                             268 columns omitted\u001b[0m"
      ]
     },
     "execution_count": 8,
     "metadata": {},
     "output_type": "execute_result"
    }
   ],
   "source": [
    "filename = \"NeutralData/Covid_Data.csv\"\n",
    "df = CSV.read(filename, DataFrame; transpose=true, dateformat=\"mm/dd/yy\", limit=13)\n",
    "df\n"
   ]
  },
  {
   "cell_type": "code",
   "execution_count": 9,
   "metadata": {},
   "outputs": [
    {
     "data": {
      "text/html": [
       "<table class=\"data-frame\"><thead><tr><th></th><th>Province/State</th><th>Column7</th></tr><tr><th></th><th>String</th><th>String</th></tr></thead><tbody><p>13 rows × 2 columns</p><tr><th>1</th><td>Country/Region</td><td>Antigua and Barbuda</td></tr><tr><th>2</th><td>Lat</td><td>17.0608</td></tr><tr><th>3</th><td>Long</td><td>-61.7964</td></tr><tr><th>4</th><td>1/22/20</td><td>0</td></tr><tr><th>5</th><td>1/23/20</td><td>0</td></tr><tr><th>6</th><td>1/24/20</td><td>0</td></tr><tr><th>7</th><td>1/25/20</td><td>0</td></tr><tr><th>8</th><td>1/26/20</td><td>0</td></tr><tr><th>9</th><td>1/27/20</td><td>0</td></tr><tr><th>10</th><td>1/28/20</td><td>0</td></tr><tr><th>11</th><td>1/29/20</td><td>0</td></tr><tr><th>12</th><td>1/30/20</td><td>0</td></tr><tr><th>13</th><td>1/31/20</td><td>0</td></tr></tbody></table>"
      ],
      "text/latex": [
       "\\begin{tabular}{r|cc}\n",
       "\t& Province/State & Column7\\\\\n",
       "\t\\hline\n",
       "\t& String & String\\\\\n",
       "\t\\hline\n",
       "\t1 & Country/Region & Antigua and Barbuda \\\\\n",
       "\t2 & Lat & 17.0608 \\\\\n",
       "\t3 & Long & -61.7964 \\\\\n",
       "\t4 & 1/22/20 & 0 \\\\\n",
       "\t5 & 1/23/20 & 0 \\\\\n",
       "\t6 & 1/24/20 & 0 \\\\\n",
       "\t7 & 1/25/20 & 0 \\\\\n",
       "\t8 & 1/26/20 & 0 \\\\\n",
       "\t9 & 1/27/20 & 0 \\\\\n",
       "\t10 & 1/28/20 & 0 \\\\\n",
       "\t11 & 1/29/20 & 0 \\\\\n",
       "\t12 & 1/30/20 & 0 \\\\\n",
       "\t13 & 1/31/20 & 0 \\\\\n",
       "\\end{tabular}\n"
      ],
      "text/plain": [
       "\u001b[1m13×2 DataFrame\u001b[0m\n",
       "\u001b[1m Row \u001b[0m│\u001b[1m Province/State \u001b[0m\u001b[1m Column7             \u001b[0m\n",
       "\u001b[1m     \u001b[0m│\u001b[90m String         \u001b[0m\u001b[90m String              \u001b[0m\n",
       "─────┼─────────────────────────────────────\n",
       "   1 │ Country/Region  Antigua and Barbuda\n",
       "   2 │ Lat             17.0608\n",
       "   3 │ Long            -61.7964\n",
       "   4 │ 1/22/20         0\n",
       "   5 │ 1/23/20         0\n",
       "   6 │ 1/24/20         0\n",
       "   7 │ 1/25/20         0\n",
       "   8 │ 1/26/20         0\n",
       "   9 │ 1/27/20         0\n",
       "  10 │ 1/28/20         0\n",
       "  11 │ 1/29/20         0\n",
       "  12 │ 1/30/20         0\n",
       "  13 │ 1/31/20         0"
      ]
     },
     "execution_count": 9,
     "metadata": {},
     "output_type": "execute_result"
    }
   ],
   "source": [
    "colsIwannaUse = [\"Province/State\", \"Column7\"]\n",
    "df = CSV.read(filename, DataFrame; transpose=true, dateformat=\"mm/dd/yy\", select=colsIwannaUse, limit=13)\n",
    "df"
   ]
  },
  {
   "cell_type": "code",
   "execution_count": null,
   "metadata": {},
   "outputs": [],
   "source": []
  }
 ],
 "metadata": {
  "kernelspec": {
   "display_name": "Julia 1.4.1",
   "language": "julia",
   "name": "julia-1.4"
  },
  "language_info": {
   "file_extension": ".jl",
   "mimetype": "application/julia",
   "name": "julia",
   "version": "1.4.1"
  }
 },
 "nbformat": 4,
 "nbformat_minor": 4
}
