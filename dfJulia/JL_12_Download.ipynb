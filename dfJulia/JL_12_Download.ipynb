{
 "cells": [
  {
   "cell_type": "markdown",
   "metadata": {},
   "source": [
    "# Download Data From External Sources"
   ]
  },
  {
   "cell_type": "code",
   "execution_count": 1,
   "metadata": {},
   "outputs": [],
   "source": [
    "using CSV\n",
    "using DataFrames"
   ]
  },
  {
   "cell_type": "markdown",
   "metadata": {},
   "source": [
    "## Download Tutorial Data on Programming Languages"
   ]
  },
  {
   "cell_type": "code",
   "execution_count": 2,
   "metadata": {},
   "outputs": [
    {
     "name": "stderr",
     "output_type": "stream",
     "text": [
      "--2021-02-25 13:49:24--  https://raw.githubusercontent.com/nassarhuda/easy_data/master/programming_languages.csv\n",
      "Resolving raw.githubusercontent.com (raw.githubusercontent.com)... 185.199.111.133, 185.199.110.133, 185.199.108.133, ...\n",
      "Connecting to raw.githubusercontent.com (raw.githubusercontent.com)|185.199.111.133|:443... connected.\n",
      "HTTP request sent, awaiting response... 200 OK\n",
      "Length: 876 [text/plain]\n",
      "Saving to: 'proglang.csv'\n",
      "\n",
      "     0K                                                       100% 86.4M=0s\n",
      "\n",
      "2021-02-25 13:49:24 (86.4 MB/s) - 'proglang.csv' saved [876/876]\n",
      "\n"
     ]
    },
    {
     "data": {
      "text/plain": [
       "\"proglang.csv\""
      ]
     },
     "execution_count": 2,
     "metadata": {},
     "output_type": "execute_result"
    }
   ],
   "source": [
    "url = \"https://raw.githubusercontent.com/nassarhuda/easy_data/master/programming_languages.csv\"\n",
    "P = download(url, \"proglang.csv\")\n",
    "P"
   ]
  },
  {
   "cell_type": "code",
   "execution_count": 3,
   "metadata": {},
   "outputs": [],
   "source": [
    "# https://raw.githubusercontent.com/nassarhuda/easy_data/master/programming_languages.csv\n",
    "#https://github.com/vega/vega-datasets/tree/master/data\n"
   ]
  },
  {
   "cell_type": "code",
   "execution_count": 4,
   "metadata": {},
   "outputs": [
    {
     "data": {
      "text/html": [
       "<table class=\"data-frame\"><thead><tr><th></th><th>year</th><th>language</th></tr><tr><th></th><th>Int64</th><th>String</th></tr></thead><tbody><p>5 rows × 2 columns</p><tr><th>1</th><td>1951</td><td>Regional Assembly Language</td></tr><tr><th>2</th><td>1952</td><td>Autocode</td></tr><tr><th>3</th><td>1954</td><td>IPL</td></tr><tr><th>4</th><td>1955</td><td>FLOW-MATIC</td></tr><tr><th>5</th><td>1957</td><td>FORTRAN</td></tr></tbody></table>"
      ],
      "text/latex": [
       "\\begin{tabular}{r|cc}\n",
       "\t& year & language\\\\\n",
       "\t\\hline\n",
       "\t& Int64 & String\\\\\n",
       "\t\\hline\n",
       "\t1 & 1951 & Regional Assembly Language \\\\\n",
       "\t2 & 1952 & Autocode \\\\\n",
       "\t3 & 1954 & IPL \\\\\n",
       "\t4 & 1955 & FLOW-MATIC \\\\\n",
       "\t5 & 1957 & FORTRAN \\\\\n",
       "\\end{tabular}\n"
      ],
      "text/plain": [
       "\u001b[1m5×2 DataFrame\u001b[0m\n",
       "\u001b[1m Row \u001b[0m│\u001b[1m year  \u001b[0m\u001b[1m language                   \u001b[0m\n",
       "\u001b[1m     \u001b[0m│\u001b[90m Int64 \u001b[0m\u001b[90m String                     \u001b[0m\n",
       "─────┼───────────────────────────────────\n",
       "   1 │  1951  Regional Assembly Language\n",
       "   2 │  1952  Autocode\n",
       "   3 │  1954  IPL\n",
       "   4 │  1955  FLOW-MATIC\n",
       "   5 │  1957  FORTRAN"
      ]
     },
     "execution_count": 4,
     "metadata": {},
     "output_type": "execute_result"
    }
   ],
   "source": [
    "df = CSV.read(P, DataFrame)\n",
    "first(df,5)"
   ]
  },
  {
   "cell_type": "code",
   "execution_count": 5,
   "metadata": {},
   "outputs": [],
   "source": [
    "filename = \"pl_year.csv\"\n",
    "CSV.write(filename, df);"
   ]
  },
  {
   "cell_type": "code",
   "execution_count": 7,
   "metadata": {},
   "outputs": [],
   "source": [
    "### direct read of a CSV file as CSV does not work | Download step seems to be necesssary\n",
    "# url = \"https://raw.githubusercontent.com/nassarhuda/easy_data/master/programming_languages.csv\"\n",
    "# dfN = CSV.read(url, \"proglangDirect.csv\");"
   ]
  },
  {
   "cell_type": "markdown",
   "metadata": {},
   "source": [
    "## Download More Data"
   ]
  },
  {
   "cell_type": "markdown",
   "metadata": {},
   "source": [
    "### CO2 Concentration"
   ]
  },
  {
   "cell_type": "code",
   "execution_count": 11,
   "metadata": {},
   "outputs": [
    {
     "name": "stderr",
     "output_type": "stream",
     "text": [
      "--2021-02-25 13:51:56--  https://raw.githubusercontent.com/vega/vega-datasets/master/data/co2-concentration.csv\n",
      "Resolving raw.githubusercontent.com (raw.githubusercontent.com)... 185.199.108.133, 185.199.110.133, 185.199.109.133, ...\n",
      "Connecting to raw.githubusercontent.com (raw.githubusercontent.com)|185.199.108.133|:443... connected.\n",
      "HTTP request sent, awaiting response... 200 OK\n",
      "Length: 18547 (18K) [text/plain]\n",
      "Saving to: 'proglang.csv'\n",
      "\n",
      "     0K .......... ........                                   100% 8.43M=0.002s\n",
      "\n",
      "2021-02-25 13:51:56 (8.43 MB/s) - 'proglang.csv' saved [18547/18547]\n",
      "\n"
     ]
    },
    {
     "data": {
      "text/plain": [
       "\"proglang.csv\""
      ]
     },
     "execution_count": 11,
     "metadata": {},
     "output_type": "execute_result"
    }
   ],
   "source": [
    "url =\"https://raw.githubusercontent.com/vega/vega-datasets/master/data/co2-concentration.csv\"\n",
    "D = download(url, \"proglang.csv\")"
   ]
  },
  {
   "cell_type": "code",
   "execution_count": 12,
   "metadata": {},
   "outputs": [
    {
     "data": {
      "text/html": [
       "<table class=\"data-frame\"><thead><tr><th></th><th>Date</th><th>CO2</th><th>adjusted CO2</th></tr><tr><th></th><th>Date…</th><th>Float64</th><th>Float64</th></tr></thead><tbody><p>5 rows × 3 columns</p><tr><th>1</th><td>1958-03-01</td><td>315.7</td><td>314.44</td></tr><tr><th>2</th><td>1958-04-01</td><td>317.46</td><td>315.16</td></tr><tr><th>3</th><td>1958-05-01</td><td>317.51</td><td>314.71</td></tr><tr><th>4</th><td>1958-07-01</td><td>315.86</td><td>315.19</td></tr><tr><th>5</th><td>1958-08-01</td><td>314.93</td><td>316.19</td></tr></tbody></table>"
      ],
      "text/latex": [
       "\\begin{tabular}{r|ccc}\n",
       "\t& Date & CO2 & adjusted CO2\\\\\n",
       "\t\\hline\n",
       "\t& Date… & Float64 & Float64\\\\\n",
       "\t\\hline\n",
       "\t1 & 1958-03-01 & 315.7 & 314.44 \\\\\n",
       "\t2 & 1958-04-01 & 317.46 & 315.16 \\\\\n",
       "\t3 & 1958-05-01 & 317.51 & 314.71 \\\\\n",
       "\t4 & 1958-07-01 & 315.86 & 315.19 \\\\\n",
       "\t5 & 1958-08-01 & 314.93 & 316.19 \\\\\n",
       "\\end{tabular}\n"
      ],
      "text/plain": [
       "\u001b[1m5×3 DataFrame\u001b[0m\n",
       "\u001b[1m Row \u001b[0m│\u001b[1m Date       \u001b[0m\u001b[1m CO2     \u001b[0m\u001b[1m adjusted CO2 \u001b[0m\n",
       "\u001b[1m     \u001b[0m│\u001b[90m Date…      \u001b[0m\u001b[90m Float64 \u001b[0m\u001b[90m Float64      \u001b[0m\n",
       "─────┼───────────────────────────────────\n",
       "   1 │ 1958-03-01   315.7         314.44\n",
       "   2 │ 1958-04-01   317.46        315.16\n",
       "   3 │ 1958-05-01   317.51        314.71\n",
       "   4 │ 1958-07-01   315.86        315.19\n",
       "   5 │ 1958-08-01   314.93        316.19"
      ]
     },
     "execution_count": 12,
     "metadata": {},
     "output_type": "execute_result"
    }
   ],
   "source": [
    "df = CSV.read(D, DataFrame)\n",
    "first(df,5)"
   ]
  },
  {
   "cell_type": "markdown",
   "metadata": {},
   "source": [
    "### Employment"
   ]
  },
  {
   "cell_type": "code",
   "execution_count": 13,
   "metadata": {},
   "outputs": [
    {
     "name": "stderr",
     "output_type": "stream",
     "text": [
      "--2021-02-25 13:55:35--  https://raw.githubusercontent.com/vega/vega-datasets/master/data/us-employment.csv\n",
      "Resolving raw.githubusercontent.com (raw.githubusercontent.com)... 185.199.109.133, 185.199.110.133, 185.199.108.133, ...\n",
      "Connecting to raw.githubusercontent.com (raw.githubusercontent.com)|185.199.109.133|:443... connected.\n",
      "HTTP request sent, awaiting response... 200 OK\n",
      "Length: 17841 (17K) [text/plain]\n",
      "Saving to: 'proglang.csv'\n",
      "\n",
      "     0K .......... .......                                    100% 19.2M=0.001s\n",
      "\n",
      "2021-02-25 13:55:35 (19.2 MB/s) - 'proglang.csv' saved [17841/17841]\n",
      "\n"
     ]
    },
    {
     "data": {
      "text/plain": [
       "\"proglang.csv\""
      ]
     },
     "execution_count": 13,
     "metadata": {},
     "output_type": "execute_result"
    }
   ],
   "source": [
    "url =\"https://raw.githubusercontent.com/vega/vega-datasets/master/data/us-employment.csv\"\n",
    "D = download(url, \"employment.csv\")"
   ]
  },
  {
   "cell_type": "code",
   "execution_count": 14,
   "metadata": {},
   "outputs": [
    {
     "data": {
      "text/html": [
       "<table class=\"data-frame\"><thead><tr><th></th><th>month</th><th>nonfarm</th><th>private</th><th>goods_producing</th><th>service_providing</th><th>private_service_providing</th></tr><tr><th></th><th>Date…</th><th>Int64</th><th>Int64</th><th>Int64</th><th>Int64</th><th>Int64</th></tr></thead><tbody><p>5 rows × 24 columns (omitted printing of 18 columns)</p><tr><th>1</th><td>2006-01-01</td><td>135450</td><td>113603</td><td>22467</td><td>112983</td><td>91136</td></tr><tr><th>2</th><td>2006-02-01</td><td>135762</td><td>113884</td><td>22535</td><td>113227</td><td>91349</td></tr><tr><th>3</th><td>2006-03-01</td><td>136059</td><td>114156</td><td>22572</td><td>113487</td><td>91584</td></tr><tr><th>4</th><td>2006-04-01</td><td>136227</td><td>114308</td><td>22631</td><td>113596</td><td>91677</td></tr><tr><th>5</th><td>2006-05-01</td><td>136258</td><td>114332</td><td>22597</td><td>113661</td><td>91735</td></tr></tbody></table>"
      ],
      "text/latex": [
       "\\begin{tabular}{r|ccccccc}\n",
       "\t& month & nonfarm & private & goods\\_producing & service\\_providing & private\\_service\\_providing & \\\\\n",
       "\t\\hline\n",
       "\t& Date… & Int64 & Int64 & Int64 & Int64 & Int64 & \\\\\n",
       "\t\\hline\n",
       "\t1 & 2006-01-01 & 135450 & 113603 & 22467 & 112983 & 91136 & $\\dots$ \\\\\n",
       "\t2 & 2006-02-01 & 135762 & 113884 & 22535 & 113227 & 91349 & $\\dots$ \\\\\n",
       "\t3 & 2006-03-01 & 136059 & 114156 & 22572 & 113487 & 91584 & $\\dots$ \\\\\n",
       "\t4 & 2006-04-01 & 136227 & 114308 & 22631 & 113596 & 91677 & $\\dots$ \\\\\n",
       "\t5 & 2006-05-01 & 136258 & 114332 & 22597 & 113661 & 91735 & $\\dots$ \\\\\n",
       "\\end{tabular}\n"
      ],
      "text/plain": [
       "\u001b[1m5×24 DataFrame\u001b[0m\n",
       "\u001b[1m Row \u001b[0m│\u001b[1m month      \u001b[0m\u001b[1m nonfarm \u001b[0m\u001b[1m private \u001b[0m\u001b[1m goods_producing \u001b[0m\u001b[1m service_providing \u001b[0m\u001b[1m priva\u001b[0m ⋯\n",
       "\u001b[1m     \u001b[0m│\u001b[90m Date…      \u001b[0m\u001b[90m Int64   \u001b[0m\u001b[90m Int64   \u001b[0m\u001b[90m Int64           \u001b[0m\u001b[90m Int64             \u001b[0m\u001b[90m Int64\u001b[0m ⋯\n",
       "─────┼──────────────────────────────────────────────────────────────────────────\n",
       "   1 │ 2006-01-01   135450   113603            22467             112983        ⋯\n",
       "   2 │ 2006-02-01   135762   113884            22535             113227\n",
       "   3 │ 2006-03-01   136059   114156            22572             113487\n",
       "   4 │ 2006-04-01   136227   114308            22631             113596\n",
       "   5 │ 2006-05-01   136258   114332            22597             113661        ⋯\n",
       "\u001b[36m                                                              19 columns omitted\u001b[0m"
      ]
     },
     "execution_count": 14,
     "metadata": {},
     "output_type": "execute_result"
    }
   ],
   "source": [
    "df = CSV.read(D, DataFrame)\n",
    "first(df,5)"
   ]
  },
  {
   "cell_type": "markdown",
   "metadata": {},
   "source": [
    "### Weather"
   ]
  },
  {
   "cell_type": "code",
   "execution_count": 18,
   "metadata": {},
   "outputs": [
    {
     "name": "stderr",
     "output_type": "stream",
     "text": [
      "--2021-02-25 13:58:18--  https://raw.githubusercontent.com/vega/vega-datasets/master/data/weather.csv\n",
      "Resolving raw.githubusercontent.com (raw.githubusercontent.com)... 185.199.109.133, 185.199.111.133, 185.199.110.133, ...\n",
      "Connecting to raw.githubusercontent.com (raw.githubusercontent.com)|185.199.109.133|:443... connected.\n",
      "HTTP request sent, awaiting response... 200 OK\n",
      "Length: 121417 (119K) [text/plain]\n",
      "Saving to: 'weather.csv'\n",
      "\n",
      "     0K .......... .......... .......... .......... .......... 42% 1.64M 0s\n",
      "    50K .......... .......... .......... .......... .......... 84% 2.13M 0s\n",
      "   100K .......... ........                                   100% 8.14M=0.06s\n",
      "\n",
      "2021-02-25 13:58:19 (2.10 MB/s) - 'weather.csv' saved [121417/121417]\n",
      "\n"
     ]
    },
    {
     "data": {
      "text/plain": [
       "\"weather.csv\""
      ]
     },
     "execution_count": 18,
     "metadata": {},
     "output_type": "execute_result"
    }
   ],
   "source": [
    "url =\"https://raw.githubusercontent.com/vega/vega-datasets/master/data/weather.csv\"\n",
    "D = download(url, \"weather.csv\")"
   ]
  },
  {
   "cell_type": "code",
   "execution_count": 19,
   "metadata": {},
   "outputs": [
    {
     "data": {
      "text/html": [
       "<table class=\"data-frame\"><thead><tr><th></th><th>location</th><th>date</th><th>precipitation</th><th>temp_max</th><th>temp_min</th><th>wind</th><th>weather</th></tr><tr><th></th><th>String</th><th>Date…</th><th>Float64</th><th>Float64</th><th>Float64</th><th>Float64</th><th>String</th></tr></thead><tbody><p>5 rows × 7 columns</p><tr><th>1</th><td>Seattle</td><td>2012-01-01</td><td>0.0</td><td>12.8</td><td>5.0</td><td>4.7</td><td>drizzle</td></tr><tr><th>2</th><td>Seattle</td><td>2012-01-02</td><td>10.9</td><td>10.6</td><td>2.8</td><td>4.5</td><td>rain</td></tr><tr><th>3</th><td>Seattle</td><td>2012-01-03</td><td>0.8</td><td>11.7</td><td>7.2</td><td>2.3</td><td>rain</td></tr><tr><th>4</th><td>Seattle</td><td>2012-01-04</td><td>20.3</td><td>12.2</td><td>5.6</td><td>4.7</td><td>rain</td></tr><tr><th>5</th><td>Seattle</td><td>2012-01-05</td><td>1.3</td><td>8.9</td><td>2.8</td><td>6.1</td><td>rain</td></tr></tbody></table>"
      ],
      "text/latex": [
       "\\begin{tabular}{r|ccccccc}\n",
       "\t& location & date & precipitation & temp\\_max & temp\\_min & wind & weather\\\\\n",
       "\t\\hline\n",
       "\t& String & Date… & Float64 & Float64 & Float64 & Float64 & String\\\\\n",
       "\t\\hline\n",
       "\t1 & Seattle & 2012-01-01 & 0.0 & 12.8 & 5.0 & 4.7 & drizzle \\\\\n",
       "\t2 & Seattle & 2012-01-02 & 10.9 & 10.6 & 2.8 & 4.5 & rain \\\\\n",
       "\t3 & Seattle & 2012-01-03 & 0.8 & 11.7 & 7.2 & 2.3 & rain \\\\\n",
       "\t4 & Seattle & 2012-01-04 & 20.3 & 12.2 & 5.6 & 4.7 & rain \\\\\n",
       "\t5 & Seattle & 2012-01-05 & 1.3 & 8.9 & 2.8 & 6.1 & rain \\\\\n",
       "\\end{tabular}\n"
      ],
      "text/plain": [
       "\u001b[1m5×7 DataFrame\u001b[0m\n",
       "\u001b[1m Row \u001b[0m│\u001b[1m location \u001b[0m\u001b[1m date       \u001b[0m\u001b[1m precipitation \u001b[0m\u001b[1m temp_max \u001b[0m\u001b[1m temp_min \u001b[0m\u001b[1m wind    \u001b[0m\u001b[1m weath\u001b[0m ⋯\n",
       "\u001b[1m     \u001b[0m│\u001b[90m String   \u001b[0m\u001b[90m Date…      \u001b[0m\u001b[90m Float64       \u001b[0m\u001b[90m Float64  \u001b[0m\u001b[90m Float64  \u001b[0m\u001b[90m Float64 \u001b[0m\u001b[90m Strin\u001b[0m ⋯\n",
       "─────┼──────────────────────────────────────────────────────────────────────────\n",
       "   1 │ Seattle   2012-01-01            0.0      12.8       5.0      4.7  drizz ⋯\n",
       "   2 │ Seattle   2012-01-02           10.9      10.6       2.8      4.5  rain\n",
       "   3 │ Seattle   2012-01-03            0.8      11.7       7.2      2.3  rain\n",
       "   4 │ Seattle   2012-01-04           20.3      12.2       5.6      4.7  rain\n",
       "   5 │ Seattle   2012-01-05            1.3       8.9       2.8      6.1  rain  ⋯\n",
       "\u001b[36m                                                                1 column omitted\u001b[0m"
      ]
     },
     "execution_count": 19,
     "metadata": {},
     "output_type": "execute_result"
    }
   ],
   "source": [
    "df = CSV.read(D, DataFrame)\n",
    "first(df,5)"
   ]
  },
  {
   "cell_type": "code",
   "execution_count": 23,
   "metadata": {},
   "outputs": [
    {
     "name": "stderr",
     "output_type": "stream",
     "text": [
      "--2021-02-25 14:30:26--  https://sap.sharepoint.com/:x:/r/teams/K8sCore/Shared%20Documents/Projects/Gardener%20Costs/Gardener%20Costs%20Outbound%20(Cross%20Charging)/Cross%20Charging%20Prerequesites/test.csv?d=w71dda4fe6e294bf8a130afec394724c5&csf=1&web=1&e=3aLurv\n",
      "Resolving sap.sharepoint.com (sap.sharepoint.com)... 52.105.2.53\n",
      "Connecting to sap.sharepoint.com (sap.sharepoint.com)|52.105.2.53|:443... connected.\n",
      "HTTP request sent, awaiting response... 301 Moved Permanently\n",
      "Location: https://sap.sharepoint.com/teams/K8sCore/Shared%20Documents/Projects/Gardener%20Costs/Gardener%20Costs%20Outbound%20(Cross%20Charging)/Cross%20Charging%20Prerequesites/test.csv?d=w71dda4fe6e294bf8a130afec394724c5&csf=1&web=1&e=3aLurv&cid=640cafa7-b6c7-4084-8a36-0a263765a8f0 [following]\n",
      "--2021-02-25 14:30:26--  https://sap.sharepoint.com/teams/K8sCore/Shared%20Documents/Projects/Gardener%20Costs/Gardener%20Costs%20Outbound%20(Cross%20Charging)/Cross%20Charging%20Prerequesites/test.csv?d=w71dda4fe6e294bf8a130afec394724c5&csf=1&web=1&e=3aLurv&cid=640cafa7-b6c7-4084-8a36-0a263765a8f0\n",
      "Reusing existing connection to sap.sharepoint.com:443.\n",
      "HTTP request sent, awaiting response... 403 FORBIDDEN\n",
      "2021-02-25 14:30:27 ERROR 403: FORBIDDEN.\n",
      "\n"
     ]
    },
    {
     "ename": "ProcessFailedException",
     "evalue": "failed process: Process(`wget -O weather.csv 'https://sap.sharepoint.com/:x:/r/teams/K8sCore/Shared%20Documents/Projects/Gardener%20Costs/Gardener%20Costs%20Outbound%20(Cross%20Charging)/Cross%20Charging%20Prerequesites/test.csv?d=w71dda4fe6e294bf8a130afec394724c5&csf=1&web=1&e=3aLurv'`, ProcessExited(8)) [8]\n",
     "output_type": "error",
     "traceback": [
      "failed process: Process(`wget -O weather.csv 'https://sap.sharepoint.com/:x:/r/teams/K8sCore/Shared%20Documents/Projects/Gardener%20Costs/Gardener%20Costs%20Outbound%20(Cross%20Charging)/Cross%20Charging%20Prerequesites/test.csv?d=w71dda4fe6e294bf8a130afec394724c5&csf=1&web=1&e=3aLurv'`, ProcessExited(8)) [8]\n",
      "",
      "Stacktrace:",
      " [1] pipeline_error at ./process.jl:525 [inlined]",
      " [2] run(::Cmd; wait::Bool) at ./process.jl:440",
      " [3] run at ./process.jl:438 [inlined]",
      " [4] download(::String, ::String) at ./download.jl:67",
      " [5] top-level scope at In[23]:2"
     ]
    }
   ],
   "source": [
    "url7 = \"https://sap.sharepoint.com/:x:/r/teams/K8sCore/Shared%20Documents/Projects/Gardener%20Costs/Gardener%20Costs%20Outbound%20(Cross%20Charging)/Cross%20Charging%20Prerequesites/test.csv?d=w71dda4fe6e294bf8a130afec394724c5&csf=1&web=1&e=3aLurv\"\n",
    "D = download(url7, \"weather.csv\")\n",
    "df = CSV.read(D, DataFrame)\n",
    "first(df,5)"
   ]
  },
  {
   "cell_type": "code",
   "execution_count": 22,
   "metadata": {},
   "outputs": [
    {
     "ename": "UndefVarError",
     "evalue": "UndefVarError: wget not defined",
     "output_type": "error",
     "traceback": [
      "UndefVarError: wget not defined",
      "",
      "Stacktrace:",
      " [1] top-level scope at In[22]:1"
     ]
    }
   ],
   "source": [
    "wget(url7)"
   ]
  },
  {
   "cell_type": "code",
   "execution_count": null,
   "metadata": {},
   "outputs": [],
   "source": []
  }
 ],
 "metadata": {
  "kernelspec": {
   "display_name": "Julia 1.4.1",
   "language": "julia",
   "name": "julia-1.4"
  },
  "language_info": {
   "file_extension": ".jl",
   "mimetype": "application/julia",
   "name": "julia",
   "version": "1.4.1"
  }
 },
 "nbformat": 4,
 "nbformat_minor": 4
}
