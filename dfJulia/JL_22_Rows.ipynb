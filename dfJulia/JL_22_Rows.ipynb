{
 "cells": [
  {
   "cell_type": "markdown",
   "metadata": {},
   "source": [
    "# Rows"
   ]
  },
  {
   "cell_type": "markdown",
   "metadata": {},
   "source": [
    "## Get Started (Load a DataFrame)"
   ]
  },
  {
   "cell_type": "code",
   "execution_count": 1,
   "metadata": {},
   "outputs": [],
   "source": [
    "using CSV\n",
    "using DataFrames"
   ]
  },
  {
   "cell_type": "code",
   "execution_count": 2,
   "metadata": {},
   "outputs": [
    {
     "data": {
      "text/html": [
       "<table class=\"data-frame\"><thead><tr><th></th><th>enrollee_id</th><th>city</th><th>gender</th></tr><tr><th></th><th>Int64</th><th>String</th><th>String?</th></tr></thead><tbody><p>5 rows × 3 columns</p><tr><th>1</th><td>8949</td><td>city_103</td><td>Male</td></tr><tr><th>2</th><td>29725</td><td>city_40</td><td>Male</td></tr><tr><th>3</th><td>11561</td><td>city_21</td><td><em>missing</em></td></tr><tr><th>4</th><td>33241</td><td>city_115</td><td><em>missing</em></td></tr><tr><th>5</th><td>666</td><td>city_162</td><td>Male</td></tr></tbody></table>"
      ],
      "text/latex": [
       "\\begin{tabular}{r|ccc}\n",
       "\t& enrollee\\_id & city & gender\\\\\n",
       "\t\\hline\n",
       "\t& Int64 & String & String?\\\\\n",
       "\t\\hline\n",
       "\t1 & 8949 & city\\_103 & Male \\\\\n",
       "\t2 & 29725 & city\\_40 & Male \\\\\n",
       "\t3 & 11561 & city\\_21 & \\emph{missing} \\\\\n",
       "\t4 & 33241 & city\\_115 & \\emph{missing} \\\\\n",
       "\t5 & 666 & city\\_162 & Male \\\\\n",
       "\\end{tabular}\n"
      ],
      "text/plain": [
       "\u001b[1m5×3 DataFrame\u001b[0m\n",
       "\u001b[1m Row \u001b[0m│\u001b[1m enrollee_id \u001b[0m\u001b[1m city     \u001b[0m\u001b[1m gender  \u001b[0m\n",
       "\u001b[1m     \u001b[0m│\u001b[90m Int64       \u001b[0m\u001b[90m String   \u001b[0m\u001b[90m String? \u001b[0m\n",
       "─────┼────────────────────────────────\n",
       "   1 │        8949  city_103  Male\n",
       "   2 │       29725  city_40   Male\n",
       "   3 │       11561  city_21  \u001b[90m missing \u001b[0m\n",
       "   4 │       33241  city_115 \u001b[90m missing \u001b[0m\n",
       "   5 │         666  city_162  Male"
      ]
     },
     "execution_count": 2,
     "metadata": {},
     "output_type": "execute_result"
    }
   ],
   "source": [
    "filename = \"Data_Applicants/aug_train.csv\"\n",
    "colsIwannaUse = [\"enrollee_id\", \"city\", \"gender\"]\n",
    "df = CSV.read(filename, DataFrame; select=colsIwannaUse, limit=50)\n",
    "first(df,5)"
   ]
  },
  {
   "cell_type": "markdown",
   "metadata": {},
   "source": [
    "## Sort"
   ]
  },
  {
   "cell_type": "code",
   "execution_count": 3,
   "metadata": {},
   "outputs": [
    {
     "data": {
      "text/html": [
       "<table class=\"data-frame\"><thead><tr><th></th><th>enrollee_id</th><th>city</th><th>gender</th></tr><tr><th></th><th>Int64</th><th>String</th><th>String?</th></tr></thead><tbody><p>5 rows × 3 columns</p><tr><th>1</th><td>33241</td><td>city_115</td><td><em>missing</em></td></tr><tr><th>2</th><td>31972</td><td>city_159</td><td>Male</td></tr><tr><th>3</th><td>31654</td><td>city_21</td><td><em>missing</em></td></tr><tr><th>4</th><td>29725</td><td>city_40</td><td>Male</td></tr><tr><th>5</th><td>29452</td><td>city_21</td><td><em>missing</em></td></tr></tbody></table>"
      ],
      "text/latex": [
       "\\begin{tabular}{r|ccc}\n",
       "\t& enrollee\\_id & city & gender\\\\\n",
       "\t\\hline\n",
       "\t& Int64 & String & String?\\\\\n",
       "\t\\hline\n",
       "\t1 & 33241 & city\\_115 & \\emph{missing} \\\\\n",
       "\t2 & 31972 & city\\_159 & Male \\\\\n",
       "\t3 & 31654 & city\\_21 & \\emph{missing} \\\\\n",
       "\t4 & 29725 & city\\_40 & Male \\\\\n",
       "\t5 & 29452 & city\\_21 & \\emph{missing} \\\\\n",
       "\\end{tabular}\n"
      ],
      "text/plain": [
       "\u001b[1m5×3 DataFrame\u001b[0m\n",
       "\u001b[1m Row \u001b[0m│\u001b[1m enrollee_id \u001b[0m\u001b[1m city     \u001b[0m\u001b[1m gender  \u001b[0m\n",
       "\u001b[1m     \u001b[0m│\u001b[90m Int64       \u001b[0m\u001b[90m String   \u001b[0m\u001b[90m String? \u001b[0m\n",
       "─────┼────────────────────────────────\n",
       "   1 │       33241  city_115 \u001b[90m missing \u001b[0m\n",
       "   2 │       31972  city_159  Male\n",
       "   3 │       31654  city_21  \u001b[90m missing \u001b[0m\n",
       "   4 │       29725  city_40   Male\n",
       "   5 │       29452  city_21  \u001b[90m missing \u001b[0m"
      ]
     },
     "execution_count": 3,
     "metadata": {},
     "output_type": "execute_result"
    }
   ],
   "source": [
    "dfS = sort!(df, rev = true)\n",
    "first(dfS,5)"
   ]
  },
  {
   "cell_type": "code",
   "execution_count": 4,
   "metadata": {},
   "outputs": [
    {
     "data": {
      "text/html": [
       "<table class=\"data-frame\"><thead><tr><th></th><th>enrollee_id</th><th>city</th><th>gender</th></tr><tr><th></th><th>Int64</th><th>String</th><th>String?</th></tr></thead><tbody><p>5 rows × 3 columns</p><tr><th>1</th><td>21538</td><td>city_100</td><td>Male</td></tr><tr><th>2</th><td>4476</td><td>city_101</td><td>Male</td></tr><tr><th>3</th><td>6491</td><td>city_102</td><td><em>missing</em></td></tr><tr><th>4</th><td>28476</td><td>city_103</td><td>Male</td></tr><tr><th>5</th><td>27107</td><td>city_103</td><td>Male</td></tr></tbody></table>"
      ],
      "text/latex": [
       "\\begin{tabular}{r|ccc}\n",
       "\t& enrollee\\_id & city & gender\\\\\n",
       "\t\\hline\n",
       "\t& Int64 & String & String?\\\\\n",
       "\t\\hline\n",
       "\t1 & 21538 & city\\_100 & Male \\\\\n",
       "\t2 & 4476 & city\\_101 & Male \\\\\n",
       "\t3 & 6491 & city\\_102 & \\emph{missing} \\\\\n",
       "\t4 & 28476 & city\\_103 & Male \\\\\n",
       "\t5 & 27107 & city\\_103 & Male \\\\\n",
       "\\end{tabular}\n"
      ],
      "text/plain": [
       "\u001b[1m5×3 DataFrame\u001b[0m\n",
       "\u001b[1m Row \u001b[0m│\u001b[1m enrollee_id \u001b[0m\u001b[1m city     \u001b[0m\u001b[1m gender  \u001b[0m\n",
       "\u001b[1m     \u001b[0m│\u001b[90m Int64       \u001b[0m\u001b[90m String   \u001b[0m\u001b[90m String? \u001b[0m\n",
       "─────┼────────────────────────────────\n",
       "   1 │       21538  city_100  Male\n",
       "   2 │        4476  city_101  Male\n",
       "   3 │        6491  city_102 \u001b[90m missing \u001b[0m\n",
       "   4 │       28476  city_103  Male\n",
       "   5 │       27107  city_103  Male"
      ]
     },
     "execution_count": 4,
     "metadata": {},
     "output_type": "execute_result"
    }
   ],
   "source": [
    "### Sort by one column\n",
    "sort!(df, :city)\n",
    "first(dfS,5)"
   ]
  },
  {
   "cell_type": "code",
   "execution_count": null,
   "metadata": {
    "jupyter": {
     "source_hidden": true
    }
   },
   "outputs": [],
   "source": []
  },
  {
   "cell_type": "code",
   "execution_count": 5,
   "metadata": {},
   "outputs": [],
   "source": [
    "### sort(df, [:city, :gender], rev=[true, false]) Kernel dies!!!\n",
    "#sortCols = [:city, :gender]\n",
    "#sort!(df, [order(:city, :gender)]) #As in Dataframes.jl, but throws error here!\n",
    "#first(dfS,5)"
   ]
  },
  {
   "cell_type": "code",
   "execution_count": 12,
   "metadata": {},
   "outputs": [
    {
     "data": {
      "text/html": [
       "<table class=\"data-frame\"><thead><tr><th></th><th>enrollee_id</th><th>city</th><th>gender</th></tr><tr><th></th><th>Int64</th><th>String</th><th>String?</th></tr></thead><tbody><p>5 rows × 3 columns</p><tr><th>1</th><td>6491</td><td>city_102</td><td><em>missing</em></td></tr><tr><th>2</th><td>4476</td><td>city_101</td><td>Male</td></tr><tr><th>3</th><td>21538</td><td>city_100</td><td>Male</td></tr><tr><th>4</th><td>28476</td><td>city_103</td><td>Male</td></tr><tr><th>5</th><td>27107</td><td>city_103</td><td>Male</td></tr></tbody></table>"
      ],
      "text/latex": [
       "\\begin{tabular}{r|ccc}\n",
       "\t& enrollee\\_id & city & gender\\\\\n",
       "\t\\hline\n",
       "\t& Int64 & String & String?\\\\\n",
       "\t\\hline\n",
       "\t1 & 6491 & city\\_102 & \\emph{missing} \\\\\n",
       "\t2 & 4476 & city\\_101 & Male \\\\\n",
       "\t3 & 21538 & city\\_100 & Male \\\\\n",
       "\t4 & 28476 & city\\_103 & Male \\\\\n",
       "\t5 & 27107 & city\\_103 & Male \\\\\n",
       "\\end{tabular}\n"
      ],
      "text/plain": [
       "\u001b[1m5×3 DataFrame\u001b[0m\n",
       "\u001b[1m Row \u001b[0m│\u001b[1m enrollee_id \u001b[0m\u001b[1m city     \u001b[0m\u001b[1m gender  \u001b[0m\n",
       "\u001b[1m     \u001b[0m│\u001b[90m Int64       \u001b[0m\u001b[90m String   \u001b[0m\u001b[90m String? \u001b[0m\n",
       "─────┼────────────────────────────────\n",
       "   1 │        6491  city_102 \u001b[90m missing \u001b[0m\n",
       "   2 │        4476  city_101  Male\n",
       "   3 │       21538  city_100  Male\n",
       "   4 │       28476  city_103  Male\n",
       "   5 │       27107  city_103  Male"
      ]
     },
     "execution_count": 12,
     "metadata": {},
     "output_type": "execute_result"
    }
   ],
   "source": [
    "### Swap rows\n",
    "#x[[1,10],:] .= x[[10,1],:]\n",
    "df[[1,3],:] .= df[[3,1],:]\n",
    "first(dfS,5)"
   ]
  },
  {
   "cell_type": "markdown",
   "metadata": {},
   "source": [
    "\n",
    "## Get row"
   ]
  },
  {
   "cell_type": "code",
   "execution_count": 7,
   "metadata": {},
   "outputs": [
    {
     "data": {
      "text/html": [
       "<table class=\"data-frame\"><thead><tr><th></th><th>enrollee_id</th><th>city</th><th>gender</th></tr><tr><th></th><th>Int64</th><th>String</th><th>String?</th></tr></thead><tbody><p>1 rows × 3 columns</p><tr><th>1</th><td>27107</td><td>city_103</td><td>Male</td></tr></tbody></table>"
      ],
      "text/latex": [
       "\\begin{tabular}{r|ccc}\n",
       "\t& enrollee\\_id & city & gender\\\\\n",
       "\t\\hline\n",
       "\t& Int64 & String & String?\\\\\n",
       "\t\\hline\n",
       "\t1 & 27107 & city\\_103 & Male \\\\\n",
       "\\end{tabular}\n"
      ],
      "text/plain": [
       "\u001b[1m1×3 DataFrame\u001b[0m\n",
       "\u001b[1m Row \u001b[0m│\u001b[1m enrollee_id \u001b[0m\u001b[1m city     \u001b[0m\u001b[1m gender  \u001b[0m\n",
       "\u001b[1m     \u001b[0m│\u001b[90m Int64       \u001b[0m\u001b[90m String   \u001b[0m\u001b[90m String? \u001b[0m\n",
       "─────┼────────────────────────────────\n",
       "   1 │       27107  city_103  Male"
      ]
     },
     "execution_count": 7,
     "metadata": {},
     "output_type": "execute_result"
    }
   ],
   "source": [
    "### Get nth row\n",
    "k = 5\n",
    "row = df[k:k, :]\n",
    "row"
   ]
  },
  {
   "cell_type": "code",
   "execution_count": 13,
   "metadata": {},
   "outputs": [
    {
     "data": {
      "text/html": [
       "<table class=\"data-frame\"><thead><tr><th></th><th>city</th><th>gender</th></tr><tr><th></th><th>String</th><th>String?</th></tr></thead><tbody><p>2 rows × 2 columns</p><tr><th>1</th><td>city_40</td><td>Male</td></tr><tr><th>2</th><td>city_46</td><td>Male</td></tr></tbody></table>"
      ],
      "text/latex": [
       "\\begin{tabular}{r|cc}\n",
       "\t& city & gender\\\\\n",
       "\t\\hline\n",
       "\t& String & String?\\\\\n",
       "\t\\hline\n",
       "\t1 & city\\_40 & Male \\\\\n",
       "\t2 & city\\_46 & Male \\\\\n",
       "\\end{tabular}\n"
      ],
      "text/plain": [
       "\u001b[1m2×2 DataFrame\u001b[0m\n",
       "\u001b[1m Row \u001b[0m│\u001b[1m city    \u001b[0m\u001b[1m gender  \u001b[0m\n",
       "\u001b[1m     \u001b[0m│\u001b[90m String  \u001b[0m\u001b[90m String? \u001b[0m\n",
       "─────┼──────────────────\n",
       "   1 │ city_40  Male\n",
       "   2 │ city_46  Male"
      ]
     },
     "execution_count": 13,
     "metadata": {},
     "output_type": "execute_result"
    }
   ],
   "source": [
    "### Get kth row and some columns\n",
    "k = 44\n",
    "useCols = [:city,  :gender]\n",
    "row = df[k:k+1, useCols]"
   ]
  },
  {
   "cell_type": "markdown",
   "metadata": {},
   "source": [
    "## Add row"
   ]
  },
  {
   "cell_type": "code",
   "execution_count": 22,
   "metadata": {},
   "outputs": [
    {
     "data": {
      "text/html": [
       "<table class=\"data-frame\"><thead><tr><th></th><th>enrollee_id</th><th>city</th><th>gender</th></tr><tr><th></th><th>Int64</th><th>String</th><th>String?</th></tr></thead><tbody><p>2 rows × 3 columns</p><tr><th>1</th><td>29725</td><td>city_40</td><td>Male</td></tr><tr><th>2</th><td>11561</td><td>city_21</td><td><em>missing</em></td></tr></tbody></table>"
      ],
      "text/latex": [
       "\\begin{tabular}{r|ccc}\n",
       "\t& enrollee\\_id & city & gender\\\\\n",
       "\t\\hline\n",
       "\t& Int64 & String & String?\\\\\n",
       "\t\\hline\n",
       "\t1 & 29725 & city\\_40 & Male \\\\\n",
       "\t2 & 11561 & city\\_21 & \\emph{missing} \\\\\n",
       "\\end{tabular}\n"
      ],
      "text/plain": [
       "\u001b[1m2×3 DataFrame\u001b[0m\n",
       "\u001b[1m Row \u001b[0m│\u001b[1m enrollee_id \u001b[0m\u001b[1m city    \u001b[0m\u001b[1m gender  \u001b[0m\n",
       "\u001b[1m     \u001b[0m│\u001b[90m Int64       \u001b[0m\u001b[90m String  \u001b[0m\u001b[90m String? \u001b[0m\n",
       "─────┼───────────────────────────────\n",
       "   1 │       29725  city_40  Male\n",
       "   2 │       11561  city_21 \u001b[90m missing \u001b[0m"
      ]
     },
     "execution_count": 22,
     "metadata": {},
     "output_type": "execute_result"
    }
   ],
   "source": [
    "### Read a few rows from file + get one of the rows\n",
    "df = CSV.read(filename, DataFrame; select=colsIwannaUse, limit=3)\n",
    "dfN = copy(df)\n",
    "k = nrow(df)\n",
    "rows = df[k-1:k, :]"
   ]
  },
  {
   "cell_type": "code",
   "execution_count": 26,
   "metadata": {},
   "outputs": [
    {
     "data": {
      "text/html": [
       "<table class=\"data-frame\"><thead><tr><th></th><th>enrollee_id</th><th>city</th><th>gender</th></tr><tr><th></th><th>Int64</th><th>String</th><th>String?</th></tr></thead><tbody><p>5 rows × 3 columns</p><tr><th>1</th><td>8949</td><td>city_103</td><td>Male</td></tr><tr><th>2</th><td>29725</td><td>city_40</td><td>Male</td></tr><tr><th>3</th><td>11561</td><td>city_21</td><td><em>missing</em></td></tr><tr><th>4</th><td>29725</td><td>city_40</td><td>Male</td></tr><tr><th>5</th><td>11561</td><td>city_21</td><td><em>missing</em></td></tr></tbody></table>"
      ],
      "text/latex": [
       "\\begin{tabular}{r|ccc}\n",
       "\t& enrollee\\_id & city & gender\\\\\n",
       "\t\\hline\n",
       "\t& Int64 & String & String?\\\\\n",
       "\t\\hline\n",
       "\t1 & 8949 & city\\_103 & Male \\\\\n",
       "\t2 & 29725 & city\\_40 & Male \\\\\n",
       "\t3 & 11561 & city\\_21 & \\emph{missing} \\\\\n",
       "\t4 & 29725 & city\\_40 & Male \\\\\n",
       "\t5 & 11561 & city\\_21 & \\emph{missing} \\\\\n",
       "\\end{tabular}\n"
      ],
      "text/plain": [
       "\u001b[1m5×3 DataFrame\u001b[0m\n",
       "\u001b[1m Row \u001b[0m│\u001b[1m enrollee_id \u001b[0m\u001b[1m city     \u001b[0m\u001b[1m gender  \u001b[0m\n",
       "\u001b[1m     \u001b[0m│\u001b[90m Int64       \u001b[0m\u001b[90m String   \u001b[0m\u001b[90m String? \u001b[0m\n",
       "─────┼────────────────────────────────\n",
       "   1 │        8949  city_103  Male\n",
       "   2 │       29725  city_40   Male\n",
       "   3 │       11561  city_21  \u001b[90m missing \u001b[0m\n",
       "   4 │       29725  city_40   Male\n",
       "   5 │       11561  city_21  \u001b[90m missing \u001b[0m"
      ]
     },
     "execution_count": 26,
     "metadata": {},
     "output_type": "execute_result"
    }
   ],
   "source": [
    "### Vertically concatentate the rows to the dataframe\n",
    "vcat(dfN, rows)"
   ]
  },
  {
   "cell_type": "code",
   "execution_count": 27,
   "metadata": {},
   "outputs": [
    {
     "data": {
      "text/html": [
       "<table class=\"data-frame\"><thead><tr><th></th><th>gender</th><th>city</th><th>enrollee_id</th></tr><tr><th></th><th>String?</th><th>String</th><th>Int64</th></tr></thead><tbody><p>3 rows × 3 columns</p><tr><th>1</th><td>Male</td><td>city_103</td><td>8949</td></tr><tr><th>2</th><td>Male</td><td>city_40</td><td>29725</td></tr><tr><th>3</th><td><em>missing</em></td><td>city_21</td><td>11561</td></tr></tbody></table>"
      ],
      "text/latex": [
       "\\begin{tabular}{r|ccc}\n",
       "\t& gender & city & enrollee\\_id\\\\\n",
       "\t\\hline\n",
       "\t& String? & String & Int64\\\\\n",
       "\t\\hline\n",
       "\t1 & Male & city\\_103 & 8949 \\\\\n",
       "\t2 & Male & city\\_40 & 29725 \\\\\n",
       "\t3 & \\emph{missing} & city\\_21 & 11561 \\\\\n",
       "\\end{tabular}\n"
      ],
      "text/plain": [
       "\u001b[1m3×3 DataFrame\u001b[0m\n",
       "\u001b[1m Row \u001b[0m│\u001b[1m gender  \u001b[0m\u001b[1m city     \u001b[0m\u001b[1m enrollee_id \u001b[0m\n",
       "\u001b[1m     \u001b[0m│\u001b[90m String? \u001b[0m\u001b[90m String   \u001b[0m\u001b[90m Int64       \u001b[0m\n",
       "─────┼────────────────────────────────\n",
       "   1 │ Male     city_103         8949\n",
       "   2 │ Male     city_40         29725\n",
       "   3 │\u001b[90m missing \u001b[0m city_21         11561"
      ]
     },
     "execution_count": 27,
     "metadata": {},
     "output_type": "execute_result"
    }
   ],
   "source": [
    "dfR = df[:,reverse(names(df))]"
   ]
  },
  {
   "cell_type": "code",
   "execution_count": null,
   "metadata": {},
   "outputs": [],
   "source": []
  }
 ],
 "metadata": {
  "kernelspec": {
   "display_name": "Julia 1.4.1",
   "language": "julia",
   "name": "julia-1.4"
  },
  "language_info": {
   "file_extension": ".jl",
   "mimetype": "application/julia",
   "name": "julia",
   "version": "1.4.1"
  }
 },
 "nbformat": 4,
 "nbformat_minor": 4
}
