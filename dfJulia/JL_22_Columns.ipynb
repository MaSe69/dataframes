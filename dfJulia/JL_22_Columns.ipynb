{
 "cells": [
  {
   "cell_type": "markdown",
   "metadata": {},
   "source": [
    "# Columns"
   ]
  },
  {
   "cell_type": "markdown",
   "metadata": {},
   "source": [
    "## Get Started (Load a DataFrame)"
   ]
  },
  {
   "cell_type": "code",
   "execution_count": 1,
   "metadata": {},
   "outputs": [],
   "source": [
    "using CSV\n",
    "using DataFrames"
   ]
  },
  {
   "cell_type": "code",
   "execution_count": 2,
   "metadata": {},
   "outputs": [
    {
     "data": {
      "text/html": [
       "<table class=\"data-frame\"><thead><tr><th></th><th>enrollee_id</th><th>city</th><th>gender</th></tr><tr><th></th><th>Int64</th><th>String</th><th>String?</th></tr></thead><tbody><p>5 rows × 3 columns</p><tr><th>1</th><td>8949</td><td>city_103</td><td>Male</td></tr><tr><th>2</th><td>29725</td><td>city_40</td><td>Male</td></tr><tr><th>3</th><td>11561</td><td>city_21</td><td><em>missing</em></td></tr><tr><th>4</th><td>33241</td><td>city_115</td><td><em>missing</em></td></tr><tr><th>5</th><td>666</td><td>city_162</td><td>Male</td></tr></tbody></table>"
      ],
      "text/latex": [
       "\\begin{tabular}{r|ccc}\n",
       "\t& enrollee\\_id & city & gender\\\\\n",
       "\t\\hline\n",
       "\t& Int64 & String & String?\\\\\n",
       "\t\\hline\n",
       "\t1 & 8949 & city\\_103 & Male \\\\\n",
       "\t2 & 29725 & city\\_40 & Male \\\\\n",
       "\t3 & 11561 & city\\_21 & \\emph{missing} \\\\\n",
       "\t4 & 33241 & city\\_115 & \\emph{missing} \\\\\n",
       "\t5 & 666 & city\\_162 & Male \\\\\n",
       "\\end{tabular}\n"
      ],
      "text/plain": [
       "\u001b[1m5×3 DataFrame\u001b[0m\n",
       "\u001b[1m Row \u001b[0m│\u001b[1m enrollee_id \u001b[0m\u001b[1m city     \u001b[0m\u001b[1m gender  \u001b[0m\n",
       "\u001b[1m     \u001b[0m│\u001b[90m Int64       \u001b[0m\u001b[90m String   \u001b[0m\u001b[90m String? \u001b[0m\n",
       "─────┼────────────────────────────────\n",
       "   1 │        8949  city_103  Male\n",
       "   2 │       29725  city_40   Male\n",
       "   3 │       11561  city_21  \u001b[90m missing \u001b[0m\n",
       "   4 │       33241  city_115 \u001b[90m missing \u001b[0m\n",
       "   5 │         666  city_162  Male"
      ]
     },
     "execution_count": 2,
     "metadata": {},
     "output_type": "execute_result"
    }
   ],
   "source": [
    "filename = \"Data_Applicants/aug_train.csv\"\n",
    "colsIwannaUse = [\"enrollee_id\", \"city\", \"gender\"]\n",
    "df = CSV.read(filename, DataFrame; select=colsIwannaUse, limit=5)"
   ]
  },
  {
   "cell_type": "markdown",
   "metadata": {},
   "source": [
    "## Column Names - Get and Rename\n"
   ]
  },
  {
   "cell_type": "code",
   "execution_count": 3,
   "metadata": {},
   "outputs": [
    {
     "data": {
      "text/plain": [
       "3-element Array{String,1}:\n",
       " \"enrollee_id\"\n",
       " \"city\"\n",
       " \"gender\""
      ]
     },
     "execution_count": 3,
     "metadata": {},
     "output_type": "execute_result"
    }
   ],
   "source": [
    "### Get column names ( = headers)\n",
    "columnNames = names(df)"
   ]
  },
  {
   "cell_type": "code",
   "execution_count": 4,
   "metadata": {},
   "outputs": [
    {
     "data": {
      "text/html": [
       "<table class=\"data-frame\"><thead><tr><th></th><th>Enrollee_id</th><th>City</th><th>Gender</th></tr><tr><th></th><th>Int64</th><th>String</th><th>String?</th></tr></thead><tbody><p>5 rows × 3 columns</p><tr><th>1</th><td>8949</td><td>city_103</td><td>Male</td></tr><tr><th>2</th><td>29725</td><td>city_40</td><td>Male</td></tr><tr><th>3</th><td>11561</td><td>city_21</td><td><em>missing</em></td></tr><tr><th>4</th><td>33241</td><td>city_115</td><td><em>missing</em></td></tr><tr><th>5</th><td>666</td><td>city_162</td><td>Male</td></tr></tbody></table>"
      ],
      "text/latex": [
       "\\begin{tabular}{r|ccc}\n",
       "\t& Enrollee\\_id & City & Gender\\\\\n",
       "\t\\hline\n",
       "\t& Int64 & String & String?\\\\\n",
       "\t\\hline\n",
       "\t1 & 8949 & city\\_103 & Male \\\\\n",
       "\t2 & 29725 & city\\_40 & Male \\\\\n",
       "\t3 & 11561 & city\\_21 & \\emph{missing} \\\\\n",
       "\t4 & 33241 & city\\_115 & \\emph{missing} \\\\\n",
       "\t5 & 666 & city\\_162 & Male \\\\\n",
       "\\end{tabular}\n"
      ],
      "text/plain": [
       "\u001b[1m5×3 DataFrame\u001b[0m\n",
       "\u001b[1m Row \u001b[0m│\u001b[1m Enrollee_id \u001b[0m\u001b[1m City     \u001b[0m\u001b[1m Gender  \u001b[0m\n",
       "\u001b[1m     \u001b[0m│\u001b[90m Int64       \u001b[0m\u001b[90m String   \u001b[0m\u001b[90m String? \u001b[0m\n",
       "─────┼────────────────────────────────\n",
       "   1 │        8949  city_103  Male\n",
       "   2 │       29725  city_40   Male\n",
       "   3 │       11561  city_21  \u001b[90m missing \u001b[0m\n",
       "   4 │       33241  city_115 \u001b[90m missing \u001b[0m\n",
       "   5 │         666  city_162  Male"
      ]
     },
     "execution_count": 4,
     "metadata": {},
     "output_type": "execute_result"
    }
   ],
   "source": [
    "### Capitalize names (or minimalize, etc.)\n",
    "rename!(uppercasefirst, df )"
   ]
  },
  {
   "cell_type": "code",
   "execution_count": 5,
   "metadata": {},
   "outputs": [
    {
     "data": {
      "text/html": [
       "<table class=\"data-frame\"><thead><tr><th></th><th>Potential</th><th>Location</th><th>MF</th></tr><tr><th></th><th>Int64</th><th>String</th><th>String?</th></tr></thead><tbody><p>5 rows × 3 columns</p><tr><th>1</th><td>8949</td><td>city_103</td><td>Male</td></tr><tr><th>2</th><td>29725</td><td>city_40</td><td>Male</td></tr><tr><th>3</th><td>11561</td><td>city_21</td><td><em>missing</em></td></tr><tr><th>4</th><td>33241</td><td>city_115</td><td><em>missing</em></td></tr><tr><th>5</th><td>666</td><td>city_162</td><td>Male</td></tr></tbody></table>"
      ],
      "text/latex": [
       "\\begin{tabular}{r|ccc}\n",
       "\t& Potential & Location & MF\\\\\n",
       "\t\\hline\n",
       "\t& Int64 & String & String?\\\\\n",
       "\t\\hline\n",
       "\t1 & 8949 & city\\_103 & Male \\\\\n",
       "\t2 & 29725 & city\\_40 & Male \\\\\n",
       "\t3 & 11561 & city\\_21 & \\emph{missing} \\\\\n",
       "\t4 & 33241 & city\\_115 & \\emph{missing} \\\\\n",
       "\t5 & 666 & city\\_162 & Male \\\\\n",
       "\\end{tabular}\n"
      ],
      "text/plain": [
       "\u001b[1m5×3 DataFrame\u001b[0m\n",
       "\u001b[1m Row \u001b[0m│\u001b[1m Potential \u001b[0m\u001b[1m Location \u001b[0m\u001b[1m MF      \u001b[0m\n",
       "\u001b[1m     \u001b[0m│\u001b[90m Int64     \u001b[0m\u001b[90m String   \u001b[0m\u001b[90m String? \u001b[0m\n",
       "─────┼──────────────────────────────\n",
       "   1 │      8949  city_103  Male\n",
       "   2 │     29725  city_40   Male\n",
       "   3 │     11561  city_21  \u001b[90m missing \u001b[0m\n",
       "   4 │     33241  city_115 \u001b[90m missing \u001b[0m\n",
       "   5 │       666  city_162  Male"
      ]
     },
     "execution_count": 5,
     "metadata": {},
     "output_type": "execute_result"
    }
   ],
   "source": [
    "### Completely exchange all names\n",
    "newColNames = [:Potential, :Location, :MF]\n",
    "rename!(df, newColNames)"
   ]
  },
  {
   "cell_type": "code",
   "execution_count": 6,
   "metadata": {},
   "outputs": [
    {
     "data": {
      "text/html": [
       "<table class=\"data-frame\"><thead><tr><th></th><th>Potential</th><th>Location</th><th>Gender</th></tr><tr><th></th><th>Int64</th><th>String</th><th>String?</th></tr></thead><tbody><p>5 rows × 3 columns</p><tr><th>1</th><td>8949</td><td>city_103</td><td>Male</td></tr><tr><th>2</th><td>29725</td><td>city_40</td><td>Male</td></tr><tr><th>3</th><td>11561</td><td>city_21</td><td><em>missing</em></td></tr><tr><th>4</th><td>33241</td><td>city_115</td><td><em>missing</em></td></tr><tr><th>5</th><td>666</td><td>city_162</td><td>Male</td></tr></tbody></table>"
      ],
      "text/latex": [
       "\\begin{tabular}{r|ccc}\n",
       "\t& Potential & Location & Gender\\\\\n",
       "\t\\hline\n",
       "\t& Int64 & String & String?\\\\\n",
       "\t\\hline\n",
       "\t1 & 8949 & city\\_103 & Male \\\\\n",
       "\t2 & 29725 & city\\_40 & Male \\\\\n",
       "\t3 & 11561 & city\\_21 & \\emph{missing} \\\\\n",
       "\t4 & 33241 & city\\_115 & \\emph{missing} \\\\\n",
       "\t5 & 666 & city\\_162 & Male \\\\\n",
       "\\end{tabular}\n"
      ],
      "text/plain": [
       "\u001b[1m5×3 DataFrame\u001b[0m\n",
       "\u001b[1m Row \u001b[0m│\u001b[1m Potential \u001b[0m\u001b[1m Location \u001b[0m\u001b[1m Gender  \u001b[0m\n",
       "\u001b[1m     \u001b[0m│\u001b[90m Int64     \u001b[0m\u001b[90m String   \u001b[0m\u001b[90m String? \u001b[0m\n",
       "─────┼──────────────────────────────\n",
       "   1 │      8949  city_103  Male\n",
       "   2 │     29725  city_40   Male\n",
       "   3 │     11561  city_21  \u001b[90m missing \u001b[0m\n",
       "   4 │     33241  city_115 \u001b[90m missing \u001b[0m\n",
       "   5 │       666  city_162  Male"
      ]
     },
     "execution_count": 6,
     "metadata": {},
     "output_type": "execute_result"
    }
   ],
   "source": [
    "### Just rename a specific column (or a few of them)\n",
    "rename!(df, :MF => :Gender)"
   ]
  },
  {
   "cell_type": "code",
   "execution_count": 7,
   "metadata": {},
   "outputs": [
    {
     "data": {
      "text/html": [
       "<table class=\"data-frame\"><thead><tr><th></th><th>Potential</th><th>Location</th><th>Gender</th></tr><tr><th></th><th>Int64</th><th>String</th><th>String?</th></tr></thead><tbody><p>5 rows × 3 columns</p><tr><th>1</th><td>8949</td><td>city_103</td><td>Male</td></tr><tr><th>2</th><td>29725</td><td>city_40</td><td>Male</td></tr><tr><th>3</th><td>11561</td><td>city_21</td><td><em>missing</em></td></tr><tr><th>4</th><td>33241</td><td>city_115</td><td><em>missing</em></td></tr><tr><th>5</th><td>666</td><td>city_162</td><td>Male</td></tr></tbody></table>"
      ],
      "text/latex": [
       "\\begin{tabular}{r|ccc}\n",
       "\t& Potential & Location & Gender\\\\\n",
       "\t\\hline\n",
       "\t& Int64 & String & String?\\\\\n",
       "\t\\hline\n",
       "\t1 & 8949 & city\\_103 & Male \\\\\n",
       "\t2 & 29725 & city\\_40 & Male \\\\\n",
       "\t3 & 11561 & city\\_21 & \\emph{missing} \\\\\n",
       "\t4 & 33241 & city\\_115 & \\emph{missing} \\\\\n",
       "\t5 & 666 & city\\_162 & Male \\\\\n",
       "\\end{tabular}\n"
      ],
      "text/plain": [
       "\u001b[1m5×3 DataFrame\u001b[0m\n",
       "\u001b[1m Row \u001b[0m│\u001b[1m Potential \u001b[0m\u001b[1m Location \u001b[0m\u001b[1m Gender  \u001b[0m\n",
       "\u001b[1m     \u001b[0m│\u001b[90m Int64     \u001b[0m\u001b[90m String   \u001b[0m\u001b[90m String? \u001b[0m\n",
       "─────┼──────────────────────────────\n",
       "   1 │      8949  city_103  Male\n",
       "   2 │     29725  city_40   Male\n",
       "   3 │     11561  city_21  \u001b[90m missing \u001b[0m\n",
       "   4 │     33241  city_115 \u001b[90m missing \u001b[0m\n",
       "   5 │       666  city_162  Male"
      ]
     },
     "execution_count": 7,
     "metadata": {},
     "output_type": "execute_result"
    }
   ],
   "source": [
    "### Rename a column at a specified position\n",
    "rename!(df, 3 => :Gender)"
   ]
  },
  {
   "cell_type": "markdown",
   "metadata": {},
   "source": [
    "## Reorder Columns"
   ]
  },
  {
   "cell_type": "code",
   "execution_count": 8,
   "metadata": {},
   "outputs": [
    {
     "data": {
      "text/html": [
       "<table class=\"data-frame\"><thead><tr><th></th><th>Location</th><th>Potential</th><th>Gender</th></tr><tr><th></th><th>String</th><th>Int64</th><th>String?</th></tr></thead><tbody><p>5 rows × 3 columns</p><tr><th>1</th><td>city_103</td><td>8949</td><td>Male</td></tr><tr><th>2</th><td>city_40</td><td>29725</td><td>Male</td></tr><tr><th>3</th><td>city_21</td><td>11561</td><td><em>missing</em></td></tr><tr><th>4</th><td>city_115</td><td>33241</td><td><em>missing</em></td></tr><tr><th>5</th><td>city_162</td><td>666</td><td>Male</td></tr></tbody></table>"
      ],
      "text/latex": [
       "\\begin{tabular}{r|ccc}\n",
       "\t& Location & Potential & Gender\\\\\n",
       "\t\\hline\n",
       "\t& String & Int64 & String?\\\\\n",
       "\t\\hline\n",
       "\t1 & city\\_103 & 8949 & Male \\\\\n",
       "\t2 & city\\_40 & 29725 & Male \\\\\n",
       "\t3 & city\\_21 & 11561 & \\emph{missing} \\\\\n",
       "\t4 & city\\_115 & 33241 & \\emph{missing} \\\\\n",
       "\t5 & city\\_162 & 666 & Male \\\\\n",
       "\\end{tabular}\n"
      ],
      "text/plain": [
       "\u001b[1m5×3 DataFrame\u001b[0m\n",
       "\u001b[1m Row \u001b[0m│\u001b[1m Location \u001b[0m\u001b[1m Potential \u001b[0m\u001b[1m Gender  \u001b[0m\n",
       "\u001b[1m     \u001b[0m│\u001b[90m String   \u001b[0m\u001b[90m Int64     \u001b[0m\u001b[90m String? \u001b[0m\n",
       "─────┼──────────────────────────────\n",
       "   1 │ city_103       8949  Male\n",
       "   2 │ city_40       29725  Male\n",
       "   3 │ city_21       11561 \u001b[90m missing \u001b[0m\n",
       "   4 │ city_115      33241 \u001b[90m missing \u001b[0m\n",
       "   5 │ city_162        666  Male"
      ]
     },
     "execution_count": 8,
     "metadata": {},
     "output_type": "execute_result"
    }
   ],
   "source": [
    "dfN = df[!, [2, 1, 3]]"
   ]
  },
  {
   "cell_type": "code",
   "execution_count": 9,
   "metadata": {},
   "outputs": [
    {
     "data": {
      "text/html": [
       "<table class=\"data-frame\"><thead><tr><th></th><th>Potential</th><th>Gender</th><th>Location</th></tr><tr><th></th><th>Int64</th><th>String?</th><th>String</th></tr></thead><tbody><p>5 rows × 3 columns</p><tr><th>1</th><td>8949</td><td>Male</td><td>city_103</td></tr><tr><th>2</th><td>29725</td><td>Male</td><td>city_40</td></tr><tr><th>3</th><td>11561</td><td><em>missing</em></td><td>city_21</td></tr><tr><th>4</th><td>33241</td><td><em>missing</em></td><td>city_115</td></tr><tr><th>5</th><td>666</td><td>Male</td><td>city_162</td></tr></tbody></table>"
      ],
      "text/latex": [
       "\\begin{tabular}{r|ccc}\n",
       "\t& Potential & Gender & Location\\\\\n",
       "\t\\hline\n",
       "\t& Int64 & String? & String\\\\\n",
       "\t\\hline\n",
       "\t1 & 8949 & Male & city\\_103 \\\\\n",
       "\t2 & 29725 & Male & city\\_40 \\\\\n",
       "\t3 & 11561 & \\emph{missing} & city\\_21 \\\\\n",
       "\t4 & 33241 & \\emph{missing} & city\\_115 \\\\\n",
       "\t5 & 666 & Male & city\\_162 \\\\\n",
       "\\end{tabular}\n"
      ],
      "text/plain": [
       "\u001b[1m5×3 DataFrame\u001b[0m\n",
       "\u001b[1m Row \u001b[0m│\u001b[1m Potential \u001b[0m\u001b[1m Gender  \u001b[0m\u001b[1m Location \u001b[0m\n",
       "\u001b[1m     \u001b[0m│\u001b[90m Int64     \u001b[0m\u001b[90m String? \u001b[0m\u001b[90m String   \u001b[0m\n",
       "─────┼──────────────────────────────\n",
       "   1 │      8949  Male     city_103\n",
       "   2 │     29725  Male     city_40\n",
       "   3 │     11561 \u001b[90m missing \u001b[0m city_21\n",
       "   4 │     33241 \u001b[90m missing \u001b[0m city_115\n",
       "   5 │       666  Male     city_162"
      ]
     },
     "execution_count": 9,
     "metadata": {},
     "output_type": "execute_result"
    }
   ],
   "source": [
    "#fN = df[!:[:Potential, :Location, :MF]] ### Does not work\n",
    "dfN = select(df, [:Potential, :Gender, :Location])"
   ]
  },
  {
   "cell_type": "code",
   "execution_count": 18,
   "metadata": {},
   "outputs": [
    {
     "data": {
      "text/html": [
       "<table class=\"data-frame\"><thead><tr><th></th><th>Gender</th><th>Location</th><th>Potential</th><th>D</th></tr><tr><th></th><th>String?</th><th>String</th><th>Int64</th><th>String</th></tr></thead><tbody><p>5 rows × 4 columns</p><tr><th>1</th><td>Male</td><td>city_103</td><td>8949</td><td>Great</td></tr><tr><th>2</th><td>Male</td><td>city_40</td><td>29725</td><td>Great</td></tr><tr><th>3</th><td><em>missing</em></td><td>city_21</td><td>11561</td><td>Great</td></tr><tr><th>4</th><td><em>missing</em></td><td>city_115</td><td>33241</td><td>Great</td></tr><tr><th>5</th><td>Male</td><td>city_162</td><td>666</td><td>Great</td></tr></tbody></table>"
      ],
      "text/latex": [
       "\\begin{tabular}{r|cccc}\n",
       "\t& Gender & Location & Potential & D\\\\\n",
       "\t\\hline\n",
       "\t& String? & String & Int64 & String\\\\\n",
       "\t\\hline\n",
       "\t1 & Male & city\\_103 & 8949 & Great \\\\\n",
       "\t2 & Male & city\\_40 & 29725 & Great \\\\\n",
       "\t3 & \\emph{missing} & city\\_21 & 11561 & Great \\\\\n",
       "\t4 & \\emph{missing} & city\\_115 & 33241 & Great \\\\\n",
       "\t5 & Male & city\\_162 & 666 & Great \\\\\n",
       "\\end{tabular}\n"
      ],
      "text/plain": [
       "\u001b[1m5×4 DataFrame\u001b[0m\n",
       "\u001b[1m Row \u001b[0m│\u001b[1m Gender  \u001b[0m\u001b[1m Location \u001b[0m\u001b[1m Potential \u001b[0m\u001b[1m D      \u001b[0m\n",
       "\u001b[1m     \u001b[0m│\u001b[90m String? \u001b[0m\u001b[90m String   \u001b[0m\u001b[90m Int64     \u001b[0m\u001b[90m String \u001b[0m\n",
       "─────┼──────────────────────────────────────\n",
       "   1 │ Male     city_103       8949  Great\n",
       "   2 │ Male     city_40       29725  Great\n",
       "   3 │\u001b[90m missing \u001b[0m city_21       11561  Great\n",
       "   4 │\u001b[90m missing \u001b[0m city_115      33241  Great\n",
       "   5 │ Male     city_162        666  Great"
      ]
     },
     "execution_count": 18,
     "metadata": {},
     "output_type": "execute_result"
    }
   ],
   "source": [
    "### Reverse order\n",
    "# dfN = df[:,::-1]   ### a third place does not exist in Julia, but a reverse command\n",
    "dfN = df[:,reverse(names(df))]"
   ]
  },
  {
   "cell_type": "code",
   "execution_count": 11,
   "metadata": {},
   "outputs": [
    {
     "data": {
      "text/html": [
       "<table class=\"data-frame\"><thead><tr><th></th><th>Gender</th></tr><tr><th></th><th>String?</th></tr></thead><tbody><p>5 rows × 1 columns</p><tr><th>1</th><td>Male</td></tr><tr><th>2</th><td>Male</td></tr><tr><th>3</th><td><em>missing</em></td></tr><tr><th>4</th><td><em>missing</em></td></tr><tr><th>5</th><td>Male</td></tr></tbody></table>"
      ],
      "text/latex": [
       "\\begin{tabular}{r|c}\n",
       "\t& Gender\\\\\n",
       "\t\\hline\n",
       "\t& String?\\\\\n",
       "\t\\hline\n",
       "\t1 & Male \\\\\n",
       "\t2 & Male \\\\\n",
       "\t3 & \\emph{missing} \\\\\n",
       "\t4 & \\emph{missing} \\\\\n",
       "\t5 & Male \\\\\n",
       "\\end{tabular}\n"
      ],
      "text/plain": [
       "\u001b[1m5×1 DataFrame\u001b[0m\n",
       "\u001b[1m Row \u001b[0m│\u001b[1m Gender  \u001b[0m\n",
       "\u001b[1m     \u001b[0m│\u001b[90m String? \u001b[0m\n",
       "─────┼─────────\n",
       "   1 │ Male\n",
       "   2 │ Male\n",
       "   3 │\u001b[90m missing \u001b[0m\n",
       "   4 │\u001b[90m missing \u001b[0m\n",
       "   5 │ Male"
      ]
     },
     "execution_count": 11,
     "metadata": {},
     "output_type": "execute_result"
    }
   ],
   "source": [
    "### Keep columns from col 3 onwards\n",
    "dfN = df[:,3:end]"
   ]
  },
  {
   "cell_type": "markdown",
   "metadata": {},
   "source": [
    "## Adding Columns - Operating on Columns"
   ]
  },
  {
   "cell_type": "code",
   "execution_count": 12,
   "metadata": {},
   "outputs": [
    {
     "data": {
      "text/html": [
       "<table class=\"data-frame\"><thead><tr><th></th><th>Potential</th><th>Location</th><th>Gender</th><th>A</th></tr><tr><th></th><th>Int64</th><th>String</th><th>String?</th><th>Int64</th></tr></thead><tbody><p>5 rows × 4 columns</p><tr><th>1</th><td>8949</td><td>city_103</td><td>Male</td><td>1</td></tr><tr><th>2</th><td>29725</td><td>city_40</td><td>Male</td><td>2</td></tr><tr><th>3</th><td>11561</td><td>city_21</td><td><em>missing</em></td><td>3</td></tr><tr><th>4</th><td>33241</td><td>city_115</td><td><em>missing</em></td><td>4</td></tr><tr><th>5</th><td>666</td><td>city_162</td><td>Male</td><td>5</td></tr></tbody></table>"
      ],
      "text/latex": [
       "\\begin{tabular}{r|cccc}\n",
       "\t& Potential & Location & Gender & A\\\\\n",
       "\t\\hline\n",
       "\t& Int64 & String & String? & Int64\\\\\n",
       "\t\\hline\n",
       "\t1 & 8949 & city\\_103 & Male & 1 \\\\\n",
       "\t2 & 29725 & city\\_40 & Male & 2 \\\\\n",
       "\t3 & 11561 & city\\_21 & \\emph{missing} & 3 \\\\\n",
       "\t4 & 33241 & city\\_115 & \\emph{missing} & 4 \\\\\n",
       "\t5 & 666 & city\\_162 & Male & 5 \\\\\n",
       "\\end{tabular}\n"
      ],
      "text/plain": [
       "\u001b[1m5×4 DataFrame\u001b[0m\n",
       "\u001b[1m Row \u001b[0m│\u001b[1m Potential \u001b[0m\u001b[1m Location \u001b[0m\u001b[1m Gender  \u001b[0m\u001b[1m A     \u001b[0m\n",
       "\u001b[1m     \u001b[0m│\u001b[90m Int64     \u001b[0m\u001b[90m String   \u001b[0m\u001b[90m String? \u001b[0m\u001b[90m Int64 \u001b[0m\n",
       "─────┼─────────────────────────────────────\n",
       "   1 │      8949  city_103  Male         1\n",
       "   2 │     29725  city_40   Male         2\n",
       "   3 │     11561  city_21  \u001b[90m missing \u001b[0m     3\n",
       "   4 │     33241  city_115 \u001b[90m missing \u001b[0m     4\n",
       "   5 │       666  city_162  Male         5"
      ]
     },
     "execution_count": 12,
     "metadata": {},
     "output_type": "execute_result"
    }
   ],
   "source": [
    "### Add to the end, a column with numbers (must have length of rows)\n",
    "n = nrow(df)\n",
    "dfN = copy(df)\n",
    "dfN.A = 1:n\n",
    "dfN"
   ]
  },
  {
   "cell_type": "code",
   "execution_count": 13,
   "metadata": {},
   "outputs": [
    {
     "data": {
      "text/html": [
       "<table class=\"data-frame\"><thead><tr><th></th><th>Potential</th><th>Location</th><th>Gender</th><th>Rating</th></tr><tr><th></th><th>Int64</th><th>String</th><th>String?</th><th>String</th></tr></thead><tbody><p>5 rows × 4 columns</p><tr><th>1</th><td>8949</td><td>city_103</td><td>Male</td><td>Amazing</td></tr><tr><th>2</th><td>29725</td><td>city_40</td><td>Male</td><td>Amazing</td></tr><tr><th>3</th><td>11561</td><td>city_21</td><td><em>missing</em></td><td>Amazing</td></tr><tr><th>4</th><td>33241</td><td>city_115</td><td><em>missing</em></td><td>Amazing</td></tr><tr><th>5</th><td>666</td><td>city_162</td><td>Male</td><td>Amazing</td></tr></tbody></table>"
      ],
      "text/latex": [
       "\\begin{tabular}{r|cccc}\n",
       "\t& Potential & Location & Gender & Rating\\\\\n",
       "\t\\hline\n",
       "\t& Int64 & String & String? & String\\\\\n",
       "\t\\hline\n",
       "\t1 & 8949 & city\\_103 & Male & Amazing \\\\\n",
       "\t2 & 29725 & city\\_40 & Male & Amazing \\\\\n",
       "\t3 & 11561 & city\\_21 & \\emph{missing} & Amazing \\\\\n",
       "\t4 & 33241 & city\\_115 & \\emph{missing} & Amazing \\\\\n",
       "\t5 & 666 & city\\_162 & Male & Amazing \\\\\n",
       "\\end{tabular}\n"
      ],
      "text/plain": [
       "\u001b[1m5×4 DataFrame\u001b[0m\n",
       "\u001b[1m Row \u001b[0m│\u001b[1m Potential \u001b[0m\u001b[1m Location \u001b[0m\u001b[1m Gender  \u001b[0m\u001b[1m Rating  \u001b[0m\n",
       "\u001b[1m     \u001b[0m│\u001b[90m Int64     \u001b[0m\u001b[90m String   \u001b[0m\u001b[90m String? \u001b[0m\u001b[90m String  \u001b[0m\n",
       "─────┼───────────────────────────────────────\n",
       "   1 │      8949  city_103  Male     Amazing\n",
       "   2 │     29725  city_40   Male     Amazing\n",
       "   3 │     11561  city_21  \u001b[90m missing \u001b[0m Amazing\n",
       "   4 │     33241  city_115 \u001b[90m missing \u001b[0m Amazing\n",
       "   5 │       666  city_162  Male     Amazing"
      ]
     },
     "execution_count": 13,
     "metadata": {},
     "output_type": "execute_result"
    }
   ],
   "source": [
    "dfN = copy(df)\n",
    "dfN[!, :Rating] .= \"Amazing\"\n",
    "dfN"
   ]
  },
  {
   "cell_type": "code",
   "execution_count": 14,
   "metadata": {},
   "outputs": [
    {
     "data": {
      "text/html": [
       "<table class=\"data-frame\"><thead><tr><th></th><th>Potential</th><th>Location</th><th>Gender</th><th>Rating</th><th>Comment</th></tr><tr><th></th><th>Int64</th><th>String</th><th>String?</th><th>String</th><th>String</th></tr></thead><tbody><p>5 rows × 5 columns</p><tr><th>1</th><td>8949</td><td>city_103</td><td>Male</td><td>Amazing</td><td>Great</td></tr><tr><th>2</th><td>29725</td><td>city_40</td><td>Male</td><td>Amazing</td><td>Great</td></tr><tr><th>3</th><td>11561</td><td>city_21</td><td><em>missing</em></td><td>Amazing</td><td>Great</td></tr><tr><th>4</th><td>33241</td><td>city_115</td><td><em>missing</em></td><td>Amazing</td><td>Great</td></tr><tr><th>5</th><td>666</td><td>city_162</td><td>Male</td><td>Amazing</td><td>Great</td></tr></tbody></table>"
      ],
      "text/latex": [
       "\\begin{tabular}{r|ccccc}\n",
       "\t& Potential & Location & Gender & Rating & Comment\\\\\n",
       "\t\\hline\n",
       "\t& Int64 & String & String? & String & String\\\\\n",
       "\t\\hline\n",
       "\t1 & 8949 & city\\_103 & Male & Amazing & Great \\\\\n",
       "\t2 & 29725 & city\\_40 & Male & Amazing & Great \\\\\n",
       "\t3 & 11561 & city\\_21 & \\emph{missing} & Amazing & Great \\\\\n",
       "\t4 & 33241 & city\\_115 & \\emph{missing} & Amazing & Great \\\\\n",
       "\t5 & 666 & city\\_162 & Male & Amazing & Great \\\\\n",
       "\\end{tabular}\n"
      ],
      "text/plain": [
       "\u001b[1m5×5 DataFrame\u001b[0m\n",
       "\u001b[1m Row \u001b[0m│\u001b[1m Potential \u001b[0m\u001b[1m Location \u001b[0m\u001b[1m Gender  \u001b[0m\u001b[1m Rating  \u001b[0m\u001b[1m Comment \u001b[0m\n",
       "\u001b[1m     \u001b[0m│\u001b[90m Int64     \u001b[0m\u001b[90m String   \u001b[0m\u001b[90m String? \u001b[0m\u001b[90m String  \u001b[0m\u001b[90m String  \u001b[0m\n",
       "─────┼────────────────────────────────────────────────\n",
       "   1 │      8949  city_103  Male     Amazing  Great\n",
       "   2 │     29725  city_40   Male     Amazing  Great\n",
       "   3 │     11561  city_21  \u001b[90m missing \u001b[0m Amazing  Great\n",
       "   4 │     33241  city_115 \u001b[90m missing \u001b[0m Amazing  Great\n",
       "   5 │       666  city_162  Male     Amazing  Great"
      ]
     },
     "execution_count": 14,
     "metadata": {},
     "output_type": "execute_result"
    }
   ],
   "source": [
    "### Add to the end, a column with the same string.\n",
    "v = fill(\"Great\", n)\n",
    "dfN.Comment = v\n",
    "dfN.Comment = fill(\"Great\", n)\n",
    "dfN"
   ]
  },
  {
   "cell_type": "code",
   "execution_count": 15,
   "metadata": {},
   "outputs": [
    {
     "data": {
      "text/html": [
       "<table class=\"data-frame\"><thead><tr><th></th><th>D</th><th>Potential</th><th>Location</th><th>Gender</th></tr><tr><th></th><th>String</th><th>Int64</th><th>String</th><th>String?</th></tr></thead><tbody><p>5 rows × 4 columns</p><tr><th>1</th><td>Great</td><td>8949</td><td>city_103</td><td>Male</td></tr><tr><th>2</th><td>Great</td><td>29725</td><td>city_40</td><td>Male</td></tr><tr><th>3</th><td>Great</td><td>11561</td><td>city_21</td><td><em>missing</em></td></tr><tr><th>4</th><td>Great</td><td>33241</td><td>city_115</td><td><em>missing</em></td></tr><tr><th>5</th><td>Great</td><td>666</td><td>city_162</td><td>Male</td></tr></tbody></table>"
      ],
      "text/latex": [
       "\\begin{tabular}{r|cccc}\n",
       "\t& D & Potential & Location & Gender\\\\\n",
       "\t\\hline\n",
       "\t& String & Int64 & String & String?\\\\\n",
       "\t\\hline\n",
       "\t1 & Great & 8949 & city\\_103 & Male \\\\\n",
       "\t2 & Great & 29725 & city\\_40 & Male \\\\\n",
       "\t3 & Great & 11561 & city\\_21 & \\emph{missing} \\\\\n",
       "\t4 & Great & 33241 & city\\_115 & \\emph{missing} \\\\\n",
       "\t5 & Great & 666 & city\\_162 & Male \\\\\n",
       "\\end{tabular}\n"
      ],
      "text/plain": [
       "\u001b[1m5×4 DataFrame\u001b[0m\n",
       "\u001b[1m Row \u001b[0m│\u001b[1m D      \u001b[0m\u001b[1m Potential \u001b[0m\u001b[1m Location \u001b[0m\u001b[1m Gender  \u001b[0m\n",
       "\u001b[1m     \u001b[0m│\u001b[90m String \u001b[0m\u001b[90m Int64     \u001b[0m\u001b[90m String   \u001b[0m\u001b[90m String? \u001b[0m\n",
       "─────┼──────────────────────────────────────\n",
       "   1 │ Great        8949  city_103  Male\n",
       "   2 │ Great       29725  city_40   Male\n",
       "   3 │ Great       11561  city_21  \u001b[90m missing \u001b[0m\n",
       "   4 │ Great       33241  city_115 \u001b[90m missing \u001b[0m\n",
       "   5 │ Great         666  city_162  Male"
      ]
     },
     "execution_count": 15,
     "metadata": {},
     "output_type": "execute_result"
    }
   ],
   "source": [
    "### Insert the clumns at  a certain position a position\n",
    "dfN = copy(df)\n",
    "#insertcols!(df, 1, :B => [1,2,3,4,5])\n",
    "dfN = insertcols!(df, 1, :D => v)"
   ]
  },
  {
   "cell_type": "code",
   "execution_count": 16,
   "metadata": {},
   "outputs": [
    {
     "data": {
      "text/html": [
       "<table class=\"data-frame\"><thead><tr><th></th><th>D</th><th>Potential</th><th>Location</th><th>Gender</th><th>x1</th></tr><tr><th></th><th>String</th><th>Int64</th><th>String</th><th>String?</th><th>Int64</th></tr></thead><tbody><p>5 rows × 5 columns</p><tr><th>1</th><td>Great</td><td>8949</td><td>city_103</td><td>Male</td><td>1</td></tr><tr><th>2</th><td>Great</td><td>29725</td><td>city_40</td><td>Male</td><td>2</td></tr><tr><th>3</th><td>Great</td><td>11561</td><td>city_21</td><td><em>missing</em></td><td>3</td></tr><tr><th>4</th><td>Great</td><td>33241</td><td>city_115</td><td><em>missing</em></td><td>4</td></tr><tr><th>5</th><td>Great</td><td>666</td><td>city_162</td><td>Male</td><td>5</td></tr></tbody></table>"
      ],
      "text/latex": [
       "\\begin{tabular}{r|ccccc}\n",
       "\t& D & Potential & Location & Gender & x1\\\\\n",
       "\t\\hline\n",
       "\t& String & Int64 & String & String? & Int64\\\\\n",
       "\t\\hline\n",
       "\t1 & Great & 8949 & city\\_103 & Male & 1 \\\\\n",
       "\t2 & Great & 29725 & city\\_40 & Male & 2 \\\\\n",
       "\t3 & Great & 11561 & city\\_21 & \\emph{missing} & 3 \\\\\n",
       "\t4 & Great & 33241 & city\\_115 & \\emph{missing} & 4 \\\\\n",
       "\t5 & Great & 666 & city\\_162 & Male & 5 \\\\\n",
       "\\end{tabular}\n"
      ],
      "text/plain": [
       "\u001b[1m5×5 DataFrame\u001b[0m\n",
       "\u001b[1m Row \u001b[0m│\u001b[1m D      \u001b[0m\u001b[1m Potential \u001b[0m\u001b[1m Location \u001b[0m\u001b[1m Gender  \u001b[0m\u001b[1m x1    \u001b[0m\n",
       "\u001b[1m     \u001b[0m│\u001b[90m String \u001b[0m\u001b[90m Int64     \u001b[0m\u001b[90m String   \u001b[0m\u001b[90m String? \u001b[0m\u001b[90m Int64 \u001b[0m\n",
       "─────┼─────────────────────────────────────────────\n",
       "   1 │ Great        8949  city_103  Male         1\n",
       "   2 │ Great       29725  city_40   Male         2\n",
       "   3 │ Great       11561  city_21  \u001b[90m missing \u001b[0m     3\n",
       "   4 │ Great       33241  city_115 \u001b[90m missing \u001b[0m     4\n",
       "   5 │ Great         666  city_162  Male         5"
      ]
     },
     "execution_count": 16,
     "metadata": {},
     "output_type": "execute_result"
    }
   ],
   "source": [
    "dfN = hcat(df,[1,2,3,4,5], makeunique=true)"
   ]
  }
 ],
 "metadata": {
  "kernelspec": {
   "display_name": "Julia 1.4.1",
   "language": "julia",
   "name": "julia-1.4"
  },
  "language_info": {
   "file_extension": ".jl",
   "mimetype": "application/julia",
   "name": "julia",
   "version": "1.4.1"
  }
 },
 "nbformat": 4,
 "nbformat_minor": 4
}
