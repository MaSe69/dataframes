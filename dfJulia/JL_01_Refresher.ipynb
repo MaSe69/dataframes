{
 "cells": [
  {
   "cell_type": "markdown",
   "metadata": {},
   "source": [
    "# Julia - For Developers\n",
    "## Text Output and Some Primitives"
   ]
  },
  {
   "cell_type": "code",
   "execution_count": 1,
   "metadata": {},
   "outputs": [
    {
     "name": "stdout",
     "output_type": "stream",
     "text": [
      "Hello, Julia"
     ]
    }
   ],
   "source": [
    "print(\"Hello, Julia\")"
   ]
  },
  {
   "cell_type": "code",
   "execution_count": 2,
   "metadata": {},
   "outputs": [
    {
     "name": "stdout",
     "output_type": "stream",
     "text": [
      "Hello Julia\n"
     ]
    }
   ],
   "source": [
    "language = \"Julia\"\n",
    "println(\"Hello \", language)"
   ]
  },
  {
   "cell_type": "markdown",
   "metadata": {},
   "source": [
    "## Noteworthy\n",
    "Julia is \"One Based\""
   ]
  },
  {
   "cell_type": "code",
   "execution_count": 3,
   "metadata": {},
   "outputs": [
    {
     "name": "stdout",
     "output_type": "stream",
     "text": [
      "J"
     ]
    }
   ],
   "source": [
    "print(language[1])"
   ]
  },
  {
   "cell_type": "markdown",
   "metadata": {},
   "source": [
    "Strings are immutable\n",
    "This does not work: \n",
    "language[1] = \"C\""
   ]
  },
  {
   "cell_type": "code",
   "execution_count": 4,
   "metadata": {},
   "outputs": [
    {
     "name": "stdout",
     "output_type": "stream",
     "text": [
      "Culia"
     ]
    }
   ],
   "source": [
    "### Common  workaround for immutable Strings: New string composed of parts of old string\n",
    "language2 = \"C\" * language[2:end]\n",
    "print(language2)"
   ]
  },
  {
   "cell_type": "code",
   "execution_count": 5,
   "metadata": {},
   "outputs": [
    {
     "name": "stdout",
     "output_type": "stream",
     "text": [
      "StringInt64Float64Int64\n",
      "38.5 38\n"
     ]
    }
   ],
   "source": [
    "### Implicite type definition by representative + Type conversion\n",
    "n = 5\n",
    "x = 7.7\n",
    "y = n * x\n",
    "myInt = floor(y)    ### Conversion is a bit more complicated here in Julia\n",
    "myInt = convert(Int,myInt)\n",
    "println(typeof(language), typeof(n), typeof(y), typeof(myInt))\n",
    "println(y, \" \" , myInt) ### round down by default"
   ]
  },
  {
   "cell_type": "markdown",
   "metadata": {},
   "source": [
    "## Arrays"
   ]
  },
  {
   "cell_type": "code",
   "execution_count": 6,
   "metadata": {},
   "outputs": [],
   "source": [
    "### Noteworthy on Arrays"
   ]
  },
  {
   "cell_type": "code",
   "execution_count": 7,
   "metadata": {},
   "outputs": [
    {
     "name": "stdout",
     "output_type": "stream",
     "text": [
      "Length of this array 8\n",
      "Last element in this array: 8\n"
     ]
    }
   ],
   "source": [
    "myArray = [1,2,3,4,5,6,7,8]\n",
    "myLength = length(myArray)\n",
    "println(\"Length of this array $myLength\") ### Number of elements in the array\n",
    "myLast = last(myArray)\n",
    "println(\"Last element in this array: $myLast\") ### Last element in the array"
   ]
  },
  {
   "cell_type": "code",
   "execution_count": 8,
   "metadata": {},
   "outputs": [
    {
     "name": "stdout",
     "output_type": "stream",
     "text": [
      "[1, 3, 5, 7]\n",
      "[7, 5, 3, 1]"
     ]
    }
   ],
   "source": [
    "println(myArray[1:2:8])   ### Slicing (The interval is the last of the 3 places: [start:interval:end])\n",
    "print(myArray[7:-2:1])    ### The 'last element is included"
   ]
  },
  {
   "cell_type": "markdown",
   "metadata": {},
   "source": [
    "## Conditionals"
   ]
  },
  {
   "cell_type": "code",
   "execution_count": 9,
   "metadata": {},
   "outputs": [
    {
     "name": "stdout",
     "output_type": "stream",
     "text": [
      "Negative"
     ]
    }
   ],
   "source": [
    "n = -5\n",
    "if n > 0 ### Mind the colon at the end \n",
    "print(\"Positive\") ###  No need of an indent (e.g. 3 blanks, 1 tab)   \n",
    "elseif n < 0\n",
    "    print(\"Negative\")\n",
    "else               ### but you can have an indent, when you want to\n",
    "    print(\"Zero\")   \n",
    "end"
   ]
  },
  {
   "cell_type": "markdown",
   "metadata": {},
   "source": [
    "## Loops"
   ]
  },
  {
   "cell_type": "code",
   "execution_count": 10,
   "metadata": {},
   "outputs": [
    {
     "name": "stdout",
     "output_type": "stream",
     "text": [
      "1 1\n",
      "2 2\n",
      "3 3\n",
      "4 4\n"
     ]
    }
   ],
   "source": [
    "for (index, name) in enumerate(myArray) ### For the index, you need to use 'enumerate'\n",
    "    if index > 4\n",
    "        break\n",
    "    end\n",
    "    println(index, \" \", name)\n",
    "end"
   ]
  },
  {
   "cell_type": "markdown",
   "metadata": {},
   "source": [
    "## Dictionaries"
   ]
  },
  {
   "cell_type": "code",
   "execution_count": 11,
   "metadata": {},
   "outputs": [
    {
     "data": {
      "text/plain": [
       "Dict{String,Array{Int64,1}} with 2 entries:\n",
       "  \"DataSecond\" => [9, 8, 7, 6, 5]\n",
       "  \"DataFirst\"  => [1, 2, 3, 4, 5]"
      ]
     },
     "execution_count": 11,
     "metadata": {},
     "output_type": "execute_result"
    }
   ],
   "source": [
    "myDict = Dict(\"DataFirst\" => [1, 2, 3, 4, 5], \"DataSecond\" => [9, 8, 7, 6, 5]) ### Dicts are unordered (!)"
   ]
  },
  {
   "cell_type": "code",
   "execution_count": 12,
   "metadata": {},
   "outputs": [
    {
     "name": "stdout",
     "output_type": "stream",
     "text": [
      "DataSecond[9, 8, 7, 6, 5]DataFirst[1, 2, 3, 4, 5]"
     ]
    }
   ],
   "source": [
    "for (key, value) in myDict ### If you do not need key or value, you can replace it by an underscore \"_\"\n",
    "    print(key, value)  \n",
    "end"
   ]
  },
  {
   "cell_type": "markdown",
   "metadata": {},
   "source": [
    "## Exercise\n",
    "Program the \"Buzz-App\" in Python\n",
    "Counting up numbers, if multiple of 3: output \"buzz\", if multiple of 5 output \"whizz\""
   ]
  },
  {
   "cell_type": "code",
   "execution_count": null,
   "metadata": {},
   "outputs": [],
   "source": []
  }
 ],
 "metadata": {
  "kernelspec": {
   "display_name": "Julia 1.4.1",
   "language": "julia",
   "name": "julia-1.4"
  },
  "language_info": {
   "file_extension": ".jl",
   "mimetype": "application/julia",
   "name": "julia",
   "version": "1.4.1"
  }
 },
 "nbformat": 4,
 "nbformat_minor": 4
}
